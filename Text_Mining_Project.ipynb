{
  "cells": [
    {
      "cell_type": "markdown",
      "metadata": {
        "id": "l5ixgX8CE9C6"
      },
      "source": [
        "# Text Mining Project\n",
        "\n",
        "Lie Reubensto - 2540124633\n",
        "\n",
        "Dataset: <a href=\"https://www.kaggle.com/datasets/udacity/armenian-online-job-postings?resource=download\">Armenian Online Job Postings (Kaggle)</a>"
      ]
    },
    {
      "cell_type": "markdown",
      "metadata": {
        "id": "eIBTkvzWwYpB"
      },
      "source": [
        "# Preparation"
      ]
    },
    {
      "cell_type": "code",
      "execution_count": null,
      "metadata": {
        "id": "Y-5GHNJvWpn1"
      },
      "outputs": [],
      "source": [
        "# Import Libraries\n",
        "import pandas as pd\n",
        "import numpy as np\n",
        "import requests\n",
        "import re\n",
        "import nltk\n",
        "from nltk.tokenize import word_tokenize"
      ]
    },
    {
      "cell_type": "code",
      "execution_count": null,
      "metadata": {
        "colab": {
          "base_uri": "https://localhost:8080/"
        },
        "id": "UMyvqRU9yrpR",
        "outputId": "a7e1d7c0-4765-45b4-c6e8-7567e7707e9a"
      },
      "outputs": [
        {
          "name": "stdout",
          "output_type": "stream",
          "text": [
            "Mounted at /content/drive\n"
          ]
        }
      ],
      "source": [
        "# Mount Google Colab\n",
        "from google.colab import drive\n",
        "drive.mount('/content/drive')"
      ]
    },
    {
      "cell_type": "code",
      "execution_count": null,
      "metadata": {
        "colab": {
          "base_uri": "https://localhost:8080/",
          "height": 550
        },
        "id": "N5ylUw17bV3x",
        "outputId": "f00fbe7f-106f-43d7-f05b-235469f4f187"
      },
      "outputs": [
        {
          "data": {
            "application/vnd.google.colaboratory.intrinsic+json": {
              "type": "dataframe",
              "variable_name": "df"
            },
            "text/html": [
              "\n",
              "  <div id=\"df-78298443-ccd4-4588-88b7-e8bb45dbd0e5\" class=\"colab-df-container\">\n",
              "    <div>\n",
              "<style scoped>\n",
              "    .dataframe tbody tr th:only-of-type {\n",
              "        vertical-align: middle;\n",
              "    }\n",
              "\n",
              "    .dataframe tbody tr th {\n",
              "        vertical-align: top;\n",
              "    }\n",
              "\n",
              "    .dataframe thead th {\n",
              "        text-align: right;\n",
              "    }\n",
              "</style>\n",
              "<table border=\"1\" class=\"dataframe\">\n",
              "  <thead>\n",
              "    <tr style=\"text-align: right;\">\n",
              "      <th></th>\n",
              "      <th>jobpost</th>\n",
              "      <th>date</th>\n",
              "      <th>Title</th>\n",
              "      <th>Company</th>\n",
              "      <th>AnnouncementCode</th>\n",
              "      <th>Term</th>\n",
              "      <th>Eligibility</th>\n",
              "      <th>Audience</th>\n",
              "      <th>StartDate</th>\n",
              "      <th>Duration</th>\n",
              "      <th>...</th>\n",
              "      <th>Salary</th>\n",
              "      <th>ApplicationP</th>\n",
              "      <th>OpeningDate</th>\n",
              "      <th>Deadline</th>\n",
              "      <th>Notes</th>\n",
              "      <th>AboutC</th>\n",
              "      <th>Attach</th>\n",
              "      <th>Year</th>\n",
              "      <th>Month</th>\n",
              "      <th>IT</th>\n",
              "    </tr>\n",
              "  </thead>\n",
              "  <tbody>\n",
              "    <tr>\n",
              "      <th>0</th>\n",
              "      <td>AMERIA Investment Consulting Company\\r\\nJOB TI...</td>\n",
              "      <td>Jan 5, 2004</td>\n",
              "      <td>Chief Financial Officer</td>\n",
              "      <td>AMERIA Investment Consulting Company</td>\n",
              "      <td>NaN</td>\n",
              "      <td>NaN</td>\n",
              "      <td>NaN</td>\n",
              "      <td>NaN</td>\n",
              "      <td>NaN</td>\n",
              "      <td>NaN</td>\n",
              "      <td>...</td>\n",
              "      <td>NaN</td>\n",
              "      <td>To apply for this position, please submit a\\r\\...</td>\n",
              "      <td>NaN</td>\n",
              "      <td>26 January 2004</td>\n",
              "      <td>NaN</td>\n",
              "      <td>NaN</td>\n",
              "      <td>NaN</td>\n",
              "      <td>2004</td>\n",
              "      <td>1</td>\n",
              "      <td>False</td>\n",
              "    </tr>\n",
              "    <tr>\n",
              "      <th>1</th>\n",
              "      <td>International Research &amp; Exchanges Board (IREX...</td>\n",
              "      <td>Jan 7, 2004</td>\n",
              "      <td>Full-time Community Connections Intern (paid i...</td>\n",
              "      <td>International Research &amp; Exchanges Board (IREX)</td>\n",
              "      <td>NaN</td>\n",
              "      <td>NaN</td>\n",
              "      <td>NaN</td>\n",
              "      <td>NaN</td>\n",
              "      <td>NaN</td>\n",
              "      <td>3 months</td>\n",
              "      <td>...</td>\n",
              "      <td>NaN</td>\n",
              "      <td>Please submit a cover letter and resume to:\\r\\...</td>\n",
              "      <td>NaN</td>\n",
              "      <td>12 January 2004</td>\n",
              "      <td>NaN</td>\n",
              "      <td>The International Research &amp; Exchanges Board (...</td>\n",
              "      <td>NaN</td>\n",
              "      <td>2004</td>\n",
              "      <td>1</td>\n",
              "      <td>False</td>\n",
              "    </tr>\n",
              "    <tr>\n",
              "      <th>2</th>\n",
              "      <td>Caucasus Environmental NGO Network (CENN)\\r\\nJ...</td>\n",
              "      <td>Jan 7, 2004</td>\n",
              "      <td>Country Coordinator</td>\n",
              "      <td>Caucasus Environmental NGO Network (CENN)</td>\n",
              "      <td>NaN</td>\n",
              "      <td>NaN</td>\n",
              "      <td>NaN</td>\n",
              "      <td>NaN</td>\n",
              "      <td>NaN</td>\n",
              "      <td>Renewable annual contract\\r\\nPOSITION</td>\n",
              "      <td>...</td>\n",
              "      <td>NaN</td>\n",
              "      <td>Please send resume or CV toursula.kazarian@......</td>\n",
              "      <td>NaN</td>\n",
              "      <td>20 January 2004\\r\\nSTART DATE:  February 2004</td>\n",
              "      <td>NaN</td>\n",
              "      <td>The Caucasus Environmental NGO Network is a\\r\\...</td>\n",
              "      <td>NaN</td>\n",
              "      <td>2004</td>\n",
              "      <td>1</td>\n",
              "      <td>False</td>\n",
              "    </tr>\n",
              "    <tr>\n",
              "      <th>3</th>\n",
              "      <td>Manoff Group\\r\\nJOB TITLE:  BCC Specialist\\r\\n...</td>\n",
              "      <td>Jan 7, 2004</td>\n",
              "      <td>BCC Specialist</td>\n",
              "      <td>Manoff Group</td>\n",
              "      <td>NaN</td>\n",
              "      <td>NaN</td>\n",
              "      <td>NaN</td>\n",
              "      <td>NaN</td>\n",
              "      <td>NaN</td>\n",
              "      <td>NaN</td>\n",
              "      <td>...</td>\n",
              "      <td>NaN</td>\n",
              "      <td>Please send cover letter and resume to Amy\\r\\n...</td>\n",
              "      <td>NaN</td>\n",
              "      <td>23 January 2004\\r\\nSTART DATE:  Immediate</td>\n",
              "      <td>NaN</td>\n",
              "      <td>NaN</td>\n",
              "      <td>NaN</td>\n",
              "      <td>2004</td>\n",
              "      <td>1</td>\n",
              "      <td>False</td>\n",
              "    </tr>\n",
              "    <tr>\n",
              "      <th>4</th>\n",
              "      <td>Yerevan Brandy Company\\r\\nJOB TITLE:  Software...</td>\n",
              "      <td>Jan 10, 2004</td>\n",
              "      <td>Software Developer</td>\n",
              "      <td>Yerevan Brandy Company</td>\n",
              "      <td>NaN</td>\n",
              "      <td>NaN</td>\n",
              "      <td>NaN</td>\n",
              "      <td>NaN</td>\n",
              "      <td>NaN</td>\n",
              "      <td>NaN</td>\n",
              "      <td>...</td>\n",
              "      <td>NaN</td>\n",
              "      <td>Successful candidates should submit\\r\\n- CV; \\...</td>\n",
              "      <td>NaN</td>\n",
              "      <td>20 January 2004, 18:00</td>\n",
              "      <td>NaN</td>\n",
              "      <td>NaN</td>\n",
              "      <td>NaN</td>\n",
              "      <td>2004</td>\n",
              "      <td>1</td>\n",
              "      <td>True</td>\n",
              "    </tr>\n",
              "  </tbody>\n",
              "</table>\n",
              "<p>5 rows × 24 columns</p>\n",
              "</div>\n",
              "    <div class=\"colab-df-buttons\">\n",
              "\n",
              "  <div class=\"colab-df-container\">\n",
              "    <button class=\"colab-df-convert\" onclick=\"convertToInteractive('df-78298443-ccd4-4588-88b7-e8bb45dbd0e5')\"\n",
              "            title=\"Convert this dataframe to an interactive table.\"\n",
              "            style=\"display:none;\">\n",
              "\n",
              "  <svg xmlns=\"http://www.w3.org/2000/svg\" height=\"24px\" viewBox=\"0 -960 960 960\">\n",
              "    <path d=\"M120-120v-720h720v720H120Zm60-500h600v-160H180v160Zm220 220h160v-160H400v160Zm0 220h160v-160H400v160ZM180-400h160v-160H180v160Zm440 0h160v-160H620v160ZM180-180h160v-160H180v160Zm440 0h160v-160H620v160Z\"/>\n",
              "  </svg>\n",
              "    </button>\n",
              "\n",
              "  <style>\n",
              "    .colab-df-container {\n",
              "      display:flex;\n",
              "      gap: 12px;\n",
              "    }\n",
              "\n",
              "    .colab-df-convert {\n",
              "      background-color: #E8F0FE;\n",
              "      border: none;\n",
              "      border-radius: 50%;\n",
              "      cursor: pointer;\n",
              "      display: none;\n",
              "      fill: #1967D2;\n",
              "      height: 32px;\n",
              "      padding: 0 0 0 0;\n",
              "      width: 32px;\n",
              "    }\n",
              "\n",
              "    .colab-df-convert:hover {\n",
              "      background-color: #E2EBFA;\n",
              "      box-shadow: 0px 1px 2px rgba(60, 64, 67, 0.3), 0px 1px 3px 1px rgba(60, 64, 67, 0.15);\n",
              "      fill: #174EA6;\n",
              "    }\n",
              "\n",
              "    .colab-df-buttons div {\n",
              "      margin-bottom: 4px;\n",
              "    }\n",
              "\n",
              "    [theme=dark] .colab-df-convert {\n",
              "      background-color: #3B4455;\n",
              "      fill: #D2E3FC;\n",
              "    }\n",
              "\n",
              "    [theme=dark] .colab-df-convert:hover {\n",
              "      background-color: #434B5C;\n",
              "      box-shadow: 0px 1px 3px 1px rgba(0, 0, 0, 0.15);\n",
              "      filter: drop-shadow(0px 1px 2px rgba(0, 0, 0, 0.3));\n",
              "      fill: #FFFFFF;\n",
              "    }\n",
              "  </style>\n",
              "\n",
              "    <script>\n",
              "      const buttonEl =\n",
              "        document.querySelector('#df-78298443-ccd4-4588-88b7-e8bb45dbd0e5 button.colab-df-convert');\n",
              "      buttonEl.style.display =\n",
              "        google.colab.kernel.accessAllowed ? 'block' : 'none';\n",
              "\n",
              "      async function convertToInteractive(key) {\n",
              "        const element = document.querySelector('#df-78298443-ccd4-4588-88b7-e8bb45dbd0e5');\n",
              "        const dataTable =\n",
              "          await google.colab.kernel.invokeFunction('convertToInteractive',\n",
              "                                                    [key], {});\n",
              "        if (!dataTable) return;\n",
              "\n",
              "        const docLinkHtml = 'Like what you see? Visit the ' +\n",
              "          '<a target=\"_blank\" href=https://colab.research.google.com/notebooks/data_table.ipynb>data table notebook</a>'\n",
              "          + ' to learn more about interactive tables.';\n",
              "        element.innerHTML = '';\n",
              "        dataTable['output_type'] = 'display_data';\n",
              "        await google.colab.output.renderOutput(dataTable, element);\n",
              "        const docLink = document.createElement('div');\n",
              "        docLink.innerHTML = docLinkHtml;\n",
              "        element.appendChild(docLink);\n",
              "      }\n",
              "    </script>\n",
              "  </div>\n",
              "\n",
              "\n",
              "<div id=\"df-1dcc7276-b958-48d9-8788-8167d99c9cb0\">\n",
              "  <button class=\"colab-df-quickchart\" onclick=\"quickchart('df-1dcc7276-b958-48d9-8788-8167d99c9cb0')\"\n",
              "            title=\"Suggest charts\"\n",
              "            style=\"display:none;\">\n",
              "\n",
              "<svg xmlns=\"http://www.w3.org/2000/svg\" height=\"24px\"viewBox=\"0 0 24 24\"\n",
              "     width=\"24px\">\n",
              "    <g>\n",
              "        <path d=\"M19 3H5c-1.1 0-2 .9-2 2v14c0 1.1.9 2 2 2h14c1.1 0 2-.9 2-2V5c0-1.1-.9-2-2-2zM9 17H7v-7h2v7zm4 0h-2V7h2v10zm4 0h-2v-4h2v4z\"/>\n",
              "    </g>\n",
              "</svg>\n",
              "  </button>\n",
              "\n",
              "<style>\n",
              "  .colab-df-quickchart {\n",
              "      --bg-color: #E8F0FE;\n",
              "      --fill-color: #1967D2;\n",
              "      --hover-bg-color: #E2EBFA;\n",
              "      --hover-fill-color: #174EA6;\n",
              "      --disabled-fill-color: #AAA;\n",
              "      --disabled-bg-color: #DDD;\n",
              "  }\n",
              "\n",
              "  [theme=dark] .colab-df-quickchart {\n",
              "      --bg-color: #3B4455;\n",
              "      --fill-color: #D2E3FC;\n",
              "      --hover-bg-color: #434B5C;\n",
              "      --hover-fill-color: #FFFFFF;\n",
              "      --disabled-bg-color: #3B4455;\n",
              "      --disabled-fill-color: #666;\n",
              "  }\n",
              "\n",
              "  .colab-df-quickchart {\n",
              "    background-color: var(--bg-color);\n",
              "    border: none;\n",
              "    border-radius: 50%;\n",
              "    cursor: pointer;\n",
              "    display: none;\n",
              "    fill: var(--fill-color);\n",
              "    height: 32px;\n",
              "    padding: 0;\n",
              "    width: 32px;\n",
              "  }\n",
              "\n",
              "  .colab-df-quickchart:hover {\n",
              "    background-color: var(--hover-bg-color);\n",
              "    box-shadow: 0 1px 2px rgba(60, 64, 67, 0.3), 0 1px 3px 1px rgba(60, 64, 67, 0.15);\n",
              "    fill: var(--button-hover-fill-color);\n",
              "  }\n",
              "\n",
              "  .colab-df-quickchart-complete:disabled,\n",
              "  .colab-df-quickchart-complete:disabled:hover {\n",
              "    background-color: var(--disabled-bg-color);\n",
              "    fill: var(--disabled-fill-color);\n",
              "    box-shadow: none;\n",
              "  }\n",
              "\n",
              "  .colab-df-spinner {\n",
              "    border: 2px solid var(--fill-color);\n",
              "    border-color: transparent;\n",
              "    border-bottom-color: var(--fill-color);\n",
              "    animation:\n",
              "      spin 1s steps(1) infinite;\n",
              "  }\n",
              "\n",
              "  @keyframes spin {\n",
              "    0% {\n",
              "      border-color: transparent;\n",
              "      border-bottom-color: var(--fill-color);\n",
              "      border-left-color: var(--fill-color);\n",
              "    }\n",
              "    20% {\n",
              "      border-color: transparent;\n",
              "      border-left-color: var(--fill-color);\n",
              "      border-top-color: var(--fill-color);\n",
              "    }\n",
              "    30% {\n",
              "      border-color: transparent;\n",
              "      border-left-color: var(--fill-color);\n",
              "      border-top-color: var(--fill-color);\n",
              "      border-right-color: var(--fill-color);\n",
              "    }\n",
              "    40% {\n",
              "      border-color: transparent;\n",
              "      border-right-color: var(--fill-color);\n",
              "      border-top-color: var(--fill-color);\n",
              "    }\n",
              "    60% {\n",
              "      border-color: transparent;\n",
              "      border-right-color: var(--fill-color);\n",
              "    }\n",
              "    80% {\n",
              "      border-color: transparent;\n",
              "      border-right-color: var(--fill-color);\n",
              "      border-bottom-color: var(--fill-color);\n",
              "    }\n",
              "    90% {\n",
              "      border-color: transparent;\n",
              "      border-bottom-color: var(--fill-color);\n",
              "    }\n",
              "  }\n",
              "</style>\n",
              "\n",
              "  <script>\n",
              "    async function quickchart(key) {\n",
              "      const quickchartButtonEl =\n",
              "        document.querySelector('#' + key + ' button');\n",
              "      quickchartButtonEl.disabled = true;  // To prevent multiple clicks.\n",
              "      quickchartButtonEl.classList.add('colab-df-spinner');\n",
              "      try {\n",
              "        const charts = await google.colab.kernel.invokeFunction(\n",
              "            'suggestCharts', [key], {});\n",
              "      } catch (error) {\n",
              "        console.error('Error during call to suggestCharts:', error);\n",
              "      }\n",
              "      quickchartButtonEl.classList.remove('colab-df-spinner');\n",
              "      quickchartButtonEl.classList.add('colab-df-quickchart-complete');\n",
              "    }\n",
              "    (() => {\n",
              "      let quickchartButtonEl =\n",
              "        document.querySelector('#df-1dcc7276-b958-48d9-8788-8167d99c9cb0 button');\n",
              "      quickchartButtonEl.style.display =\n",
              "        google.colab.kernel.accessAllowed ? 'block' : 'none';\n",
              "    })();\n",
              "  </script>\n",
              "</div>\n",
              "\n",
              "    </div>\n",
              "  </div>\n"
            ],
            "text/plain": [
              "                                             jobpost          date  \\\n",
              "0  AMERIA Investment Consulting Company\\r\\nJOB TI...   Jan 5, 2004   \n",
              "1  International Research & Exchanges Board (IREX...   Jan 7, 2004   \n",
              "2  Caucasus Environmental NGO Network (CENN)\\r\\nJ...   Jan 7, 2004   \n",
              "3  Manoff Group\\r\\nJOB TITLE:  BCC Specialist\\r\\n...   Jan 7, 2004   \n",
              "4  Yerevan Brandy Company\\r\\nJOB TITLE:  Software...  Jan 10, 2004   \n",
              "\n",
              "                                               Title  \\\n",
              "0                            Chief Financial Officer   \n",
              "1  Full-time Community Connections Intern (paid i...   \n",
              "2                                Country Coordinator   \n",
              "3                                     BCC Specialist   \n",
              "4                                 Software Developer   \n",
              "\n",
              "                                           Company AnnouncementCode Term  \\\n",
              "0             AMERIA Investment Consulting Company              NaN  NaN   \n",
              "1  International Research & Exchanges Board (IREX)              NaN  NaN   \n",
              "2        Caucasus Environmental NGO Network (CENN)              NaN  NaN   \n",
              "3                                     Manoff Group              NaN  NaN   \n",
              "4                           Yerevan Brandy Company              NaN  NaN   \n",
              "\n",
              "  Eligibility Audience StartDate                               Duration  ...  \\\n",
              "0         NaN      NaN       NaN                                    NaN  ...   \n",
              "1         NaN      NaN       NaN                               3 months  ...   \n",
              "2         NaN      NaN       NaN  Renewable annual contract\\r\\nPOSITION  ...   \n",
              "3         NaN      NaN       NaN                                    NaN  ...   \n",
              "4         NaN      NaN       NaN                                    NaN  ...   \n",
              "\n",
              "  Salary                                       ApplicationP OpeningDate  \\\n",
              "0    NaN  To apply for this position, please submit a\\r\\...         NaN   \n",
              "1    NaN  Please submit a cover letter and resume to:\\r\\...         NaN   \n",
              "2    NaN  Please send resume or CV toursula.kazarian@......         NaN   \n",
              "3    NaN  Please send cover letter and resume to Amy\\r\\n...         NaN   \n",
              "4    NaN  Successful candidates should submit\\r\\n- CV; \\...         NaN   \n",
              "\n",
              "                                        Deadline Notes  \\\n",
              "0                                26 January 2004   NaN   \n",
              "1                                12 January 2004   NaN   \n",
              "2  20 January 2004\\r\\nSTART DATE:  February 2004   NaN   \n",
              "3      23 January 2004\\r\\nSTART DATE:  Immediate   NaN   \n",
              "4                         20 January 2004, 18:00   NaN   \n",
              "\n",
              "                                              AboutC Attach  Year Month     IT  \n",
              "0                                                NaN    NaN  2004     1  False  \n",
              "1  The International Research & Exchanges Board (...    NaN  2004     1  False  \n",
              "2  The Caucasus Environmental NGO Network is a\\r\\...    NaN  2004     1  False  \n",
              "3                                                NaN    NaN  2004     1  False  \n",
              "4                                                NaN    NaN  2004     1   True  \n",
              "\n",
              "[5 rows x 24 columns]"
            ]
          },
          "execution_count": 3,
          "metadata": {},
          "output_type": "execute_result"
        }
      ],
      "source": [
        "# Upload CSV\n",
        "path = \"/drive/MyDrive/Text Mining/online-job-postings.csv\"\n",
        "df = pd.read_csv(path)\n",
        "df.head()"
      ]
    },
    {
      "cell_type": "code",
      "execution_count": null,
      "metadata": {
        "colab": {
          "base_uri": "https://localhost:8080/",
          "height": 206
        },
        "id": "-POOiSi0ceox",
        "outputId": "9db00673-bf0e-4f06-efdc-dc0296e9832b"
      },
      "outputs": [
        {
          "data": {
            "application/vnd.google.colaboratory.intrinsic+json": {
              "summary": "{\n  \"name\": \"df_cut\",\n  \"rows\": 19001,\n  \"fields\": [\n    {\n      \"column\": \"jobpost\",\n      \"properties\": {\n        \"dtype\": \"string\",\n        \"num_unique_values\": 18892,\n        \"samples\": [\n          \"Nava Solutions\\r\\nTITLE:  Senior Java Developer\\r\\nTERM:  Full time\\r\\nSTART DATE/ TIME:  As soon as practical\\r\\nDURATION:  Long term\\r\\nLOCATION:  Yerevan, Armenia\\r\\nJOB DESCRIPTION:  Nava Solutions is seeking highly qualified Senior\\r\\nSoftware Developers to lead the effort of developing innovative software.\\r\\nThe successful candidates shall demonstrate deep technical and\\r\\nprofessional skills, readiness to learn new technologies fast, as well as\\r\\nability to deal with tight deadlines. Company is looking for only the\\r\\nbest experts. If you want to be the part of this project and be there\\r\\nfrom the beginning, then this is right for you.\\r\\nREQUIRED QUALIFICATIONS:\\r\\n- Degree in Computer Sciences or equivalent;\\r\\n- At least 4 years of work experience; preferably 5 or more; \\r\\n- Knowledge of Google App Engine is a big plus;\\r\\n- Proficiency in object oriented programming;\\r\\n- Proficiency in Java;\\r\\n- Knowledge of C# is a big plus;\\r\\n- Working knowledge of XML, HTML, CSS, JavaScript, AJAX and related\\r\\ntechnologies; \\r\\n- Knowledge of RIA technologies, especially YUI and JQuery is a plus; \\r\\n- Strong understanding of multi-threading and networking concepts; \\r\\n- Strong understanding of relational database concepts;\\r\\n- Knowledge of Hibernate ORM framework is a plus; \\r\\n- Strong reasoning and critical thinking skills; \\r\\n- Knowledge of and experience in logic and discrete math; \\r\\n- Enthusiastic and self-motivated person; \\r\\n- Good team player.\\r\\nREMUNERATION/ SALARY:  Highly competitive\\r\\nAPPLICATION PROCEDURES:  Please submit your CV to: jobs@...\\r\\n, indicating the position in the subject line of your e-mail. Only\\r\\nshortlisted candidates will be contacted.\\r\\nPlease clearly mention in your application letter that you learned of\\r\\nthis job opportunity through Career Center and mention the URL of its\\r\\nwebsite - www.careercenter.am, Thanks.\\r\\nOPENING DATE:  17 October 2012\\r\\nAPPLICATION DEADLINE:  16 November 2012\\r\\nABOUT COMPANY:  Nava Solutions is a startup looking to establish in\\r\\nArmenia and looks forward to see the potential before setting up the\\r\\noffice. Company's goal is to build the right team up front. If you are\\r\\nwilling to get more details please email: jobs@... .\\r\\n----------------------------------\\r\\nTo place a free posting for job or other career-related opportunities\\r\\navailable in your organization, just go to the www.careercenter.am\\r\\nwebsite and follow the \\\"Post an Announcement\\\" link.\",\n          \"VAS Group LLC\\r\\nTITLE:  Team Leader\\r\\nLOCATION:  Yerevan, Armenia\\r\\nJOB DESCRIPTION:  \\\"VAS Group\\\" LLC is announcing a position of Team\\r\\nLeader and is looking for a highly motivated and experienced\\r\\nprofessional.\\r\\nJOB RESPONSIBILITIES:\\r\\n- Provide the team with a vision of the company objectives;\\r\\n- Motivate and inspire team members;\\r\\n- Maintain healthy group dynamics;\\r\\n- Intervene when necessary to aid the group in resolving issues;\\r\\n- Create an environment oriented to trust, open communication, creative\\r\\nthinking, and cohesive team effort;\\r\\n- Lead by setting a good example;\\r\\n- Coach and help develop team members; help resolve dysfunctional\\r\\nbehavior;\\r\\n- Facilitate problem solving and collaboration;\\r\\n- Coordinate meetings with the company administration to discuss current\\r\\nplans and problems.\\r\\nREQUIRED QUALIFICATIONS:\\r\\n- Higher education;\\r\\n- Minimum 3 years of operational experience in the  sales field\\r\\n(foodstuff sphere is preferable);\\r\\n- Instructional and supervisory ability;\\r\\n- Perfect organizational skills and sense of responsibility;\\r\\n- Excellent knowledge of Armenian and Russian languages; English is\\r\\ndesirable;\\r\\n- Computer literacy;\\r\\n- Ability to work under the pressure;\\r\\n- Valid driving license.\\r\\nAPPLICATION PROCEDURES:  Candidates should send their CVs (in Armenian,\\r\\nRussian or English) to: vassusen@... .\\r\\nPlease indicate the position (Team Leader) in the subject line of your\\r\\nemail.\\r\\nPlease clearly mention in your application letter that you learned of\\r\\nthis job opportunity through Career Center and mention the URL of its\\r\\nwebsite - www.careercenter.am, Thanks.\\r\\nOPENING DATE:  03 June 2009\\r\\nAPPLICATION DEADLINE:  18 June 2009\\r\\nABOUT COMPANY:  VAS Group LLC is engaged in distribution of different\\r\\nkind of products in Armenia.\\r\\n----------------------------------\\r\\nTo place a free posting for job or other career-related opportunities\\r\\navailable in your organization, just go to the www.careercenter.am\\r\\nwebsite and follow the \\\"Post an Announcement\\\" link.\",\n          \"Aldo\\r\\nTITLE:  Import Manager\\r\\nSTART DATE/ TIME:  ASAP\\r\\nLOCATION:  Yerevan, Armenia\\r\\nJOB DESCRIPTION:  Aldo is seeking an Import Manager who will be\\r\\nresponsible for all import operations.\\r\\nJOB RESPONSIBILITIES:\\r\\n- Manage import documentation and activities of all import brokers and\\r\\ntransportation firms;\\r\\n- Plan and implement import strategies according to supplier and customer\\r\\ndemand and administer internal movement of goods;\\r\\n- Maintain and report accurate cost records of products purchased;\\r\\n- Monitor and negotiate transcontinental freight costs;\\r\\n- Continually work with current vendors, as well as with new potential\\r\\nsuppliers to help reduce costs while maintaining the highest level of\\r\\nquality and service;\\r\\n- Work with the operations staff to efficiently schedule the receipt of\\r\\npurchase orders in order to meet the sales requirements;\\r\\n- Keep management advised of all changes in costs due to volume or market\\r\\ncondition adjustments;\\r\\n- Communicate payment requirements between the company and suppliers;\\r\\n- Perform other duties and projects, as assigned.\\r\\nREQUIRED QUALIFICATIONS:\\r\\n- Higher education;\\r\\n- High organizational and multitasking skills;\\r\\n- Fluent interpersonal, oral and written communication skills;\\r\\n- Effective presentation skills;\\r\\n- Proactive personality with a true sense of urgency;\\r\\n- Availability to work with a varied, flexible schedule to meet business\\r\\ndemands;\\r\\n- Excellent knowledge of English language.\\r\\nREMUNERATION/ SALARY:  Highly competitive\\r\\nAPPLICATION PROCEDURES:  Interested candidates are encouraged to submit a\\r\\nCV to: hr.franchise@... with a note \\\"Import Manager\\\" in the\\r\\nsubject line of the e-mail, or call (010) 52 57 22 for inquiries.\\r\\nPlease clearly mention in your application letter that you learned of\\r\\nthis job opportunity through Career Center and mention the URL of its\\r\\nwebsite - www.careercenter.am, Thanks.\\r\\nOPENING DATE:  03 February 2014\\r\\nAPPLICATION DEADLINE:  01 March 2014\\r\\nABOUT COMPANY:  \\\"Rivera Retail\\\" LLC is an official representative of\\r\\nshoes and accessories' brands.\\r\\n----------------------------------\\r\\nTo place a free posting for job or other career-related opportunities\\r\\navailable in your organization, just go to the www.careercenter.am\\r\\nwebsite and follow the \\\"Post an Announcement\\\" link.\"\n        ],\n        \"semantic_type\": \"\",\n        \"description\": \"\"\n      }\n    },\n    {\n      \"column\": \"IT\",\n      \"properties\": {\n        \"dtype\": \"boolean\",\n        \"num_unique_values\": 2,\n        \"samples\": [\n          true,\n          false\n        ],\n        \"semantic_type\": \"\",\n        \"description\": \"\"\n      }\n    }\n  ]\n}",
              "type": "dataframe",
              "variable_name": "df_cut"
            },
            "text/html": [
              "\n",
              "  <div id=\"df-74783a01-054c-4763-ad4d-40767191c108\" class=\"colab-df-container\">\n",
              "    <div>\n",
              "<style scoped>\n",
              "    .dataframe tbody tr th:only-of-type {\n",
              "        vertical-align: middle;\n",
              "    }\n",
              "\n",
              "    .dataframe tbody tr th {\n",
              "        vertical-align: top;\n",
              "    }\n",
              "\n",
              "    .dataframe thead th {\n",
              "        text-align: right;\n",
              "    }\n",
              "</style>\n",
              "<table border=\"1\" class=\"dataframe\">\n",
              "  <thead>\n",
              "    <tr style=\"text-align: right;\">\n",
              "      <th></th>\n",
              "      <th>jobpost</th>\n",
              "      <th>IT</th>\n",
              "    </tr>\n",
              "  </thead>\n",
              "  <tbody>\n",
              "    <tr>\n",
              "      <th>0</th>\n",
              "      <td>AMERIA Investment Consulting Company\\r\\nJOB TI...</td>\n",
              "      <td>False</td>\n",
              "    </tr>\n",
              "    <tr>\n",
              "      <th>1</th>\n",
              "      <td>International Research &amp; Exchanges Board (IREX...</td>\n",
              "      <td>False</td>\n",
              "    </tr>\n",
              "    <tr>\n",
              "      <th>2</th>\n",
              "      <td>Caucasus Environmental NGO Network (CENN)\\r\\nJ...</td>\n",
              "      <td>False</td>\n",
              "    </tr>\n",
              "    <tr>\n",
              "      <th>3</th>\n",
              "      <td>Manoff Group\\r\\nJOB TITLE:  BCC Specialist\\r\\n...</td>\n",
              "      <td>False</td>\n",
              "    </tr>\n",
              "    <tr>\n",
              "      <th>4</th>\n",
              "      <td>Yerevan Brandy Company\\r\\nJOB TITLE:  Software...</td>\n",
              "      <td>True</td>\n",
              "    </tr>\n",
              "  </tbody>\n",
              "</table>\n",
              "</div>\n",
              "    <div class=\"colab-df-buttons\">\n",
              "\n",
              "  <div class=\"colab-df-container\">\n",
              "    <button class=\"colab-df-convert\" onclick=\"convertToInteractive('df-74783a01-054c-4763-ad4d-40767191c108')\"\n",
              "            title=\"Convert this dataframe to an interactive table.\"\n",
              "            style=\"display:none;\">\n",
              "\n",
              "  <svg xmlns=\"http://www.w3.org/2000/svg\" height=\"24px\" viewBox=\"0 -960 960 960\">\n",
              "    <path d=\"M120-120v-720h720v720H120Zm60-500h600v-160H180v160Zm220 220h160v-160H400v160Zm0 220h160v-160H400v160ZM180-400h160v-160H180v160Zm440 0h160v-160H620v160ZM180-180h160v-160H180v160Zm440 0h160v-160H620v160Z\"/>\n",
              "  </svg>\n",
              "    </button>\n",
              "\n",
              "  <style>\n",
              "    .colab-df-container {\n",
              "      display:flex;\n",
              "      gap: 12px;\n",
              "    }\n",
              "\n",
              "    .colab-df-convert {\n",
              "      background-color: #E8F0FE;\n",
              "      border: none;\n",
              "      border-radius: 50%;\n",
              "      cursor: pointer;\n",
              "      display: none;\n",
              "      fill: #1967D2;\n",
              "      height: 32px;\n",
              "      padding: 0 0 0 0;\n",
              "      width: 32px;\n",
              "    }\n",
              "\n",
              "    .colab-df-convert:hover {\n",
              "      background-color: #E2EBFA;\n",
              "      box-shadow: 0px 1px 2px rgba(60, 64, 67, 0.3), 0px 1px 3px 1px rgba(60, 64, 67, 0.15);\n",
              "      fill: #174EA6;\n",
              "    }\n",
              "\n",
              "    .colab-df-buttons div {\n",
              "      margin-bottom: 4px;\n",
              "    }\n",
              "\n",
              "    [theme=dark] .colab-df-convert {\n",
              "      background-color: #3B4455;\n",
              "      fill: #D2E3FC;\n",
              "    }\n",
              "\n",
              "    [theme=dark] .colab-df-convert:hover {\n",
              "      background-color: #434B5C;\n",
              "      box-shadow: 0px 1px 3px 1px rgba(0, 0, 0, 0.15);\n",
              "      filter: drop-shadow(0px 1px 2px rgba(0, 0, 0, 0.3));\n",
              "      fill: #FFFFFF;\n",
              "    }\n",
              "  </style>\n",
              "\n",
              "    <script>\n",
              "      const buttonEl =\n",
              "        document.querySelector('#df-74783a01-054c-4763-ad4d-40767191c108 button.colab-df-convert');\n",
              "      buttonEl.style.display =\n",
              "        google.colab.kernel.accessAllowed ? 'block' : 'none';\n",
              "\n",
              "      async function convertToInteractive(key) {\n",
              "        const element = document.querySelector('#df-74783a01-054c-4763-ad4d-40767191c108');\n",
              "        const dataTable =\n",
              "          await google.colab.kernel.invokeFunction('convertToInteractive',\n",
              "                                                    [key], {});\n",
              "        if (!dataTable) return;\n",
              "\n",
              "        const docLinkHtml = 'Like what you see? Visit the ' +\n",
              "          '<a target=\"_blank\" href=https://colab.research.google.com/notebooks/data_table.ipynb>data table notebook</a>'\n",
              "          + ' to learn more about interactive tables.';\n",
              "        element.innerHTML = '';\n",
              "        dataTable['output_type'] = 'display_data';\n",
              "        await google.colab.output.renderOutput(dataTable, element);\n",
              "        const docLink = document.createElement('div');\n",
              "        docLink.innerHTML = docLinkHtml;\n",
              "        element.appendChild(docLink);\n",
              "      }\n",
              "    </script>\n",
              "  </div>\n",
              "\n",
              "\n",
              "<div id=\"df-d03c8764-85f6-482f-b8cd-1c1f15008905\">\n",
              "  <button class=\"colab-df-quickchart\" onclick=\"quickchart('df-d03c8764-85f6-482f-b8cd-1c1f15008905')\"\n",
              "            title=\"Suggest charts\"\n",
              "            style=\"display:none;\">\n",
              "\n",
              "<svg xmlns=\"http://www.w3.org/2000/svg\" height=\"24px\"viewBox=\"0 0 24 24\"\n",
              "     width=\"24px\">\n",
              "    <g>\n",
              "        <path d=\"M19 3H5c-1.1 0-2 .9-2 2v14c0 1.1.9 2 2 2h14c1.1 0 2-.9 2-2V5c0-1.1-.9-2-2-2zM9 17H7v-7h2v7zm4 0h-2V7h2v10zm4 0h-2v-4h2v4z\"/>\n",
              "    </g>\n",
              "</svg>\n",
              "  </button>\n",
              "\n",
              "<style>\n",
              "  .colab-df-quickchart {\n",
              "      --bg-color: #E8F0FE;\n",
              "      --fill-color: #1967D2;\n",
              "      --hover-bg-color: #E2EBFA;\n",
              "      --hover-fill-color: #174EA6;\n",
              "      --disabled-fill-color: #AAA;\n",
              "      --disabled-bg-color: #DDD;\n",
              "  }\n",
              "\n",
              "  [theme=dark] .colab-df-quickchart {\n",
              "      --bg-color: #3B4455;\n",
              "      --fill-color: #D2E3FC;\n",
              "      --hover-bg-color: #434B5C;\n",
              "      --hover-fill-color: #FFFFFF;\n",
              "      --disabled-bg-color: #3B4455;\n",
              "      --disabled-fill-color: #666;\n",
              "  }\n",
              "\n",
              "  .colab-df-quickchart {\n",
              "    background-color: var(--bg-color);\n",
              "    border: none;\n",
              "    border-radius: 50%;\n",
              "    cursor: pointer;\n",
              "    display: none;\n",
              "    fill: var(--fill-color);\n",
              "    height: 32px;\n",
              "    padding: 0;\n",
              "    width: 32px;\n",
              "  }\n",
              "\n",
              "  .colab-df-quickchart:hover {\n",
              "    background-color: var(--hover-bg-color);\n",
              "    box-shadow: 0 1px 2px rgba(60, 64, 67, 0.3), 0 1px 3px 1px rgba(60, 64, 67, 0.15);\n",
              "    fill: var(--button-hover-fill-color);\n",
              "  }\n",
              "\n",
              "  .colab-df-quickchart-complete:disabled,\n",
              "  .colab-df-quickchart-complete:disabled:hover {\n",
              "    background-color: var(--disabled-bg-color);\n",
              "    fill: var(--disabled-fill-color);\n",
              "    box-shadow: none;\n",
              "  }\n",
              "\n",
              "  .colab-df-spinner {\n",
              "    border: 2px solid var(--fill-color);\n",
              "    border-color: transparent;\n",
              "    border-bottom-color: var(--fill-color);\n",
              "    animation:\n",
              "      spin 1s steps(1) infinite;\n",
              "  }\n",
              "\n",
              "  @keyframes spin {\n",
              "    0% {\n",
              "      border-color: transparent;\n",
              "      border-bottom-color: var(--fill-color);\n",
              "      border-left-color: var(--fill-color);\n",
              "    }\n",
              "    20% {\n",
              "      border-color: transparent;\n",
              "      border-left-color: var(--fill-color);\n",
              "      border-top-color: var(--fill-color);\n",
              "    }\n",
              "    30% {\n",
              "      border-color: transparent;\n",
              "      border-left-color: var(--fill-color);\n",
              "      border-top-color: var(--fill-color);\n",
              "      border-right-color: var(--fill-color);\n",
              "    }\n",
              "    40% {\n",
              "      border-color: transparent;\n",
              "      border-right-color: var(--fill-color);\n",
              "      border-top-color: var(--fill-color);\n",
              "    }\n",
              "    60% {\n",
              "      border-color: transparent;\n",
              "      border-right-color: var(--fill-color);\n",
              "    }\n",
              "    80% {\n",
              "      border-color: transparent;\n",
              "      border-right-color: var(--fill-color);\n",
              "      border-bottom-color: var(--fill-color);\n",
              "    }\n",
              "    90% {\n",
              "      border-color: transparent;\n",
              "      border-bottom-color: var(--fill-color);\n",
              "    }\n",
              "  }\n",
              "</style>\n",
              "\n",
              "  <script>\n",
              "    async function quickchart(key) {\n",
              "      const quickchartButtonEl =\n",
              "        document.querySelector('#' + key + ' button');\n",
              "      quickchartButtonEl.disabled = true;  // To prevent multiple clicks.\n",
              "      quickchartButtonEl.classList.add('colab-df-spinner');\n",
              "      try {\n",
              "        const charts = await google.colab.kernel.invokeFunction(\n",
              "            'suggestCharts', [key], {});\n",
              "      } catch (error) {\n",
              "        console.error('Error during call to suggestCharts:', error);\n",
              "      }\n",
              "      quickchartButtonEl.classList.remove('colab-df-spinner');\n",
              "      quickchartButtonEl.classList.add('colab-df-quickchart-complete');\n",
              "    }\n",
              "    (() => {\n",
              "      let quickchartButtonEl =\n",
              "        document.querySelector('#df-d03c8764-85f6-482f-b8cd-1c1f15008905 button');\n",
              "      quickchartButtonEl.style.display =\n",
              "        google.colab.kernel.accessAllowed ? 'block' : 'none';\n",
              "    })();\n",
              "  </script>\n",
              "</div>\n",
              "\n",
              "    </div>\n",
              "  </div>\n"
            ],
            "text/plain": [
              "                                             jobpost     IT\n",
              "0  AMERIA Investment Consulting Company\\r\\nJOB TI...  False\n",
              "1  International Research & Exchanges Board (IREX...  False\n",
              "2  Caucasus Environmental NGO Network (CENN)\\r\\nJ...  False\n",
              "3  Manoff Group\\r\\nJOB TITLE:  BCC Specialist\\r\\n...  False\n",
              "4  Yerevan Brandy Company\\r\\nJOB TITLE:  Software...   True"
            ]
          },
          "execution_count": 4,
          "metadata": {},
          "output_type": "execute_result"
        }
      ],
      "source": [
        "# Only take two relevant columns: 'jobpost' and 'IT'\n",
        "df_cut = df[['jobpost', 'IT']]\n",
        "df_cut.head()"
      ]
    },
    {
      "cell_type": "code",
      "execution_count": null,
      "metadata": {
        "colab": {
          "base_uri": "https://localhost:8080/"
        },
        "id": "QcXxXN4KeHsJ",
        "outputId": "57e2c7c9-1d66-472f-d1ea-ccd2fc26a387"
      },
      "outputs": [
        {
          "name": "stdout",
          "output_type": "stream",
          "text": [
            "<class 'pandas.core.frame.DataFrame'>\n",
            "RangeIndex: 19001 entries, 0 to 19000\n",
            "Data columns (total 2 columns):\n",
            " #   Column   Non-Null Count  Dtype \n",
            "---  ------   --------------  ----- \n",
            " 0   jobpost  19001 non-null  object\n",
            " 1   IT       19001 non-null  bool  \n",
            "dtypes: bool(1), object(1)\n",
            "memory usage: 167.1+ KB\n"
          ]
        }
      ],
      "source": [
        "# Check information of the new dataframe\n",
        "df_cut.info()"
      ]
    },
    {
      "cell_type": "code",
      "execution_count": null,
      "metadata": {
        "colab": {
          "base_uri": "https://localhost:8080/"
        },
        "id": "u4KVkStBqy47",
        "outputId": "077ae363-9ebf-4a79-cb82-e3f5e1cdaa99"
      },
      "outputs": [
        {
          "data": {
            "text/plain": [
              "IT\n",
              "False    15242\n",
              "True      3759\n",
              "Name: count, dtype: int64"
            ]
          },
          "execution_count": 6,
          "metadata": {},
          "output_type": "execute_result"
        }
      ],
      "source": [
        "# Check how many rows each type of label have\n",
        "df_cut['IT'].value_counts()"
      ]
    },
    {
      "cell_type": "code",
      "execution_count": null,
      "metadata": {
        "id": "tB094zVHd5xf"
      },
      "outputs": [],
      "source": [
        "# Split data based on label\n",
        "df_true= df_cut[df_cut['IT'] == True]\n",
        "df_false= df_cut[df_cut['IT'] == False]"
      ]
    },
    {
      "cell_type": "code",
      "execution_count": null,
      "metadata": {
        "id": "dhTJJUXHoLx2"
      },
      "outputs": [],
      "source": [
        "# Limit the amount of data that has the label 'false' based on the amount of data that's 'true'\n",
        "falseLimit= 12000-df_true.shape[0]\n",
        "df_false2= df_false.iloc[0:falseLimit]\n",
        "df_new = pd.concat([df_true, df_false2], ignore_index=True)"
      ]
    },
    {
      "cell_type": "code",
      "execution_count": null,
      "metadata": {
        "colab": {
          "base_uri": "https://localhost:8080/",
          "height": 423
        },
        "id": "NsDR_8muosri",
        "outputId": "d24ebf25-a05d-4137-9cbe-299e63f264c7"
      },
      "outputs": [
        {
          "data": {
            "application/vnd.google.colaboratory.intrinsic+json": {
              "summary": "{\n  \"name\": \"df_new\",\n  \"rows\": 12000,\n  \"fields\": [\n    {\n      \"column\": \"jobpost\",\n      \"properties\": {\n        \"dtype\": \"string\",\n        \"num_unique_values\": 11929,\n        \"samples\": [\n          \"DiploFoundation\\r\\nTITLE:  Bilateral Diplomacy\\r\\nEDUCATION TYPE:  Postgraduate Online Study\\r\\nINTENDED AUDIENCE:  Practicing diplomats or other civil servants who\\r\\nwould like to refresh or expand their knowledge of this important topic\\r\\nwith an experienced practitioner;\\r\\nLOCATION:  Genve, Switzerland\\r\\nDETAIL DESCRIPTION:  The objective of this postgraduate level online\\r\\ncourse offered by DiploFoundation is to acquaint participants with\\r\\nbilateral diplomacy; one of the essential building blocks of\\r\\ninternational relations. Teaching of basic theory is combined with\\r\\nconcrete experience resulting from the actual practice of diplomacy. The\\r\\ncourse should give participants a complete overview of the content and\\r\\nmethods of bilateral diplomacy, with practical examples that equip them\\r\\nto analyse international affairs. \\r\\nThis course is conducted entirely online, over a period of two months.\\r\\nParticipants will receive a course orientation pack by mail prior to the\\r\\ncourse, access lecture materials online, and attend weekly online\\r\\nsessions with the lecturer. Successful candidates will receive a\\r\\npostgraduate level certificate from DiploFoundation. \\r\\nLecturer: Ambassador KISHAN S. RANA retired as ambassador to Germany in\\r\\n1995, after 35 years in the Indian Foreign Service (serving as\\r\\nambassador/high commissioner in Algiers, Prague, Nairobi, and Mauritius,\\r\\nand consul general in San Francisco). He was a joint secretary in Prime\\r\\nMinister Indira Gandhi's office from 1981 to 1982. Ambassador Rana\\r\\nspecialised in economic diplomacy, and worked initially on Chinese\\r\\naffairs. Since 1995 he has worked as a business advisor, assisting\\r\\ninternational and Indian companies, and taught at the Foreign Service\\r\\nInstitute, New Delhi. He has written a study of the diplomatic process,\\r\\nInside Diplomacy (October 1999), and is co-author of Managing Corporate\\r\\nCulture, a book on business culture in India (November 1999). His most\\r\\nrecent publication is Bilateral Diplomacy (2002). \\r\\nDiploFoundation is an international provider of online training and\\r\\neducation in the field of diplomacy and international relations, with 10\\r\\nyears of experience.\\r\\nEDUCATIONAL LEVEL:  Postgraduate\\r\\nAPPLICATION PROCEDURES:  For more information on the course, please\\r\\nvisit http://www.diplomacy.edu/Edu/online/bilateral.asp or e-mailadmissions@....\\r\\nPlease clearly mention in your application letter that you learned of\\r\\nthis education opportunity through Career Center and mention the URL of\\r\\nits website - www.careercenter.am, Thanks.\\r\\nAPPLICATION DEADLINE:  14 May 04\\r\\nABOUT COMPANY:  DiploFoundation is a non-profit organisation which works\\r\\nto assist all countries, particularly those with limited human and\\r\\nfinancial resources, to participate meaningfully in international\\r\\naffairs, through education and training programs, research, and the\\r\\ndevelopment of information and communications technologies for\\r\\ndiplomatic activities.\\r\\nADDITIONAL NOTES:  Contact Info:\\r\\nDiploFoundation \\r\\nNon-profit Organisation\\r\\nE-mail: admissions@...\\r\\nWeb site: www.diplomacy.edu\\r\\n----------------------------------\\r\\nTo place a free posting for job or other career-related opportunities in\\r\\nyour organization on the careercenter.am website, e-mail us atmailbox@...\",\n          \"Ameriabank CJSC Stepanakert Branch\\r\\nTITLE:  Specialist-Cashier\\r\\nLOCATION:  Stepanakert, NKR\\r\\nJOB DESCRIPTION:  Ameriabank CJSC is seeking a specialist for the\\r\\nposition of Specialist-Cashier in the branch office located at\\r\\nStepanakert. The incumbent is responsible for high quality service\\r\\nprovision and cash operations implementation.\\r\\nJOB RESPONSIBILITIES:\\r\\n- Receive cash required for implementation of cash operations and return\\r\\nsurpluses; \\r\\n- Be responsible for cash deposit to and withdrawal from Client\\r\\naccounts, receiving and providing cash;\\r\\n- Record cash and non-cash foreign currency exchange operations;\\r\\n- Receive and execute payment orders submitted by clients; \\r\\n- Receive bank checks from clients;\\r\\n- Charge commissions on bank transactions;\\r\\n- Create and check-up the document package pertaining to daily\\r\\ntransactions.\\r\\nREQUIRED QUALIFICATIONS:\\r\\n- Higher education in Economics/Finance/Accounting;\\r\\n- Knowledge of RA Banking Legislation;\\r\\n- Strong interpersonal and communication skills;\\r\\n- Proficiency in MS Office, knowledge of AS-Bank would be a plus;\\r\\n- Fluency in Armenian, good knowledge of Russian and English languages;\\r\\n- At least 1 (one) year of relevant experience.\\r\\nREMUNERATION/ SALARY:  Highly competitive\\r\\nAPPLICATION PROCEDURES:  To apply for this position, please submit a\\r\\nresume to: 21 Vazgen Sargsyan St., Stepanakert, or send it by e-mail to:hr.branch@.... Please clearly mention in the subject line of\\r\\nyour e-mail the title of the position you are applying for.\\r\\nPlease clearly mention in your application letter that you learned of\\r\\nthis job opportunity through Career Center and mention the URL of its\\r\\nwebsite - www.careercenter.am, Thanks.\\r\\nOPENING DATE:  19 September 2008\\r\\nAPPLICATION DEADLINE:  25 September 2008\\r\\n----------------------------------\\r\\nTo place a free posting for job or other career-related opportunities\\r\\navailable in your organization, just go to the www.careercenter.am\\r\\nwebsite and follow the \\\"Post an Announcement\\\" link.\",\n          \"LTX-Credence Armenia LLC\\r\\n\\r\\n\\r\\nTITLE:  Hardware Engineer\\r\\n\\r\\n\\r\\nLOCATION:  Yerevan, Armenia\\r\\n\\r\\n\\r\\nJOB DESCRIPTION:  The Hardware Engineer will report to the Analog product\\r\\ndevelopment group. The successful candidate will develop Analog\\r\\ntechnology for precision measurement, signal sourcing functions and DSP\\r\\nfunctions as a member of the product development team. The Hardware\\r\\nEngineer will work closely with marketing and applications and have the\\r\\nopportunity to provide input to LTX-Credence's marketing strategies and\\r\\nfuture product developments.\\r\\n\\r\\n\\r\\nREQUIRED QUALIFICATIONS:\\r\\n- Master's degree in Electrical Engineering (MSEE) is preferred or\\r\\nBachelor's Degree in Electrical Engineering (BSEE) with additional\\r\\nexperience;\\r\\n- At least 1 year of experience with MSEE and 2 years of experience with\\r\\nBSEE, preferably in ATE is a definite plus;\\r\\n- Strong detailed DC circuit analysis skills, familiarity with\\r\\ncalibration of precision analog instrumentation;\\r\\n- Ability to understand and create hardware block diagrams and\\r\\nschematics;\\r\\n- Ability to understand engineering, manufacturing, and customer\\r\\nrequirements;\\r\\n- Excellent C/ C++ programming skills;\\r\\n- Problem solving and debugging skills with the ability to solve system\\r\\nwide problems;\\r\\n- Ability to quickly learn the company's ATE programming environment;\\r\\n- Good understanding of quality audio design is a strong plus;\\r\\n- System level trouble shooting skills;\\r\\n- Excellent communication and organizational skills;\\r\\n- Proven ability to develop quality deliverables on time;\\r\\n- Ability to team with software, hardware, applications and operations\\r\\nengineering staff, to bring-up new hardware designs and to diagnose chip\\r\\nand board problems;\\r\\n- Ability to adapt in a rapidly changing environment;\\r\\n- Good knowledge of the English language.\\r\\n\\r\\n\\r\\nAPPLICATION PROCEDURES:  Interested candidates are kindly requested to\\r\\nemail a CV/ resume in the English language to:\\r\\nnaira.nikoghosyan@... mentioning \\\"Hardware Engineer\\\" in the\\r\\nsubject line of the email.\\r\\nPlease clearly mention in your application letter that you learned of\\r\\nthis job opportunity through Career Center and mention the URL of its\\r\\nwebsite - www.careercenter.am, Thanks.\\r\\n\\r\\n\\r\\nOPENING DATE:  23 December 2015\\r\\n\\r\\n\\r\\nAPPLICATION DEADLINE:  22 January 2016\\r\\n\\r\\n\\r\\nABOUT COMPANY:  LTX-Credence Armenia is an engineering development\\r\\ncompany and a subsidiary of the US-based Xcerra Corporation (formerly\\r\\nLTX-Credence Corporation).\\r\\n\\r\\n\\r\\n----------------------------------\\r\\nTo place a free posting for job or other career-related opportunities\\r\\navailable in your organization, just go to the www.careercenter.am\\r\\nwebsite and follow the \\\"Post an Announcement\\\" link.\"\n        ],\n        \"semantic_type\": \"\",\n        \"description\": \"\"\n      }\n    },\n    {\n      \"column\": \"IT\",\n      \"properties\": {\n        \"dtype\": \"boolean\",\n        \"num_unique_values\": 2,\n        \"samples\": [\n          false,\n          true\n        ],\n        \"semantic_type\": \"\",\n        \"description\": \"\"\n      }\n    }\n  ]\n}",
              "type": "dataframe",
              "variable_name": "df_new"
            },
            "text/html": [
              "\n",
              "  <div id=\"df-02408549-c7b0-45ef-bb84-72d6895fb528\" class=\"colab-df-container\">\n",
              "    <div>\n",
              "<style scoped>\n",
              "    .dataframe tbody tr th:only-of-type {\n",
              "        vertical-align: middle;\n",
              "    }\n",
              "\n",
              "    .dataframe tbody tr th {\n",
              "        vertical-align: top;\n",
              "    }\n",
              "\n",
              "    .dataframe thead th {\n",
              "        text-align: right;\n",
              "    }\n",
              "</style>\n",
              "<table border=\"1\" class=\"dataframe\">\n",
              "  <thead>\n",
              "    <tr style=\"text-align: right;\">\n",
              "      <th></th>\n",
              "      <th>jobpost</th>\n",
              "      <th>IT</th>\n",
              "    </tr>\n",
              "  </thead>\n",
              "  <tbody>\n",
              "    <tr>\n",
              "      <th>0</th>\n",
              "      <td>Yerevan Brandy Company\\r\\nJOB TITLE:  Software...</td>\n",
              "      <td>True</td>\n",
              "    </tr>\n",
              "    <tr>\n",
              "      <th>1</th>\n",
              "      <td>NetCall Communications\\r\\nJOB TITLE:  Network ...</td>\n",
              "      <td>True</td>\n",
              "    </tr>\n",
              "    <tr>\n",
              "      <th>2</th>\n",
              "      <td>Xalt LLC\\r\\nJOB TITLE:  Graphic Designer\\r\\nPO...</td>\n",
              "      <td>True</td>\n",
              "    </tr>\n",
              "    <tr>\n",
              "      <th>3</th>\n",
              "      <td>Caucasus Research Resource Center - Armenia\\r\\...</td>\n",
              "      <td>True</td>\n",
              "    </tr>\n",
              "    <tr>\n",
              "      <th>4</th>\n",
              "      <td>CIT Ltd.\\r\\nJOB TITLE:  Programmer\\r\\nPOSITION...</td>\n",
              "      <td>True</td>\n",
              "    </tr>\n",
              "    <tr>\n",
              "      <th>...</th>\n",
              "      <td>...</td>\n",
              "      <td>...</td>\n",
              "    </tr>\n",
              "    <tr>\n",
              "      <th>11995</th>\n",
              "      <td>Rotapharm Pharmaceutical Company\\r\\nTITLE:  Of...</td>\n",
              "      <td>False</td>\n",
              "    </tr>\n",
              "    <tr>\n",
              "      <th>11996</th>\n",
              "      <td>\"FINCA\" UCO CJSC\\r\\nTITLE:  Internal Control D...</td>\n",
              "      <td>False</td>\n",
              "    </tr>\n",
              "    <tr>\n",
              "      <th>11997</th>\n",
              "      <td>Zeppelin Armenia LLC\\r\\nTITLE:  Stockman\\r\\nOP...</td>\n",
              "      <td>False</td>\n",
              "    </tr>\n",
              "    <tr>\n",
              "      <th>11998</th>\n",
              "      <td>Synopsys Armenia\\r\\nTITLE:  Layout Engineer/ S...</td>\n",
              "      <td>False</td>\n",
              "    </tr>\n",
              "    <tr>\n",
              "      <th>11999</th>\n",
              "      <td>London School of Commerce\\r\\nTITLE:  MBA (Mast...</td>\n",
              "      <td>False</td>\n",
              "    </tr>\n",
              "  </tbody>\n",
              "</table>\n",
              "<p>12000 rows × 2 columns</p>\n",
              "</div>\n",
              "    <div class=\"colab-df-buttons\">\n",
              "\n",
              "  <div class=\"colab-df-container\">\n",
              "    <button class=\"colab-df-convert\" onclick=\"convertToInteractive('df-02408549-c7b0-45ef-bb84-72d6895fb528')\"\n",
              "            title=\"Convert this dataframe to an interactive table.\"\n",
              "            style=\"display:none;\">\n",
              "\n",
              "  <svg xmlns=\"http://www.w3.org/2000/svg\" height=\"24px\" viewBox=\"0 -960 960 960\">\n",
              "    <path d=\"M120-120v-720h720v720H120Zm60-500h600v-160H180v160Zm220 220h160v-160H400v160Zm0 220h160v-160H400v160ZM180-400h160v-160H180v160Zm440 0h160v-160H620v160ZM180-180h160v-160H180v160Zm440 0h160v-160H620v160Z\"/>\n",
              "  </svg>\n",
              "    </button>\n",
              "\n",
              "  <style>\n",
              "    .colab-df-container {\n",
              "      display:flex;\n",
              "      gap: 12px;\n",
              "    }\n",
              "\n",
              "    .colab-df-convert {\n",
              "      background-color: #E8F0FE;\n",
              "      border: none;\n",
              "      border-radius: 50%;\n",
              "      cursor: pointer;\n",
              "      display: none;\n",
              "      fill: #1967D2;\n",
              "      height: 32px;\n",
              "      padding: 0 0 0 0;\n",
              "      width: 32px;\n",
              "    }\n",
              "\n",
              "    .colab-df-convert:hover {\n",
              "      background-color: #E2EBFA;\n",
              "      box-shadow: 0px 1px 2px rgba(60, 64, 67, 0.3), 0px 1px 3px 1px rgba(60, 64, 67, 0.15);\n",
              "      fill: #174EA6;\n",
              "    }\n",
              "\n",
              "    .colab-df-buttons div {\n",
              "      margin-bottom: 4px;\n",
              "    }\n",
              "\n",
              "    [theme=dark] .colab-df-convert {\n",
              "      background-color: #3B4455;\n",
              "      fill: #D2E3FC;\n",
              "    }\n",
              "\n",
              "    [theme=dark] .colab-df-convert:hover {\n",
              "      background-color: #434B5C;\n",
              "      box-shadow: 0px 1px 3px 1px rgba(0, 0, 0, 0.15);\n",
              "      filter: drop-shadow(0px 1px 2px rgba(0, 0, 0, 0.3));\n",
              "      fill: #FFFFFF;\n",
              "    }\n",
              "  </style>\n",
              "\n",
              "    <script>\n",
              "      const buttonEl =\n",
              "        document.querySelector('#df-02408549-c7b0-45ef-bb84-72d6895fb528 button.colab-df-convert');\n",
              "      buttonEl.style.display =\n",
              "        google.colab.kernel.accessAllowed ? 'block' : 'none';\n",
              "\n",
              "      async function convertToInteractive(key) {\n",
              "        const element = document.querySelector('#df-02408549-c7b0-45ef-bb84-72d6895fb528');\n",
              "        const dataTable =\n",
              "          await google.colab.kernel.invokeFunction('convertToInteractive',\n",
              "                                                    [key], {});\n",
              "        if (!dataTable) return;\n",
              "\n",
              "        const docLinkHtml = 'Like what you see? Visit the ' +\n",
              "          '<a target=\"_blank\" href=https://colab.research.google.com/notebooks/data_table.ipynb>data table notebook</a>'\n",
              "          + ' to learn more about interactive tables.';\n",
              "        element.innerHTML = '';\n",
              "        dataTable['output_type'] = 'display_data';\n",
              "        await google.colab.output.renderOutput(dataTable, element);\n",
              "        const docLink = document.createElement('div');\n",
              "        docLink.innerHTML = docLinkHtml;\n",
              "        element.appendChild(docLink);\n",
              "      }\n",
              "    </script>\n",
              "  </div>\n",
              "\n",
              "\n",
              "<div id=\"df-3e3be6c6-cfdb-4168-a6b8-43755c8f80b7\">\n",
              "  <button class=\"colab-df-quickchart\" onclick=\"quickchart('df-3e3be6c6-cfdb-4168-a6b8-43755c8f80b7')\"\n",
              "            title=\"Suggest charts\"\n",
              "            style=\"display:none;\">\n",
              "\n",
              "<svg xmlns=\"http://www.w3.org/2000/svg\" height=\"24px\"viewBox=\"0 0 24 24\"\n",
              "     width=\"24px\">\n",
              "    <g>\n",
              "        <path d=\"M19 3H5c-1.1 0-2 .9-2 2v14c0 1.1.9 2 2 2h14c1.1 0 2-.9 2-2V5c0-1.1-.9-2-2-2zM9 17H7v-7h2v7zm4 0h-2V7h2v10zm4 0h-2v-4h2v4z\"/>\n",
              "    </g>\n",
              "</svg>\n",
              "  </button>\n",
              "\n",
              "<style>\n",
              "  .colab-df-quickchart {\n",
              "      --bg-color: #E8F0FE;\n",
              "      --fill-color: #1967D2;\n",
              "      --hover-bg-color: #E2EBFA;\n",
              "      --hover-fill-color: #174EA6;\n",
              "      --disabled-fill-color: #AAA;\n",
              "      --disabled-bg-color: #DDD;\n",
              "  }\n",
              "\n",
              "  [theme=dark] .colab-df-quickchart {\n",
              "      --bg-color: #3B4455;\n",
              "      --fill-color: #D2E3FC;\n",
              "      --hover-bg-color: #434B5C;\n",
              "      --hover-fill-color: #FFFFFF;\n",
              "      --disabled-bg-color: #3B4455;\n",
              "      --disabled-fill-color: #666;\n",
              "  }\n",
              "\n",
              "  .colab-df-quickchart {\n",
              "    background-color: var(--bg-color);\n",
              "    border: none;\n",
              "    border-radius: 50%;\n",
              "    cursor: pointer;\n",
              "    display: none;\n",
              "    fill: var(--fill-color);\n",
              "    height: 32px;\n",
              "    padding: 0;\n",
              "    width: 32px;\n",
              "  }\n",
              "\n",
              "  .colab-df-quickchart:hover {\n",
              "    background-color: var(--hover-bg-color);\n",
              "    box-shadow: 0 1px 2px rgba(60, 64, 67, 0.3), 0 1px 3px 1px rgba(60, 64, 67, 0.15);\n",
              "    fill: var(--button-hover-fill-color);\n",
              "  }\n",
              "\n",
              "  .colab-df-quickchart-complete:disabled,\n",
              "  .colab-df-quickchart-complete:disabled:hover {\n",
              "    background-color: var(--disabled-bg-color);\n",
              "    fill: var(--disabled-fill-color);\n",
              "    box-shadow: none;\n",
              "  }\n",
              "\n",
              "  .colab-df-spinner {\n",
              "    border: 2px solid var(--fill-color);\n",
              "    border-color: transparent;\n",
              "    border-bottom-color: var(--fill-color);\n",
              "    animation:\n",
              "      spin 1s steps(1) infinite;\n",
              "  }\n",
              "\n",
              "  @keyframes spin {\n",
              "    0% {\n",
              "      border-color: transparent;\n",
              "      border-bottom-color: var(--fill-color);\n",
              "      border-left-color: var(--fill-color);\n",
              "    }\n",
              "    20% {\n",
              "      border-color: transparent;\n",
              "      border-left-color: var(--fill-color);\n",
              "      border-top-color: var(--fill-color);\n",
              "    }\n",
              "    30% {\n",
              "      border-color: transparent;\n",
              "      border-left-color: var(--fill-color);\n",
              "      border-top-color: var(--fill-color);\n",
              "      border-right-color: var(--fill-color);\n",
              "    }\n",
              "    40% {\n",
              "      border-color: transparent;\n",
              "      border-right-color: var(--fill-color);\n",
              "      border-top-color: var(--fill-color);\n",
              "    }\n",
              "    60% {\n",
              "      border-color: transparent;\n",
              "      border-right-color: var(--fill-color);\n",
              "    }\n",
              "    80% {\n",
              "      border-color: transparent;\n",
              "      border-right-color: var(--fill-color);\n",
              "      border-bottom-color: var(--fill-color);\n",
              "    }\n",
              "    90% {\n",
              "      border-color: transparent;\n",
              "      border-bottom-color: var(--fill-color);\n",
              "    }\n",
              "  }\n",
              "</style>\n",
              "\n",
              "  <script>\n",
              "    async function quickchart(key) {\n",
              "      const quickchartButtonEl =\n",
              "        document.querySelector('#' + key + ' button');\n",
              "      quickchartButtonEl.disabled = true;  // To prevent multiple clicks.\n",
              "      quickchartButtonEl.classList.add('colab-df-spinner');\n",
              "      try {\n",
              "        const charts = await google.colab.kernel.invokeFunction(\n",
              "            'suggestCharts', [key], {});\n",
              "      } catch (error) {\n",
              "        console.error('Error during call to suggestCharts:', error);\n",
              "      }\n",
              "      quickchartButtonEl.classList.remove('colab-df-spinner');\n",
              "      quickchartButtonEl.classList.add('colab-df-quickchart-complete');\n",
              "    }\n",
              "    (() => {\n",
              "      let quickchartButtonEl =\n",
              "        document.querySelector('#df-3e3be6c6-cfdb-4168-a6b8-43755c8f80b7 button');\n",
              "      quickchartButtonEl.style.display =\n",
              "        google.colab.kernel.accessAllowed ? 'block' : 'none';\n",
              "    })();\n",
              "  </script>\n",
              "</div>\n",
              "\n",
              "  <div id=\"id_d5765abc-8ce3-4db7-8fc8-8f7aaeba4815\">\n",
              "    <style>\n",
              "      .colab-df-generate {\n",
              "        background-color: #E8F0FE;\n",
              "        border: none;\n",
              "        border-radius: 50%;\n",
              "        cursor: pointer;\n",
              "        display: none;\n",
              "        fill: #1967D2;\n",
              "        height: 32px;\n",
              "        padding: 0 0 0 0;\n",
              "        width: 32px;\n",
              "      }\n",
              "\n",
              "      .colab-df-generate:hover {\n",
              "        background-color: #E2EBFA;\n",
              "        box-shadow: 0px 1px 2px rgba(60, 64, 67, 0.3), 0px 1px 3px 1px rgba(60, 64, 67, 0.15);\n",
              "        fill: #174EA6;\n",
              "      }\n",
              "\n",
              "      [theme=dark] .colab-df-generate {\n",
              "        background-color: #3B4455;\n",
              "        fill: #D2E3FC;\n",
              "      }\n",
              "\n",
              "      [theme=dark] .colab-df-generate:hover {\n",
              "        background-color: #434B5C;\n",
              "        box-shadow: 0px 1px 3px 1px rgba(0, 0, 0, 0.15);\n",
              "        filter: drop-shadow(0px 1px 2px rgba(0, 0, 0, 0.3));\n",
              "        fill: #FFFFFF;\n",
              "      }\n",
              "    </style>\n",
              "    <button class=\"colab-df-generate\" onclick=\"generateWithVariable('df_new')\"\n",
              "            title=\"Generate code using this dataframe.\"\n",
              "            style=\"display:none;\">\n",
              "\n",
              "  <svg xmlns=\"http://www.w3.org/2000/svg\" height=\"24px\"viewBox=\"0 0 24 24\"\n",
              "       width=\"24px\">\n",
              "    <path d=\"M7,19H8.4L18.45,9,17,7.55,7,17.6ZM5,21V16.75L18.45,3.32a2,2,0,0,1,2.83,0l1.4,1.43a1.91,1.91,0,0,1,.58,1.4,1.91,1.91,0,0,1-.58,1.4L9.25,21ZM18.45,9,17,7.55Zm-12,3A5.31,5.31,0,0,0,4.9,8.1,5.31,5.31,0,0,0,1,6.5,5.31,5.31,0,0,0,4.9,4.9,5.31,5.31,0,0,0,6.5,1,5.31,5.31,0,0,0,8.1,4.9,5.31,5.31,0,0,0,12,6.5,5.46,5.46,0,0,0,6.5,12Z\"/>\n",
              "  </svg>\n",
              "    </button>\n",
              "    <script>\n",
              "      (() => {\n",
              "      const buttonEl =\n",
              "        document.querySelector('#id_d5765abc-8ce3-4db7-8fc8-8f7aaeba4815 button.colab-df-generate');\n",
              "      buttonEl.style.display =\n",
              "        google.colab.kernel.accessAllowed ? 'block' : 'none';\n",
              "\n",
              "      buttonEl.onclick = () => {\n",
              "        google.colab.notebook.generateWithVariable('df_new');\n",
              "      }\n",
              "      })();\n",
              "    </script>\n",
              "  </div>\n",
              "\n",
              "    </div>\n",
              "  </div>\n"
            ],
            "text/plain": [
              "                                                 jobpost     IT\n",
              "0      Yerevan Brandy Company\\r\\nJOB TITLE:  Software...   True\n",
              "1      NetCall Communications\\r\\nJOB TITLE:  Network ...   True\n",
              "2      Xalt LLC\\r\\nJOB TITLE:  Graphic Designer\\r\\nPO...   True\n",
              "3      Caucasus Research Resource Center - Armenia\\r\\...   True\n",
              "4      CIT Ltd.\\r\\nJOB TITLE:  Programmer\\r\\nPOSITION...   True\n",
              "...                                                  ...    ...\n",
              "11995  Rotapharm Pharmaceutical Company\\r\\nTITLE:  Of...  False\n",
              "11996  \"FINCA\" UCO CJSC\\r\\nTITLE:  Internal Control D...  False\n",
              "11997  Zeppelin Armenia LLC\\r\\nTITLE:  Stockman\\r\\nOP...  False\n",
              "11998  Synopsys Armenia\\r\\nTITLE:  Layout Engineer/ S...  False\n",
              "11999  London School of Commerce\\r\\nTITLE:  MBA (Mast...  False\n",
              "\n",
              "[12000 rows x 2 columns]"
            ]
          },
          "execution_count": 9,
          "metadata": {},
          "output_type": "execute_result"
        }
      ],
      "source": [
        "# Check the data in the new dataframe\n",
        "df_new"
      ]
    },
    {
      "cell_type": "code",
      "execution_count": null,
      "metadata": {
        "colab": {
          "base_uri": "https://localhost:8080/"
        },
        "id": "opRobVVgpCtP",
        "outputId": "5f85f108-d0ee-4a29-dc4a-67a0311f2588"
      },
      "outputs": [
        {
          "name": "stdout",
          "output_type": "stream",
          "text": [
            "<class 'pandas.core.frame.DataFrame'>\n",
            "RangeIndex: 12000 entries, 0 to 11999\n",
            "Data columns (total 2 columns):\n",
            " #   Column   Non-Null Count  Dtype \n",
            "---  ------   --------------  ----- \n",
            " 0   jobpost  12000 non-null  object\n",
            " 1   IT       12000 non-null  bool  \n",
            "dtypes: bool(1), object(1)\n",
            "memory usage: 105.6+ KB\n"
          ]
        }
      ],
      "source": [
        "# Check the info of the new 'limited' dataframe\n",
        "df_new.info()"
      ]
    },
    {
      "cell_type": "code",
      "execution_count": null,
      "metadata": {
        "colab": {
          "base_uri": "https://localhost:8080/"
        },
        "id": "ynhjRJKmqQkP",
        "outputId": "1bb18ea9-dcae-4d5d-c043-a8fe20e25227"
      },
      "outputs": [
        {
          "data": {
            "text/plain": [
              "IT\n",
              "False    8241\n",
              "True     3759\n",
              "Name: count, dtype: int64"
            ]
          },
          "execution_count": 11,
          "metadata": {},
          "output_type": "execute_result"
        }
      ],
      "source": [
        "# Check again how many rows each type of label have\n",
        "df_new['IT'].value_counts()"
      ]
    },
    {
      "cell_type": "code",
      "execution_count": null,
      "metadata": {
        "colab": {
          "base_uri": "https://localhost:8080/"
        },
        "id": "26MMNF2geTfQ",
        "outputId": "101aa2de-fae0-4c74-9805-73823bc45681"
      },
      "outputs": [
        {
          "data": {
            "text/plain": [
              "12000"
            ]
          },
          "execution_count": 12,
          "metadata": {},
          "output_type": "execute_result"
        }
      ],
      "source": [
        "# Check how many missing value the new dataframe has (appears to be none)\n",
        "df_new = df_new.dropna(axis=1)\n",
        "len(df_new)"
      ]
    },
    {
      "cell_type": "code",
      "execution_count": null,
      "metadata": {
        "colab": {
          "base_uri": "https://localhost:8080/",
          "height": 206
        },
        "id": "TlgHacEyfAh4",
        "outputId": "0443ab38-e67d-4b14-9565-e41ff253a7b3"
      },
      "outputs": [
        {
          "data": {
            "application/vnd.google.colaboratory.intrinsic+json": {
              "summary": "{\n  \"name\": \"df_new\",\n  \"rows\": 12000,\n  \"fields\": [\n    {\n      \"column\": \"jobpost\",\n      \"properties\": {\n        \"dtype\": \"string\",\n        \"num_unique_values\": 11929,\n        \"samples\": [\n          \"DiploFoundation\\r\\nTITLE:  Bilateral Diplomacy\\r\\nEDUCATION TYPE:  Postgraduate Online Study\\r\\nINTENDED AUDIENCE:  Practicing diplomats or other civil servants who\\r\\nwould like to refresh or expand their knowledge of this important topic\\r\\nwith an experienced practitioner;\\r\\nLOCATION:  Genve, Switzerland\\r\\nDETAIL DESCRIPTION:  The objective of this postgraduate level online\\r\\ncourse offered by DiploFoundation is to acquaint participants with\\r\\nbilateral diplomacy; one of the essential building blocks of\\r\\ninternational relations. Teaching of basic theory is combined with\\r\\nconcrete experience resulting from the actual practice of diplomacy. The\\r\\ncourse should give participants a complete overview of the content and\\r\\nmethods of bilateral diplomacy, with practical examples that equip them\\r\\nto analyse international affairs. \\r\\nThis course is conducted entirely online, over a period of two months.\\r\\nParticipants will receive a course orientation pack by mail prior to the\\r\\ncourse, access lecture materials online, and attend weekly online\\r\\nsessions with the lecturer. Successful candidates will receive a\\r\\npostgraduate level certificate from DiploFoundation. \\r\\nLecturer: Ambassador KISHAN S. RANA retired as ambassador to Germany in\\r\\n1995, after 35 years in the Indian Foreign Service (serving as\\r\\nambassador/high commissioner in Algiers, Prague, Nairobi, and Mauritius,\\r\\nand consul general in San Francisco). He was a joint secretary in Prime\\r\\nMinister Indira Gandhi's office from 1981 to 1982. Ambassador Rana\\r\\nspecialised in economic diplomacy, and worked initially on Chinese\\r\\naffairs. Since 1995 he has worked as a business advisor, assisting\\r\\ninternational and Indian companies, and taught at the Foreign Service\\r\\nInstitute, New Delhi. He has written a study of the diplomatic process,\\r\\nInside Diplomacy (October 1999), and is co-author of Managing Corporate\\r\\nCulture, a book on business culture in India (November 1999). His most\\r\\nrecent publication is Bilateral Diplomacy (2002). \\r\\nDiploFoundation is an international provider of online training and\\r\\neducation in the field of diplomacy and international relations, with 10\\r\\nyears of experience.\\r\\nEDUCATIONAL LEVEL:  Postgraduate\\r\\nAPPLICATION PROCEDURES:  For more information on the course, please\\r\\nvisit http://www.diplomacy.edu/Edu/online/bilateral.asp or e-mailadmissions@....\\r\\nPlease clearly mention in your application letter that you learned of\\r\\nthis education opportunity through Career Center and mention the URL of\\r\\nits website - www.careercenter.am, Thanks.\\r\\nAPPLICATION DEADLINE:  14 May 04\\r\\nABOUT COMPANY:  DiploFoundation is a non-profit organisation which works\\r\\nto assist all countries, particularly those with limited human and\\r\\nfinancial resources, to participate meaningfully in international\\r\\naffairs, through education and training programs, research, and the\\r\\ndevelopment of information and communications technologies for\\r\\ndiplomatic activities.\\r\\nADDITIONAL NOTES:  Contact Info:\\r\\nDiploFoundation \\r\\nNon-profit Organisation\\r\\nE-mail: admissions@...\\r\\nWeb site: www.diplomacy.edu\\r\\n----------------------------------\\r\\nTo place a free posting for job or other career-related opportunities in\\r\\nyour organization on the careercenter.am website, e-mail us atmailbox@...\",\n          \"Ameriabank CJSC Stepanakert Branch\\r\\nTITLE:  Specialist-Cashier\\r\\nLOCATION:  Stepanakert, NKR\\r\\nJOB DESCRIPTION:  Ameriabank CJSC is seeking a specialist for the\\r\\nposition of Specialist-Cashier in the branch office located at\\r\\nStepanakert. The incumbent is responsible for high quality service\\r\\nprovision and cash operations implementation.\\r\\nJOB RESPONSIBILITIES:\\r\\n- Receive cash required for implementation of cash operations and return\\r\\nsurpluses; \\r\\n- Be responsible for cash deposit to and withdrawal from Client\\r\\naccounts, receiving and providing cash;\\r\\n- Record cash and non-cash foreign currency exchange operations;\\r\\n- Receive and execute payment orders submitted by clients; \\r\\n- Receive bank checks from clients;\\r\\n- Charge commissions on bank transactions;\\r\\n- Create and check-up the document package pertaining to daily\\r\\ntransactions.\\r\\nREQUIRED QUALIFICATIONS:\\r\\n- Higher education in Economics/Finance/Accounting;\\r\\n- Knowledge of RA Banking Legislation;\\r\\n- Strong interpersonal and communication skills;\\r\\n- Proficiency in MS Office, knowledge of AS-Bank would be a plus;\\r\\n- Fluency in Armenian, good knowledge of Russian and English languages;\\r\\n- At least 1 (one) year of relevant experience.\\r\\nREMUNERATION/ SALARY:  Highly competitive\\r\\nAPPLICATION PROCEDURES:  To apply for this position, please submit a\\r\\nresume to: 21 Vazgen Sargsyan St., Stepanakert, or send it by e-mail to:hr.branch@.... Please clearly mention in the subject line of\\r\\nyour e-mail the title of the position you are applying for.\\r\\nPlease clearly mention in your application letter that you learned of\\r\\nthis job opportunity through Career Center and mention the URL of its\\r\\nwebsite - www.careercenter.am, Thanks.\\r\\nOPENING DATE:  19 September 2008\\r\\nAPPLICATION DEADLINE:  25 September 2008\\r\\n----------------------------------\\r\\nTo place a free posting for job or other career-related opportunities\\r\\navailable in your organization, just go to the www.careercenter.am\\r\\nwebsite and follow the \\\"Post an Announcement\\\" link.\",\n          \"LTX-Credence Armenia LLC\\r\\n\\r\\n\\r\\nTITLE:  Hardware Engineer\\r\\n\\r\\n\\r\\nLOCATION:  Yerevan, Armenia\\r\\n\\r\\n\\r\\nJOB DESCRIPTION:  The Hardware Engineer will report to the Analog product\\r\\ndevelopment group. The successful candidate will develop Analog\\r\\ntechnology for precision measurement, signal sourcing functions and DSP\\r\\nfunctions as a member of the product development team. The Hardware\\r\\nEngineer will work closely with marketing and applications and have the\\r\\nopportunity to provide input to LTX-Credence's marketing strategies and\\r\\nfuture product developments.\\r\\n\\r\\n\\r\\nREQUIRED QUALIFICATIONS:\\r\\n- Master's degree in Electrical Engineering (MSEE) is preferred or\\r\\nBachelor's Degree in Electrical Engineering (BSEE) with additional\\r\\nexperience;\\r\\n- At least 1 year of experience with MSEE and 2 years of experience with\\r\\nBSEE, preferably in ATE is a definite plus;\\r\\n- Strong detailed DC circuit analysis skills, familiarity with\\r\\ncalibration of precision analog instrumentation;\\r\\n- Ability to understand and create hardware block diagrams and\\r\\nschematics;\\r\\n- Ability to understand engineering, manufacturing, and customer\\r\\nrequirements;\\r\\n- Excellent C/ C++ programming skills;\\r\\n- Problem solving and debugging skills with the ability to solve system\\r\\nwide problems;\\r\\n- Ability to quickly learn the company's ATE programming environment;\\r\\n- Good understanding of quality audio design is a strong plus;\\r\\n- System level trouble shooting skills;\\r\\n- Excellent communication and organizational skills;\\r\\n- Proven ability to develop quality deliverables on time;\\r\\n- Ability to team with software, hardware, applications and operations\\r\\nengineering staff, to bring-up new hardware designs and to diagnose chip\\r\\nand board problems;\\r\\n- Ability to adapt in a rapidly changing environment;\\r\\n- Good knowledge of the English language.\\r\\n\\r\\n\\r\\nAPPLICATION PROCEDURES:  Interested candidates are kindly requested to\\r\\nemail a CV/ resume in the English language to:\\r\\nnaira.nikoghosyan@... mentioning \\\"Hardware Engineer\\\" in the\\r\\nsubject line of the email.\\r\\nPlease clearly mention in your application letter that you learned of\\r\\nthis job opportunity through Career Center and mention the URL of its\\r\\nwebsite - www.careercenter.am, Thanks.\\r\\n\\r\\n\\r\\nOPENING DATE:  23 December 2015\\r\\n\\r\\n\\r\\nAPPLICATION DEADLINE:  22 January 2016\\r\\n\\r\\n\\r\\nABOUT COMPANY:  LTX-Credence Armenia is an engineering development\\r\\ncompany and a subsidiary of the US-based Xcerra Corporation (formerly\\r\\nLTX-Credence Corporation).\\r\\n\\r\\n\\r\\n----------------------------------\\r\\nTo place a free posting for job or other career-related opportunities\\r\\navailable in your organization, just go to the www.careercenter.am\\r\\nwebsite and follow the \\\"Post an Announcement\\\" link.\"\n        ],\n        \"semantic_type\": \"\",\n        \"description\": \"\"\n      }\n    },\n    {\n      \"column\": \"IT\",\n      \"properties\": {\n        \"dtype\": \"number\",\n        \"std\": 0,\n        \"min\": 0,\n        \"max\": 1,\n        \"num_unique_values\": 2,\n        \"samples\": [\n          0,\n          1\n        ],\n        \"semantic_type\": \"\",\n        \"description\": \"\"\n      }\n    }\n  ]\n}",
              "type": "dataframe",
              "variable_name": "df_new"
            },
            "text/html": [
              "\n",
              "  <div id=\"df-53700a96-b4b6-4598-86b6-e42d5be688fb\" class=\"colab-df-container\">\n",
              "    <div>\n",
              "<style scoped>\n",
              "    .dataframe tbody tr th:only-of-type {\n",
              "        vertical-align: middle;\n",
              "    }\n",
              "\n",
              "    .dataframe tbody tr th {\n",
              "        vertical-align: top;\n",
              "    }\n",
              "\n",
              "    .dataframe thead th {\n",
              "        text-align: right;\n",
              "    }\n",
              "</style>\n",
              "<table border=\"1\" class=\"dataframe\">\n",
              "  <thead>\n",
              "    <tr style=\"text-align: right;\">\n",
              "      <th></th>\n",
              "      <th>jobpost</th>\n",
              "      <th>IT</th>\n",
              "    </tr>\n",
              "  </thead>\n",
              "  <tbody>\n",
              "    <tr>\n",
              "      <th>0</th>\n",
              "      <td>Yerevan Brandy Company\\r\\nJOB TITLE:  Software...</td>\n",
              "      <td>1</td>\n",
              "    </tr>\n",
              "    <tr>\n",
              "      <th>1</th>\n",
              "      <td>NetCall Communications\\r\\nJOB TITLE:  Network ...</td>\n",
              "      <td>1</td>\n",
              "    </tr>\n",
              "    <tr>\n",
              "      <th>2</th>\n",
              "      <td>Xalt LLC\\r\\nJOB TITLE:  Graphic Designer\\r\\nPO...</td>\n",
              "      <td>1</td>\n",
              "    </tr>\n",
              "    <tr>\n",
              "      <th>3</th>\n",
              "      <td>Caucasus Research Resource Center - Armenia\\r\\...</td>\n",
              "      <td>1</td>\n",
              "    </tr>\n",
              "    <tr>\n",
              "      <th>4</th>\n",
              "      <td>CIT Ltd.\\r\\nJOB TITLE:  Programmer\\r\\nPOSITION...</td>\n",
              "      <td>1</td>\n",
              "    </tr>\n",
              "  </tbody>\n",
              "</table>\n",
              "</div>\n",
              "    <div class=\"colab-df-buttons\">\n",
              "\n",
              "  <div class=\"colab-df-container\">\n",
              "    <button class=\"colab-df-convert\" onclick=\"convertToInteractive('df-53700a96-b4b6-4598-86b6-e42d5be688fb')\"\n",
              "            title=\"Convert this dataframe to an interactive table.\"\n",
              "            style=\"display:none;\">\n",
              "\n",
              "  <svg xmlns=\"http://www.w3.org/2000/svg\" height=\"24px\" viewBox=\"0 -960 960 960\">\n",
              "    <path d=\"M120-120v-720h720v720H120Zm60-500h600v-160H180v160Zm220 220h160v-160H400v160Zm0 220h160v-160H400v160ZM180-400h160v-160H180v160Zm440 0h160v-160H620v160ZM180-180h160v-160H180v160Zm440 0h160v-160H620v160Z\"/>\n",
              "  </svg>\n",
              "    </button>\n",
              "\n",
              "  <style>\n",
              "    .colab-df-container {\n",
              "      display:flex;\n",
              "      gap: 12px;\n",
              "    }\n",
              "\n",
              "    .colab-df-convert {\n",
              "      background-color: #E8F0FE;\n",
              "      border: none;\n",
              "      border-radius: 50%;\n",
              "      cursor: pointer;\n",
              "      display: none;\n",
              "      fill: #1967D2;\n",
              "      height: 32px;\n",
              "      padding: 0 0 0 0;\n",
              "      width: 32px;\n",
              "    }\n",
              "\n",
              "    .colab-df-convert:hover {\n",
              "      background-color: #E2EBFA;\n",
              "      box-shadow: 0px 1px 2px rgba(60, 64, 67, 0.3), 0px 1px 3px 1px rgba(60, 64, 67, 0.15);\n",
              "      fill: #174EA6;\n",
              "    }\n",
              "\n",
              "    .colab-df-buttons div {\n",
              "      margin-bottom: 4px;\n",
              "    }\n",
              "\n",
              "    [theme=dark] .colab-df-convert {\n",
              "      background-color: #3B4455;\n",
              "      fill: #D2E3FC;\n",
              "    }\n",
              "\n",
              "    [theme=dark] .colab-df-convert:hover {\n",
              "      background-color: #434B5C;\n",
              "      box-shadow: 0px 1px 3px 1px rgba(0, 0, 0, 0.15);\n",
              "      filter: drop-shadow(0px 1px 2px rgba(0, 0, 0, 0.3));\n",
              "      fill: #FFFFFF;\n",
              "    }\n",
              "  </style>\n",
              "\n",
              "    <script>\n",
              "      const buttonEl =\n",
              "        document.querySelector('#df-53700a96-b4b6-4598-86b6-e42d5be688fb button.colab-df-convert');\n",
              "      buttonEl.style.display =\n",
              "        google.colab.kernel.accessAllowed ? 'block' : 'none';\n",
              "\n",
              "      async function convertToInteractive(key) {\n",
              "        const element = document.querySelector('#df-53700a96-b4b6-4598-86b6-e42d5be688fb');\n",
              "        const dataTable =\n",
              "          await google.colab.kernel.invokeFunction('convertToInteractive',\n",
              "                                                    [key], {});\n",
              "        if (!dataTable) return;\n",
              "\n",
              "        const docLinkHtml = 'Like what you see? Visit the ' +\n",
              "          '<a target=\"_blank\" href=https://colab.research.google.com/notebooks/data_table.ipynb>data table notebook</a>'\n",
              "          + ' to learn more about interactive tables.';\n",
              "        element.innerHTML = '';\n",
              "        dataTable['output_type'] = 'display_data';\n",
              "        await google.colab.output.renderOutput(dataTable, element);\n",
              "        const docLink = document.createElement('div');\n",
              "        docLink.innerHTML = docLinkHtml;\n",
              "        element.appendChild(docLink);\n",
              "      }\n",
              "    </script>\n",
              "  </div>\n",
              "\n",
              "\n",
              "<div id=\"df-23f3e55f-74c7-47e4-9972-50c24152e5c4\">\n",
              "  <button class=\"colab-df-quickchart\" onclick=\"quickchart('df-23f3e55f-74c7-47e4-9972-50c24152e5c4')\"\n",
              "            title=\"Suggest charts\"\n",
              "            style=\"display:none;\">\n",
              "\n",
              "<svg xmlns=\"http://www.w3.org/2000/svg\" height=\"24px\"viewBox=\"0 0 24 24\"\n",
              "     width=\"24px\">\n",
              "    <g>\n",
              "        <path d=\"M19 3H5c-1.1 0-2 .9-2 2v14c0 1.1.9 2 2 2h14c1.1 0 2-.9 2-2V5c0-1.1-.9-2-2-2zM9 17H7v-7h2v7zm4 0h-2V7h2v10zm4 0h-2v-4h2v4z\"/>\n",
              "    </g>\n",
              "</svg>\n",
              "  </button>\n",
              "\n",
              "<style>\n",
              "  .colab-df-quickchart {\n",
              "      --bg-color: #E8F0FE;\n",
              "      --fill-color: #1967D2;\n",
              "      --hover-bg-color: #E2EBFA;\n",
              "      --hover-fill-color: #174EA6;\n",
              "      --disabled-fill-color: #AAA;\n",
              "      --disabled-bg-color: #DDD;\n",
              "  }\n",
              "\n",
              "  [theme=dark] .colab-df-quickchart {\n",
              "      --bg-color: #3B4455;\n",
              "      --fill-color: #D2E3FC;\n",
              "      --hover-bg-color: #434B5C;\n",
              "      --hover-fill-color: #FFFFFF;\n",
              "      --disabled-bg-color: #3B4455;\n",
              "      --disabled-fill-color: #666;\n",
              "  }\n",
              "\n",
              "  .colab-df-quickchart {\n",
              "    background-color: var(--bg-color);\n",
              "    border: none;\n",
              "    border-radius: 50%;\n",
              "    cursor: pointer;\n",
              "    display: none;\n",
              "    fill: var(--fill-color);\n",
              "    height: 32px;\n",
              "    padding: 0;\n",
              "    width: 32px;\n",
              "  }\n",
              "\n",
              "  .colab-df-quickchart:hover {\n",
              "    background-color: var(--hover-bg-color);\n",
              "    box-shadow: 0 1px 2px rgba(60, 64, 67, 0.3), 0 1px 3px 1px rgba(60, 64, 67, 0.15);\n",
              "    fill: var(--button-hover-fill-color);\n",
              "  }\n",
              "\n",
              "  .colab-df-quickchart-complete:disabled,\n",
              "  .colab-df-quickchart-complete:disabled:hover {\n",
              "    background-color: var(--disabled-bg-color);\n",
              "    fill: var(--disabled-fill-color);\n",
              "    box-shadow: none;\n",
              "  }\n",
              "\n",
              "  .colab-df-spinner {\n",
              "    border: 2px solid var(--fill-color);\n",
              "    border-color: transparent;\n",
              "    border-bottom-color: var(--fill-color);\n",
              "    animation:\n",
              "      spin 1s steps(1) infinite;\n",
              "  }\n",
              "\n",
              "  @keyframes spin {\n",
              "    0% {\n",
              "      border-color: transparent;\n",
              "      border-bottom-color: var(--fill-color);\n",
              "      border-left-color: var(--fill-color);\n",
              "    }\n",
              "    20% {\n",
              "      border-color: transparent;\n",
              "      border-left-color: var(--fill-color);\n",
              "      border-top-color: var(--fill-color);\n",
              "    }\n",
              "    30% {\n",
              "      border-color: transparent;\n",
              "      border-left-color: var(--fill-color);\n",
              "      border-top-color: var(--fill-color);\n",
              "      border-right-color: var(--fill-color);\n",
              "    }\n",
              "    40% {\n",
              "      border-color: transparent;\n",
              "      border-right-color: var(--fill-color);\n",
              "      border-top-color: var(--fill-color);\n",
              "    }\n",
              "    60% {\n",
              "      border-color: transparent;\n",
              "      border-right-color: var(--fill-color);\n",
              "    }\n",
              "    80% {\n",
              "      border-color: transparent;\n",
              "      border-right-color: var(--fill-color);\n",
              "      border-bottom-color: var(--fill-color);\n",
              "    }\n",
              "    90% {\n",
              "      border-color: transparent;\n",
              "      border-bottom-color: var(--fill-color);\n",
              "    }\n",
              "  }\n",
              "</style>\n",
              "\n",
              "  <script>\n",
              "    async function quickchart(key) {\n",
              "      const quickchartButtonEl =\n",
              "        document.querySelector('#' + key + ' button');\n",
              "      quickchartButtonEl.disabled = true;  // To prevent multiple clicks.\n",
              "      quickchartButtonEl.classList.add('colab-df-spinner');\n",
              "      try {\n",
              "        const charts = await google.colab.kernel.invokeFunction(\n",
              "            'suggestCharts', [key], {});\n",
              "      } catch (error) {\n",
              "        console.error('Error during call to suggestCharts:', error);\n",
              "      }\n",
              "      quickchartButtonEl.classList.remove('colab-df-spinner');\n",
              "      quickchartButtonEl.classList.add('colab-df-quickchart-complete');\n",
              "    }\n",
              "    (() => {\n",
              "      let quickchartButtonEl =\n",
              "        document.querySelector('#df-23f3e55f-74c7-47e4-9972-50c24152e5c4 button');\n",
              "      quickchartButtonEl.style.display =\n",
              "        google.colab.kernel.accessAllowed ? 'block' : 'none';\n",
              "    })();\n",
              "  </script>\n",
              "</div>\n",
              "\n",
              "    </div>\n",
              "  </div>\n"
            ],
            "text/plain": [
              "                                             jobpost  IT\n",
              "0  Yerevan Brandy Company\\r\\nJOB TITLE:  Software...   1\n",
              "1  NetCall Communications\\r\\nJOB TITLE:  Network ...   1\n",
              "2  Xalt LLC\\r\\nJOB TITLE:  Graphic Designer\\r\\nPO...   1\n",
              "3  Caucasus Research Resource Center - Armenia\\r\\...   1\n",
              "4  CIT Ltd.\\r\\nJOB TITLE:  Programmer\\r\\nPOSITION...   1"
            ]
          },
          "execution_count": 13,
          "metadata": {},
          "output_type": "execute_result"
        }
      ],
      "source": [
        "# Convert label to numeric form\n",
        "df_new['IT'].replace([True, False], [1, 0], inplace=True)\n",
        "df_new.head()"
      ]
    },
    {
      "cell_type": "code",
      "execution_count": null,
      "metadata": {
        "id": "SRsJ7NX9h8Vn"
      },
      "outputs": [],
      "source": [
        "# Checkpoint\n",
        "df_pre = df_new.copy()"
      ]
    },
    {
      "cell_type": "markdown",
      "metadata": {
        "id": "JIP4vIcZhTsQ"
      },
      "source": [
        "# Data Cleansing"
      ]
    },
    {
      "cell_type": "code",
      "execution_count": null,
      "metadata": {
        "id": "AQ_CTHCmhSkC"
      },
      "outputs": [],
      "source": [
        "# Function for cleaning text\n",
        "def cleansing(df):\n",
        "    df_clean = df.str.lower()\n",
        "    df_clean = [re.sub(r\"http\\S+\", \"\", i) for i in df_clean]\n",
        "    df_clean = [re.sub(r\"&\\S+\", \"\", i) for i in df_clean]\n",
        "    df_clean = [re.sub(r\"\\d+\",\"\", i) for i in df_clean]\n",
        "    df_clean = [re.sub(r'[^\\w\\s]', ' ', i) for i in df_clean]\n",
        "    df_clean = [re.sub(r'\\s+',' ', i) for i in df_clean]\n",
        "    return df_clean"
      ]
    },
    {
      "cell_type": "code",
      "execution_count": null,
      "metadata": {
        "colab": {
          "base_uri": "https://localhost:8080/",
          "height": 206
        },
        "id": "QgpCzLoSiuYa",
        "outputId": "4ce56c90-2b92-4e0d-d413-8679c9c0a5ca"
      },
      "outputs": [
        {
          "data": {
            "application/vnd.google.colaboratory.intrinsic+json": {
              "summary": "{\n  \"name\": \"df_clean\",\n  \"rows\": 12000,\n  \"fields\": [\n    {\n      \"column\": \"jobpost\",\n      \"properties\": {\n        \"dtype\": \"string\",\n        \"num_unique_values\": 11929,\n        \"samples\": [\n          \"DiploFoundation\\r\\nTITLE:  Bilateral Diplomacy\\r\\nEDUCATION TYPE:  Postgraduate Online Study\\r\\nINTENDED AUDIENCE:  Practicing diplomats or other civil servants who\\r\\nwould like to refresh or expand their knowledge of this important topic\\r\\nwith an experienced practitioner;\\r\\nLOCATION:  Genve, Switzerland\\r\\nDETAIL DESCRIPTION:  The objective of this postgraduate level online\\r\\ncourse offered by DiploFoundation is to acquaint participants with\\r\\nbilateral diplomacy; one of the essential building blocks of\\r\\ninternational relations. Teaching of basic theory is combined with\\r\\nconcrete experience resulting from the actual practice of diplomacy. The\\r\\ncourse should give participants a complete overview of the content and\\r\\nmethods of bilateral diplomacy, with practical examples that equip them\\r\\nto analyse international affairs. \\r\\nThis course is conducted entirely online, over a period of two months.\\r\\nParticipants will receive a course orientation pack by mail prior to the\\r\\ncourse, access lecture materials online, and attend weekly online\\r\\nsessions with the lecturer. Successful candidates will receive a\\r\\npostgraduate level certificate from DiploFoundation. \\r\\nLecturer: Ambassador KISHAN S. RANA retired as ambassador to Germany in\\r\\n1995, after 35 years in the Indian Foreign Service (serving as\\r\\nambassador/high commissioner in Algiers, Prague, Nairobi, and Mauritius,\\r\\nand consul general in San Francisco). He was a joint secretary in Prime\\r\\nMinister Indira Gandhi's office from 1981 to 1982. Ambassador Rana\\r\\nspecialised in economic diplomacy, and worked initially on Chinese\\r\\naffairs. Since 1995 he has worked as a business advisor, assisting\\r\\ninternational and Indian companies, and taught at the Foreign Service\\r\\nInstitute, New Delhi. He has written a study of the diplomatic process,\\r\\nInside Diplomacy (October 1999), and is co-author of Managing Corporate\\r\\nCulture, a book on business culture in India (November 1999). His most\\r\\nrecent publication is Bilateral Diplomacy (2002). \\r\\nDiploFoundation is an international provider of online training and\\r\\neducation in the field of diplomacy and international relations, with 10\\r\\nyears of experience.\\r\\nEDUCATIONAL LEVEL:  Postgraduate\\r\\nAPPLICATION PROCEDURES:  For more information on the course, please\\r\\nvisit http://www.diplomacy.edu/Edu/online/bilateral.asp or e-mailadmissions@....\\r\\nPlease clearly mention in your application letter that you learned of\\r\\nthis education opportunity through Career Center and mention the URL of\\r\\nits website - www.careercenter.am, Thanks.\\r\\nAPPLICATION DEADLINE:  14 May 04\\r\\nABOUT COMPANY:  DiploFoundation is a non-profit organisation which works\\r\\nto assist all countries, particularly those with limited human and\\r\\nfinancial resources, to participate meaningfully in international\\r\\naffairs, through education and training programs, research, and the\\r\\ndevelopment of information and communications technologies for\\r\\ndiplomatic activities.\\r\\nADDITIONAL NOTES:  Contact Info:\\r\\nDiploFoundation \\r\\nNon-profit Organisation\\r\\nE-mail: admissions@...\\r\\nWeb site: www.diplomacy.edu\\r\\n----------------------------------\\r\\nTo place a free posting for job or other career-related opportunities in\\r\\nyour organization on the careercenter.am website, e-mail us atmailbox@...\",\n          \"Ameriabank CJSC Stepanakert Branch\\r\\nTITLE:  Specialist-Cashier\\r\\nLOCATION:  Stepanakert, NKR\\r\\nJOB DESCRIPTION:  Ameriabank CJSC is seeking a specialist for the\\r\\nposition of Specialist-Cashier in the branch office located at\\r\\nStepanakert. The incumbent is responsible for high quality service\\r\\nprovision and cash operations implementation.\\r\\nJOB RESPONSIBILITIES:\\r\\n- Receive cash required for implementation of cash operations and return\\r\\nsurpluses; \\r\\n- Be responsible for cash deposit to and withdrawal from Client\\r\\naccounts, receiving and providing cash;\\r\\n- Record cash and non-cash foreign currency exchange operations;\\r\\n- Receive and execute payment orders submitted by clients; \\r\\n- Receive bank checks from clients;\\r\\n- Charge commissions on bank transactions;\\r\\n- Create and check-up the document package pertaining to daily\\r\\ntransactions.\\r\\nREQUIRED QUALIFICATIONS:\\r\\n- Higher education in Economics/Finance/Accounting;\\r\\n- Knowledge of RA Banking Legislation;\\r\\n- Strong interpersonal and communication skills;\\r\\n- Proficiency in MS Office, knowledge of AS-Bank would be a plus;\\r\\n- Fluency in Armenian, good knowledge of Russian and English languages;\\r\\n- At least 1 (one) year of relevant experience.\\r\\nREMUNERATION/ SALARY:  Highly competitive\\r\\nAPPLICATION PROCEDURES:  To apply for this position, please submit a\\r\\nresume to: 21 Vazgen Sargsyan St., Stepanakert, or send it by e-mail to:hr.branch@.... Please clearly mention in the subject line of\\r\\nyour e-mail the title of the position you are applying for.\\r\\nPlease clearly mention in your application letter that you learned of\\r\\nthis job opportunity through Career Center and mention the URL of its\\r\\nwebsite - www.careercenter.am, Thanks.\\r\\nOPENING DATE:  19 September 2008\\r\\nAPPLICATION DEADLINE:  25 September 2008\\r\\n----------------------------------\\r\\nTo place a free posting for job or other career-related opportunities\\r\\navailable in your organization, just go to the www.careercenter.am\\r\\nwebsite and follow the \\\"Post an Announcement\\\" link.\",\n          \"LTX-Credence Armenia LLC\\r\\n\\r\\n\\r\\nTITLE:  Hardware Engineer\\r\\n\\r\\n\\r\\nLOCATION:  Yerevan, Armenia\\r\\n\\r\\n\\r\\nJOB DESCRIPTION:  The Hardware Engineer will report to the Analog product\\r\\ndevelopment group. The successful candidate will develop Analog\\r\\ntechnology for precision measurement, signal sourcing functions and DSP\\r\\nfunctions as a member of the product development team. The Hardware\\r\\nEngineer will work closely with marketing and applications and have the\\r\\nopportunity to provide input to LTX-Credence's marketing strategies and\\r\\nfuture product developments.\\r\\n\\r\\n\\r\\nREQUIRED QUALIFICATIONS:\\r\\n- Master's degree in Electrical Engineering (MSEE) is preferred or\\r\\nBachelor's Degree in Electrical Engineering (BSEE) with additional\\r\\nexperience;\\r\\n- At least 1 year of experience with MSEE and 2 years of experience with\\r\\nBSEE, preferably in ATE is a definite plus;\\r\\n- Strong detailed DC circuit analysis skills, familiarity with\\r\\ncalibration of precision analog instrumentation;\\r\\n- Ability to understand and create hardware block diagrams and\\r\\nschematics;\\r\\n- Ability to understand engineering, manufacturing, and customer\\r\\nrequirements;\\r\\n- Excellent C/ C++ programming skills;\\r\\n- Problem solving and debugging skills with the ability to solve system\\r\\nwide problems;\\r\\n- Ability to quickly learn the company's ATE programming environment;\\r\\n- Good understanding of quality audio design is a strong plus;\\r\\n- System level trouble shooting skills;\\r\\n- Excellent communication and organizational skills;\\r\\n- Proven ability to develop quality deliverables on time;\\r\\n- Ability to team with software, hardware, applications and operations\\r\\nengineering staff, to bring-up new hardware designs and to diagnose chip\\r\\nand board problems;\\r\\n- Ability to adapt in a rapidly changing environment;\\r\\n- Good knowledge of the English language.\\r\\n\\r\\n\\r\\nAPPLICATION PROCEDURES:  Interested candidates are kindly requested to\\r\\nemail a CV/ resume in the English language to:\\r\\nnaira.nikoghosyan@... mentioning \\\"Hardware Engineer\\\" in the\\r\\nsubject line of the email.\\r\\nPlease clearly mention in your application letter that you learned of\\r\\nthis job opportunity through Career Center and mention the URL of its\\r\\nwebsite - www.careercenter.am, Thanks.\\r\\n\\r\\n\\r\\nOPENING DATE:  23 December 2015\\r\\n\\r\\n\\r\\nAPPLICATION DEADLINE:  22 January 2016\\r\\n\\r\\n\\r\\nABOUT COMPANY:  LTX-Credence Armenia is an engineering development\\r\\ncompany and a subsidiary of the US-based Xcerra Corporation (formerly\\r\\nLTX-Credence Corporation).\\r\\n\\r\\n\\r\\n----------------------------------\\r\\nTo place a free posting for job or other career-related opportunities\\r\\navailable in your organization, just go to the www.careercenter.am\\r\\nwebsite and follow the \\\"Post an Announcement\\\" link.\"\n        ],\n        \"semantic_type\": \"\",\n        \"description\": \"\"\n      }\n    },\n    {\n      \"column\": \"IT\",\n      \"properties\": {\n        \"dtype\": \"number\",\n        \"std\": 0,\n        \"min\": 0,\n        \"max\": 1,\n        \"num_unique_values\": 2,\n        \"samples\": [\n          0,\n          1\n        ],\n        \"semantic_type\": \"\",\n        \"description\": \"\"\n      }\n    },\n    {\n      \"column\": \"clean_text\",\n      \"properties\": {\n        \"dtype\": \"string\",\n        \"num_unique_values\": 11866,\n        \"samples\": [\n          \"smart tech llc title php developer term full time open to eligibility criteria all interested candidates start date time asap duration permanent with month probation period location yerevan armenia job description n a job responsibilities design and develop web based applications according to technical documentation using proven patterns and best practices participate in application design communicate effectively with local management and external team members develop test cases required qualifications excellent knowledge of php relational databases ajax mvc xml soap rpcxml and json familiarity with owasp and other web application security standards techniques knowledge of unix based operating systems is welcomed remuneration salary attractive based on skills and experience application procedures all interested persons should send their cvs to the e mail jobs please add the php developer string in the subject field of your e mail only shortlist candidates will be contacted please clearly mention in your application letter that you learned of this job opportunity through career center and mention the url of its website www careercenter am thanks opening date august application deadline september about company to learn about smart tech llc please visit www smart am to place a free posting for job or other career related opportunities available in your organization just go to the www careercenter am website and follow the post an announcement link \",\n          \"max concern title financier term full time open to eligibility criteria all interested and qualified candidates start date time asap duration long term location yerevan armenia job description max concern is looking for a person to fill the position of financier job responsibilities adopt and develop accounting system prepare financial and managerial reports realize financial analysis and arrange the conclusion arrange economic standards budget the company activity required qualifications financial education relevant professional experience is desirable engagement in acca is desirable perfect knowledge of financial analysis knowledge of russian and english languages is desirable ms office implication remuneration salary competitive application procedures all qualified candidates should send their cvs to max_concern please clearly mention in your application letter that you learned of this job opportunity through career center and mention the url of its website www careercenter am thanks opening date november application deadline november about company max concern is a managerial company to place a free posting for job or other career related opportunities available in your organization just go to the www careercenter am website and follow the post an announcement link \"\n        ],\n        \"semantic_type\": \"\",\n        \"description\": \"\"\n      }\n    }\n  ]\n}",
              "type": "dataframe",
              "variable_name": "df_clean"
            },
            "text/html": [
              "\n",
              "  <div id=\"df-81fcc4d9-b808-4ed1-b402-880698f41ac3\" class=\"colab-df-container\">\n",
              "    <div>\n",
              "<style scoped>\n",
              "    .dataframe tbody tr th:only-of-type {\n",
              "        vertical-align: middle;\n",
              "    }\n",
              "\n",
              "    .dataframe tbody tr th {\n",
              "        vertical-align: top;\n",
              "    }\n",
              "\n",
              "    .dataframe thead th {\n",
              "        text-align: right;\n",
              "    }\n",
              "</style>\n",
              "<table border=\"1\" class=\"dataframe\">\n",
              "  <thead>\n",
              "    <tr style=\"text-align: right;\">\n",
              "      <th></th>\n",
              "      <th>jobpost</th>\n",
              "      <th>IT</th>\n",
              "      <th>clean_text</th>\n",
              "    </tr>\n",
              "  </thead>\n",
              "  <tbody>\n",
              "    <tr>\n",
              "      <th>0</th>\n",
              "      <td>Yerevan Brandy Company\\r\\nJOB TITLE:  Software...</td>\n",
              "      <td>1</td>\n",
              "      <td>yerevan brandy company job title software deve...</td>\n",
              "    </tr>\n",
              "    <tr>\n",
              "      <th>1</th>\n",
              "      <td>NetCall Communications\\r\\nJOB TITLE:  Network ...</td>\n",
              "      <td>1</td>\n",
              "      <td>netcall communications job title network admin...</td>\n",
              "    </tr>\n",
              "    <tr>\n",
              "      <th>2</th>\n",
              "      <td>Xalt LLC\\r\\nJOB TITLE:  Graphic Designer\\r\\nPO...</td>\n",
              "      <td>1</td>\n",
              "      <td>xalt llc job title graphic designer position l...</td>\n",
              "    </tr>\n",
              "    <tr>\n",
              "      <th>3</th>\n",
              "      <td>Caucasus Research Resource Center - Armenia\\r\\...</td>\n",
              "      <td>1</td>\n",
              "      <td>caucasus research resource center armenia titl...</td>\n",
              "    </tr>\n",
              "    <tr>\n",
              "      <th>4</th>\n",
              "      <td>CIT Ltd.\\r\\nJOB TITLE:  Programmer\\r\\nPOSITION...</td>\n",
              "      <td>1</td>\n",
              "      <td>cit ltd job title programmer position location...</td>\n",
              "    </tr>\n",
              "  </tbody>\n",
              "</table>\n",
              "</div>\n",
              "    <div class=\"colab-df-buttons\">\n",
              "\n",
              "  <div class=\"colab-df-container\">\n",
              "    <button class=\"colab-df-convert\" onclick=\"convertToInteractive('df-81fcc4d9-b808-4ed1-b402-880698f41ac3')\"\n",
              "            title=\"Convert this dataframe to an interactive table.\"\n",
              "            style=\"display:none;\">\n",
              "\n",
              "  <svg xmlns=\"http://www.w3.org/2000/svg\" height=\"24px\" viewBox=\"0 -960 960 960\">\n",
              "    <path d=\"M120-120v-720h720v720H120Zm60-500h600v-160H180v160Zm220 220h160v-160H400v160Zm0 220h160v-160H400v160ZM180-400h160v-160H180v160Zm440 0h160v-160H620v160ZM180-180h160v-160H180v160Zm440 0h160v-160H620v160Z\"/>\n",
              "  </svg>\n",
              "    </button>\n",
              "\n",
              "  <style>\n",
              "    .colab-df-container {\n",
              "      display:flex;\n",
              "      gap: 12px;\n",
              "    }\n",
              "\n",
              "    .colab-df-convert {\n",
              "      background-color: #E8F0FE;\n",
              "      border: none;\n",
              "      border-radius: 50%;\n",
              "      cursor: pointer;\n",
              "      display: none;\n",
              "      fill: #1967D2;\n",
              "      height: 32px;\n",
              "      padding: 0 0 0 0;\n",
              "      width: 32px;\n",
              "    }\n",
              "\n",
              "    .colab-df-convert:hover {\n",
              "      background-color: #E2EBFA;\n",
              "      box-shadow: 0px 1px 2px rgba(60, 64, 67, 0.3), 0px 1px 3px 1px rgba(60, 64, 67, 0.15);\n",
              "      fill: #174EA6;\n",
              "    }\n",
              "\n",
              "    .colab-df-buttons div {\n",
              "      margin-bottom: 4px;\n",
              "    }\n",
              "\n",
              "    [theme=dark] .colab-df-convert {\n",
              "      background-color: #3B4455;\n",
              "      fill: #D2E3FC;\n",
              "    }\n",
              "\n",
              "    [theme=dark] .colab-df-convert:hover {\n",
              "      background-color: #434B5C;\n",
              "      box-shadow: 0px 1px 3px 1px rgba(0, 0, 0, 0.15);\n",
              "      filter: drop-shadow(0px 1px 2px rgba(0, 0, 0, 0.3));\n",
              "      fill: #FFFFFF;\n",
              "    }\n",
              "  </style>\n",
              "\n",
              "    <script>\n",
              "      const buttonEl =\n",
              "        document.querySelector('#df-81fcc4d9-b808-4ed1-b402-880698f41ac3 button.colab-df-convert');\n",
              "      buttonEl.style.display =\n",
              "        google.colab.kernel.accessAllowed ? 'block' : 'none';\n",
              "\n",
              "      async function convertToInteractive(key) {\n",
              "        const element = document.querySelector('#df-81fcc4d9-b808-4ed1-b402-880698f41ac3');\n",
              "        const dataTable =\n",
              "          await google.colab.kernel.invokeFunction('convertToInteractive',\n",
              "                                                    [key], {});\n",
              "        if (!dataTable) return;\n",
              "\n",
              "        const docLinkHtml = 'Like what you see? Visit the ' +\n",
              "          '<a target=\"_blank\" href=https://colab.research.google.com/notebooks/data_table.ipynb>data table notebook</a>'\n",
              "          + ' to learn more about interactive tables.';\n",
              "        element.innerHTML = '';\n",
              "        dataTable['output_type'] = 'display_data';\n",
              "        await google.colab.output.renderOutput(dataTable, element);\n",
              "        const docLink = document.createElement('div');\n",
              "        docLink.innerHTML = docLinkHtml;\n",
              "        element.appendChild(docLink);\n",
              "      }\n",
              "    </script>\n",
              "  </div>\n",
              "\n",
              "\n",
              "<div id=\"df-c55910be-8e87-4c5f-aea0-7ff5fd88aac7\">\n",
              "  <button class=\"colab-df-quickchart\" onclick=\"quickchart('df-c55910be-8e87-4c5f-aea0-7ff5fd88aac7')\"\n",
              "            title=\"Suggest charts\"\n",
              "            style=\"display:none;\">\n",
              "\n",
              "<svg xmlns=\"http://www.w3.org/2000/svg\" height=\"24px\"viewBox=\"0 0 24 24\"\n",
              "     width=\"24px\">\n",
              "    <g>\n",
              "        <path d=\"M19 3H5c-1.1 0-2 .9-2 2v14c0 1.1.9 2 2 2h14c1.1 0 2-.9 2-2V5c0-1.1-.9-2-2-2zM9 17H7v-7h2v7zm4 0h-2V7h2v10zm4 0h-2v-4h2v4z\"/>\n",
              "    </g>\n",
              "</svg>\n",
              "  </button>\n",
              "\n",
              "<style>\n",
              "  .colab-df-quickchart {\n",
              "      --bg-color: #E8F0FE;\n",
              "      --fill-color: #1967D2;\n",
              "      --hover-bg-color: #E2EBFA;\n",
              "      --hover-fill-color: #174EA6;\n",
              "      --disabled-fill-color: #AAA;\n",
              "      --disabled-bg-color: #DDD;\n",
              "  }\n",
              "\n",
              "  [theme=dark] .colab-df-quickchart {\n",
              "      --bg-color: #3B4455;\n",
              "      --fill-color: #D2E3FC;\n",
              "      --hover-bg-color: #434B5C;\n",
              "      --hover-fill-color: #FFFFFF;\n",
              "      --disabled-bg-color: #3B4455;\n",
              "      --disabled-fill-color: #666;\n",
              "  }\n",
              "\n",
              "  .colab-df-quickchart {\n",
              "    background-color: var(--bg-color);\n",
              "    border: none;\n",
              "    border-radius: 50%;\n",
              "    cursor: pointer;\n",
              "    display: none;\n",
              "    fill: var(--fill-color);\n",
              "    height: 32px;\n",
              "    padding: 0;\n",
              "    width: 32px;\n",
              "  }\n",
              "\n",
              "  .colab-df-quickchart:hover {\n",
              "    background-color: var(--hover-bg-color);\n",
              "    box-shadow: 0 1px 2px rgba(60, 64, 67, 0.3), 0 1px 3px 1px rgba(60, 64, 67, 0.15);\n",
              "    fill: var(--button-hover-fill-color);\n",
              "  }\n",
              "\n",
              "  .colab-df-quickchart-complete:disabled,\n",
              "  .colab-df-quickchart-complete:disabled:hover {\n",
              "    background-color: var(--disabled-bg-color);\n",
              "    fill: var(--disabled-fill-color);\n",
              "    box-shadow: none;\n",
              "  }\n",
              "\n",
              "  .colab-df-spinner {\n",
              "    border: 2px solid var(--fill-color);\n",
              "    border-color: transparent;\n",
              "    border-bottom-color: var(--fill-color);\n",
              "    animation:\n",
              "      spin 1s steps(1) infinite;\n",
              "  }\n",
              "\n",
              "  @keyframes spin {\n",
              "    0% {\n",
              "      border-color: transparent;\n",
              "      border-bottom-color: var(--fill-color);\n",
              "      border-left-color: var(--fill-color);\n",
              "    }\n",
              "    20% {\n",
              "      border-color: transparent;\n",
              "      border-left-color: var(--fill-color);\n",
              "      border-top-color: var(--fill-color);\n",
              "    }\n",
              "    30% {\n",
              "      border-color: transparent;\n",
              "      border-left-color: var(--fill-color);\n",
              "      border-top-color: var(--fill-color);\n",
              "      border-right-color: var(--fill-color);\n",
              "    }\n",
              "    40% {\n",
              "      border-color: transparent;\n",
              "      border-right-color: var(--fill-color);\n",
              "      border-top-color: var(--fill-color);\n",
              "    }\n",
              "    60% {\n",
              "      border-color: transparent;\n",
              "      border-right-color: var(--fill-color);\n",
              "    }\n",
              "    80% {\n",
              "      border-color: transparent;\n",
              "      border-right-color: var(--fill-color);\n",
              "      border-bottom-color: var(--fill-color);\n",
              "    }\n",
              "    90% {\n",
              "      border-color: transparent;\n",
              "      border-bottom-color: var(--fill-color);\n",
              "    }\n",
              "  }\n",
              "</style>\n",
              "\n",
              "  <script>\n",
              "    async function quickchart(key) {\n",
              "      const quickchartButtonEl =\n",
              "        document.querySelector('#' + key + ' button');\n",
              "      quickchartButtonEl.disabled = true;  // To prevent multiple clicks.\n",
              "      quickchartButtonEl.classList.add('colab-df-spinner');\n",
              "      try {\n",
              "        const charts = await google.colab.kernel.invokeFunction(\n",
              "            'suggestCharts', [key], {});\n",
              "      } catch (error) {\n",
              "        console.error('Error during call to suggestCharts:', error);\n",
              "      }\n",
              "      quickchartButtonEl.classList.remove('colab-df-spinner');\n",
              "      quickchartButtonEl.classList.add('colab-df-quickchart-complete');\n",
              "    }\n",
              "    (() => {\n",
              "      let quickchartButtonEl =\n",
              "        document.querySelector('#df-c55910be-8e87-4c5f-aea0-7ff5fd88aac7 button');\n",
              "      quickchartButtonEl.style.display =\n",
              "        google.colab.kernel.accessAllowed ? 'block' : 'none';\n",
              "    })();\n",
              "  </script>\n",
              "</div>\n",
              "\n",
              "    </div>\n",
              "  </div>\n"
            ],
            "text/plain": [
              "                                             jobpost  IT  \\\n",
              "0  Yerevan Brandy Company\\r\\nJOB TITLE:  Software...   1   \n",
              "1  NetCall Communications\\r\\nJOB TITLE:  Network ...   1   \n",
              "2  Xalt LLC\\r\\nJOB TITLE:  Graphic Designer\\r\\nPO...   1   \n",
              "3  Caucasus Research Resource Center - Armenia\\r\\...   1   \n",
              "4  CIT Ltd.\\r\\nJOB TITLE:  Programmer\\r\\nPOSITION...   1   \n",
              "\n",
              "                                          clean_text  \n",
              "0  yerevan brandy company job title software deve...  \n",
              "1  netcall communications job title network admin...  \n",
              "2  xalt llc job title graphic designer position l...  \n",
              "3  caucasus research resource center armenia titl...  \n",
              "4  cit ltd job title programmer position location...  "
            ]
          },
          "execution_count": 16,
          "metadata": {},
          "output_type": "execute_result"
        }
      ],
      "source": [
        "# Apply text cleaning\n",
        "df_clean = df_pre\n",
        "df_clean['clean_text'] = cleansing(df_clean['jobpost'])\n",
        "df_clean.head()"
      ]
    },
    {
      "cell_type": "code",
      "execution_count": null,
      "metadata": {
        "colab": {
          "base_uri": "https://localhost:8080/"
        },
        "id": "rkCiKNGujgbo",
        "outputId": "ef6890f2-f10b-4ea3-dcc2-df1f7352515f"
      },
      "outputs": [
        {
          "data": {
            "text/plain": [
              "3470"
            ]
          },
          "execution_count": 17,
          "metadata": {},
          "output_type": "execute_result"
        }
      ],
      "source": [
        "# Check maximum length of text (per row of dataframe)\n",
        "max_sen = df_clean['clean_text'].str.split().str.len().max()\n",
        "max_sen"
      ]
    },
    {
      "cell_type": "markdown",
      "metadata": {
        "id": "BPAbL3EOkkh_"
      },
      "source": [
        "# Data Splitting"
      ]
    },
    {
      "cell_type": "code",
      "execution_count": null,
      "metadata": {
        "id": "cIIPKo3tkjc3"
      },
      "outputs": [],
      "source": [
        "# Import Libraries\n",
        "from sklearn.model_selection import train_test_split\n",
        "from sklearn.metrics import accuracy_score, recall_score, precision_score, f1_score, roc_auc_score, log_loss\n",
        "from sklearn.metrics import classification_report, confusion_matrix"
      ]
    },
    {
      "cell_type": "code",
      "execution_count": null,
      "metadata": {
        "id": "7mpbS8Sml16q"
      },
      "outputs": [],
      "source": [
        "# Spplit data to train and test data\n",
        "x_train, x_test, y_train, y_test = train_test_split(df_clean['clean_text'], df_clean['IT'], test_size=0.2, random_state=23, stratify=df_clean['IT'])"
      ]
    },
    {
      "cell_type": "code",
      "execution_count": null,
      "metadata": {
        "colab": {
          "base_uri": "https://localhost:8080/"
        },
        "id": "7qWH9MitzcmI",
        "outputId": "6b5987fb-1e3c-48da-9f28-2dc83cc8a00f"
      },
      "outputs": [
        {
          "data": {
            "text/plain": [
              "9600"
            ]
          },
          "execution_count": 20,
          "metadata": {},
          "output_type": "execute_result"
        }
      ],
      "source": [
        "len(x_train)"
      ]
    },
    {
      "cell_type": "code",
      "execution_count": null,
      "metadata": {
        "colab": {
          "base_uri": "https://localhost:8080/"
        },
        "id": "Qu4l02iLzd93",
        "outputId": "a962bfd3-43e9-4f1b-effa-a323c453ba32"
      },
      "outputs": [
        {
          "data": {
            "text/plain": [
              "9600"
            ]
          },
          "execution_count": 21,
          "metadata": {},
          "output_type": "execute_result"
        }
      ],
      "source": [
        "len(y_train)"
      ]
    },
    {
      "cell_type": "code",
      "execution_count": null,
      "metadata": {
        "colab": {
          "base_uri": "https://localhost:8080/"
        },
        "id": "ftE9twJbl7T2",
        "outputId": "9bdda968-bbd5-4ce6-f07f-638257a8c46c"
      },
      "outputs": [
        {
          "data": {
            "text/plain": [
              "3470"
            ]
          },
          "execution_count": 22,
          "metadata": {},
          "output_type": "execute_result"
        }
      ],
      "source": [
        "x_train.str.split().str.len().max()"
      ]
    },
    {
      "cell_type": "markdown",
      "metadata": {
        "id": "jved9KHvmJS3"
      },
      "source": [
        "# Preprocessing (Tokenization, Remove Stopwords, Lemmatization)"
      ]
    },
    {
      "cell_type": "code",
      "execution_count": null,
      "metadata": {
        "colab": {
          "base_uri": "https://localhost:8080/"
        },
        "id": "krb0hJZtmIJy",
        "outputId": "302483ad-419a-4691-bec9-4b2a465f0a5a"
      },
      "outputs": [
        {
          "name": "stderr",
          "output_type": "stream",
          "text": [
            "[nltk_data] Downloading package punkt to /root/nltk_data...\n",
            "[nltk_data]   Unzipping tokenizers/punkt.zip.\n",
            "[nltk_data] Downloading package stopwords to /root/nltk_data...\n",
            "[nltk_data]   Unzipping corpora/stopwords.zip.\n",
            "[nltk_data] Downloading package wordnet to /root/nltk_data...\n"
          ]
        }
      ],
      "source": [
        "# Import Libraries\n",
        "from nltk.corpus import stopwords\n",
        "nltk.download('punkt')\n",
        "nltk.download('stopwords')\n",
        "nltk.download('wordnet')\n",
        "from nltk import WordNetLemmatizer"
      ]
    },
    {
      "cell_type": "code",
      "execution_count": null,
      "metadata": {
        "colab": {
          "base_uri": "https://localhost:8080/"
        },
        "id": "IqCrqaFXnN6Q",
        "outputId": "7ffb1f55-2a68-4dde-a959-70278e43d3a2"
      },
      "outputs": [
        {
          "name": "stdout",
          "output_type": "stream",
          "text": [
            "9600 2400\n"
          ]
        }
      ],
      "source": [
        "# Tokenization\n",
        "word_token_train = [word_tokenize(i) for i in x_train]\n",
        "word_token_test = [word_tokenize(i) for i in x_test]\n",
        "print(len(word_token_train), len(word_token_test))"
      ]
    },
    {
      "cell_type": "code",
      "execution_count": null,
      "metadata": {
        "id": "HV-cTHIJngVf"
      },
      "outputs": [],
      "source": [
        "# Remove Stopwords\n",
        "stop_words = set(stopwords.words('english')) # Get a list of stop words in the English language\n",
        "filtered_tokens_train = [[word for word in sublist if word not in stop_words and len(word) > 1] for sublist in word_token_train]\n",
        "filtered_tokens_test = [[word for word in sublist if word not in stop_words and len(word) > 1] for sublist in word_token_test]"
      ]
    },
    {
      "cell_type": "code",
      "execution_count": null,
      "metadata": {
        "id": "tCzZdVE-oPVv"
      },
      "outputs": [],
      "source": [
        "# Lemmatization\n",
        "lemma=WordNetLemmatizer()\n",
        "\n",
        "lemmatize_tokens_train = [[lemma.lemmatize(word) for word in sublist] for sublist in filtered_tokens_train] # default: n, nouns \n",
        "lemmatize_tokens_train = [[lemma.lemmatize(word, 'v') for word in sublist] for sublist in lemmatize_tokens_train] # verbs \n",
        "lemmatize_tokens_train = [[lemma.lemmatize(word, 'a') for word in sublist] for sublist in lemmatize_tokens_train] # adjectives \n",
        "lemmatize_tokens_train = [[lemma.lemmatize(word, 'r') for word in sublist] for sublist in lemmatize_tokens_train] # adverbs \n",
        "lemmatize_tokens_train = [[lemma.lemmatize(word, 's') for word in sublist] for sublist in lemmatize_tokens_train] # satellite adjectives\n",
        "\n",
        "lemmatize_tokens_test = [[lemma.lemmatize(word) for word in sublist] for sublist in filtered_tokens_test]\n",
        "lemmatize_tokens_test = [[lemma.lemmatize(word, 'v') for word in sublist] for sublist in lemmatize_tokens_test]\n",
        "lemmatize_tokens_test = [[lemma.lemmatize(word, 'a') for word in sublist] for sublist in lemmatize_tokens_test]\n",
        "lemmatize_tokens_test = [[lemma.lemmatize(word, 'r') for word in sublist] for sublist in lemmatize_tokens_test]\n",
        "lemmatize_tokens_test = [[lemma.lemmatize(word, 's') for word in sublist] for sublist in lemmatize_tokens_test]\n",
        "\n",
        "x_train_text = [' '.join(sublist) for sublist in lemmatize_tokens_train]\n",
        "x_test_text = [' '.join(sublist) for sublist in lemmatize_tokens_test]"
      ]
    },
    {
      "cell_type": "code",
      "execution_count": null,
      "metadata": {
        "colab": {
          "base_uri": "https://localhost:8080/",
          "height": 139
        },
        "id": "ZSXRAylRqFSZ",
        "outputId": "3a1bddd4-e4f5-4efe-c50c-96b236e95268"
      },
      "outputs": [
        {
          "data": {
            "application/vnd.google.colaboratory.intrinsic+json": {
              "type": "string"
            },
            "text/plain": [
              "'armentel cjsc title senior mediaplanning specialist announcement code smps open eligibility criterion interest candidate location yerevan armenia job description job responsibility participate work annual strategic mediaplan mass corporate market company analyse competitiveness mass corporate market plan advertise campaign accordance medium preference target audience ass medium effectiveness advertise campaign prepare tactical brief procurement provide recommendation project profitability increase control medium budget tactical campaign compile production poster order realize control launch process advertise campaign compile submit medium documentation plan report require qualification university degree field sociology economics least year work experience relate field experience mediaplanning plus understand medium process interaction medium analysis experience write maintain strategic plan effective solution tactical task mediaplanning buy analytical skill responsible personality ability work stressful situation quick learn ability initiative personality advance computer skill foreign language fluency russian english application procedure qualify interest candidate kindly request submit cv resume russian armenian english aharonyan str yerevan mail hrm subject line mail message please mention position title apply short list candidate contact please clearly mention application letter learn job opportunity career center mention url website www careercenter thank open date october application deadline october company additional information company please visit website www armentel com place free post job career relate opportunity available organization go www careercenter website follow post announcement link'"
            ]
          },
          "execution_count": 27,
          "metadata": {},
          "output_type": "execute_result"
        }
      ],
      "source": [
        "x_train_text[0]"
      ]
    },
    {
      "cell_type": "code",
      "execution_count": null,
      "metadata": {
        "colab": {
          "base_uri": "https://localhost:8080/"
        },
        "id": "cI2zOTwCkdHg",
        "outputId": "644a4543-29b5-4e12-df85-c4046653595c"
      },
      "outputs": [
        {
          "name": "stdout",
          "output_type": "stream",
          "text": [
            "9600 2400\n"
          ]
        }
      ],
      "source": [
        "print(len(x_train_text), len(x_test_text))"
      ]
    },
    {
      "cell_type": "markdown",
      "metadata": {
        "id": "pvd8AXg1o7Fg"
      },
      "source": [
        "# Vectorization (TF-IDF)"
      ]
    },
    {
      "cell_type": "code",
      "execution_count": null,
      "metadata": {
        "id": "CphScuuio8vI"
      },
      "outputs": [],
      "source": [
        "# Import Library\n",
        "from sklearn.feature_extraction.text import TfidfVectorizer"
      ]
    },
    {
      "cell_type": "code",
      "execution_count": null,
      "metadata": {
        "id": "KqC43CtQpO4N"
      },
      "outputs": [],
      "source": [
        "# Vectorize\n",
        "vectorizer = TfidfVectorizer()\n",
        "train_TFIDF = vectorizer.fit_transform(x_train_text)\n",
        "test_TFIDF = vectorizer.transform(x_test_text)"
      ]
    },
    {
      "cell_type": "code",
      "execution_count": null,
      "metadata": {
        "colab": {
          "base_uri": "https://localhost:8080/"
        },
        "id": "RGgcjkb5j9Lv",
        "outputId": "b1e09a9d-a5bd-42a1-cfc9-86a38c1c937c"
      },
      "outputs": [
        {
          "name": "stdout",
          "output_type": "stream",
          "text": [
            "9600 2400\n"
          ]
        }
      ],
      "source": [
        "print(train_TFIDF.shape[0], test_TFIDF.shape[0])"
      ]
    },
    {
      "cell_type": "code",
      "execution_count": null,
      "metadata": {
        "colab": {
          "base_uri": "https://localhost:8080/",
          "height": 255
        },
        "id": "Lx5nVx0-q6ov",
        "outputId": "01ce9674-cdfe-42c0-9b99-0c5d9bbafb66"
      },
      "outputs": [
        {
          "data": {
            "application/vnd.google.colaboratory.intrinsic+json": {
              "type": "dataframe",
              "variable_name": "TFIDF_train"
            },
            "text/html": [
              "\n",
              "  <div id=\"df-a53fe1e4-0d15-440e-a9ba-34f655deedd9\" class=\"colab-df-container\">\n",
              "    <div>\n",
              "<style scoped>\n",
              "    .dataframe tbody tr th:only-of-type {\n",
              "        vertical-align: middle;\n",
              "    }\n",
              "\n",
              "    .dataframe tbody tr th {\n",
              "        vertical-align: top;\n",
              "    }\n",
              "\n",
              "    .dataframe thead th {\n",
              "        text-align: right;\n",
              "    }\n",
              "</style>\n",
              "<table border=\"1\" class=\"dataframe\">\n",
              "  <thead>\n",
              "    <tr style=\"text-align: right;\">\n",
              "      <th></th>\n",
              "      <th>_ama_</th>\n",
              "      <th>_apf_converse</th>\n",
              "      <th>_application</th>\n",
              "      <th>_applicationform</th>\n",
              "      <th>_arm</th>\n",
              "      <th>_javascript</th>\n",
              "      <th>_ru</th>\n",
              "      <th>a_ann_rus</th>\n",
              "      <th>a_bezhanyan</th>\n",
              "      <th>a_form_rus</th>\n",
              "      <th>...</th>\n",
              "      <th>zookeeper</th>\n",
              "      <th>zoology</th>\n",
              "      <th>zorian</th>\n",
              "      <th>zte</th>\n",
              "      <th>zugdidi</th>\n",
              "      <th>zurabian</th>\n",
              "      <th>zusammenarbeit</th>\n",
              "      <th>zvardnots</th>\n",
              "      <th>zvartnots</th>\n",
              "      <th>zx</th>\n",
              "    </tr>\n",
              "  </thead>\n",
              "  <tbody>\n",
              "    <tr>\n",
              "      <th>0</th>\n",
              "      <td>0.0</td>\n",
              "      <td>0.0</td>\n",
              "      <td>0.0</td>\n",
              "      <td>0.0</td>\n",
              "      <td>0.0</td>\n",
              "      <td>0.0</td>\n",
              "      <td>0.0</td>\n",
              "      <td>0.0</td>\n",
              "      <td>0.0</td>\n",
              "      <td>0.0</td>\n",
              "      <td>...</td>\n",
              "      <td>0.0</td>\n",
              "      <td>0.0</td>\n",
              "      <td>0.0</td>\n",
              "      <td>0.0</td>\n",
              "      <td>0.0</td>\n",
              "      <td>0.0</td>\n",
              "      <td>0.0</td>\n",
              "      <td>0.0</td>\n",
              "      <td>0.0</td>\n",
              "      <td>0.0</td>\n",
              "    </tr>\n",
              "    <tr>\n",
              "      <th>1</th>\n",
              "      <td>0.0</td>\n",
              "      <td>0.0</td>\n",
              "      <td>0.0</td>\n",
              "      <td>0.0</td>\n",
              "      <td>0.0</td>\n",
              "      <td>0.0</td>\n",
              "      <td>0.0</td>\n",
              "      <td>0.0</td>\n",
              "      <td>0.0</td>\n",
              "      <td>0.0</td>\n",
              "      <td>...</td>\n",
              "      <td>0.0</td>\n",
              "      <td>0.0</td>\n",
              "      <td>0.0</td>\n",
              "      <td>0.0</td>\n",
              "      <td>0.0</td>\n",
              "      <td>0.0</td>\n",
              "      <td>0.0</td>\n",
              "      <td>0.0</td>\n",
              "      <td>0.0</td>\n",
              "      <td>0.0</td>\n",
              "    </tr>\n",
              "    <tr>\n",
              "      <th>2</th>\n",
              "      <td>0.0</td>\n",
              "      <td>0.0</td>\n",
              "      <td>0.0</td>\n",
              "      <td>0.0</td>\n",
              "      <td>0.0</td>\n",
              "      <td>0.0</td>\n",
              "      <td>0.0</td>\n",
              "      <td>0.0</td>\n",
              "      <td>0.0</td>\n",
              "      <td>0.0</td>\n",
              "      <td>...</td>\n",
              "      <td>0.0</td>\n",
              "      <td>0.0</td>\n",
              "      <td>0.0</td>\n",
              "      <td>0.0</td>\n",
              "      <td>0.0</td>\n",
              "      <td>0.0</td>\n",
              "      <td>0.0</td>\n",
              "      <td>0.0</td>\n",
              "      <td>0.0</td>\n",
              "      <td>0.0</td>\n",
              "    </tr>\n",
              "    <tr>\n",
              "      <th>3</th>\n",
              "      <td>0.0</td>\n",
              "      <td>0.0</td>\n",
              "      <td>0.0</td>\n",
              "      <td>0.0</td>\n",
              "      <td>0.0</td>\n",
              "      <td>0.0</td>\n",
              "      <td>0.0</td>\n",
              "      <td>0.0</td>\n",
              "      <td>0.0</td>\n",
              "      <td>0.0</td>\n",
              "      <td>...</td>\n",
              "      <td>0.0</td>\n",
              "      <td>0.0</td>\n",
              "      <td>0.0</td>\n",
              "      <td>0.0</td>\n",
              "      <td>0.0</td>\n",
              "      <td>0.0</td>\n",
              "      <td>0.0</td>\n",
              "      <td>0.0</td>\n",
              "      <td>0.0</td>\n",
              "      <td>0.0</td>\n",
              "    </tr>\n",
              "    <tr>\n",
              "      <th>4</th>\n",
              "      <td>0.0</td>\n",
              "      <td>0.0</td>\n",
              "      <td>0.0</td>\n",
              "      <td>0.0</td>\n",
              "      <td>0.0</td>\n",
              "      <td>0.0</td>\n",
              "      <td>0.0</td>\n",
              "      <td>0.0</td>\n",
              "      <td>0.0</td>\n",
              "      <td>0.0</td>\n",
              "      <td>...</td>\n",
              "      <td>0.0</td>\n",
              "      <td>0.0</td>\n",
              "      <td>0.0</td>\n",
              "      <td>0.0</td>\n",
              "      <td>0.0</td>\n",
              "      <td>0.0</td>\n",
              "      <td>0.0</td>\n",
              "      <td>0.0</td>\n",
              "      <td>0.0</td>\n",
              "      <td>0.0</td>\n",
              "    </tr>\n",
              "  </tbody>\n",
              "</table>\n",
              "<p>5 rows × 16697 columns</p>\n",
              "</div>\n",
              "    <div class=\"colab-df-buttons\">\n",
              "\n",
              "  <div class=\"colab-df-container\">\n",
              "    <button class=\"colab-df-convert\" onclick=\"convertToInteractive('df-a53fe1e4-0d15-440e-a9ba-34f655deedd9')\"\n",
              "            title=\"Convert this dataframe to an interactive table.\"\n",
              "            style=\"display:none;\">\n",
              "\n",
              "  <svg xmlns=\"http://www.w3.org/2000/svg\" height=\"24px\" viewBox=\"0 -960 960 960\">\n",
              "    <path d=\"M120-120v-720h720v720H120Zm60-500h600v-160H180v160Zm220 220h160v-160H400v160Zm0 220h160v-160H400v160ZM180-400h160v-160H180v160Zm440 0h160v-160H620v160ZM180-180h160v-160H180v160Zm440 0h160v-160H620v160Z\"/>\n",
              "  </svg>\n",
              "    </button>\n",
              "\n",
              "  <style>\n",
              "    .colab-df-container {\n",
              "      display:flex;\n",
              "      gap: 12px;\n",
              "    }\n",
              "\n",
              "    .colab-df-convert {\n",
              "      background-color: #E8F0FE;\n",
              "      border: none;\n",
              "      border-radius: 50%;\n",
              "      cursor: pointer;\n",
              "      display: none;\n",
              "      fill: #1967D2;\n",
              "      height: 32px;\n",
              "      padding: 0 0 0 0;\n",
              "      width: 32px;\n",
              "    }\n",
              "\n",
              "    .colab-df-convert:hover {\n",
              "      background-color: #E2EBFA;\n",
              "      box-shadow: 0px 1px 2px rgba(60, 64, 67, 0.3), 0px 1px 3px 1px rgba(60, 64, 67, 0.15);\n",
              "      fill: #174EA6;\n",
              "    }\n",
              "\n",
              "    .colab-df-buttons div {\n",
              "      margin-bottom: 4px;\n",
              "    }\n",
              "\n",
              "    [theme=dark] .colab-df-convert {\n",
              "      background-color: #3B4455;\n",
              "      fill: #D2E3FC;\n",
              "    }\n",
              "\n",
              "    [theme=dark] .colab-df-convert:hover {\n",
              "      background-color: #434B5C;\n",
              "      box-shadow: 0px 1px 3px 1px rgba(0, 0, 0, 0.15);\n",
              "      filter: drop-shadow(0px 1px 2px rgba(0, 0, 0, 0.3));\n",
              "      fill: #FFFFFF;\n",
              "    }\n",
              "  </style>\n",
              "\n",
              "    <script>\n",
              "      const buttonEl =\n",
              "        document.querySelector('#df-a53fe1e4-0d15-440e-a9ba-34f655deedd9 button.colab-df-convert');\n",
              "      buttonEl.style.display =\n",
              "        google.colab.kernel.accessAllowed ? 'block' : 'none';\n",
              "\n",
              "      async function convertToInteractive(key) {\n",
              "        const element = document.querySelector('#df-a53fe1e4-0d15-440e-a9ba-34f655deedd9');\n",
              "        const dataTable =\n",
              "          await google.colab.kernel.invokeFunction('convertToInteractive',\n",
              "                                                    [key], {});\n",
              "        if (!dataTable) return;\n",
              "\n",
              "        const docLinkHtml = 'Like what you see? Visit the ' +\n",
              "          '<a target=\"_blank\" href=https://colab.research.google.com/notebooks/data_table.ipynb>data table notebook</a>'\n",
              "          + ' to learn more about interactive tables.';\n",
              "        element.innerHTML = '';\n",
              "        dataTable['output_type'] = 'display_data';\n",
              "        await google.colab.output.renderOutput(dataTable, element);\n",
              "        const docLink = document.createElement('div');\n",
              "        docLink.innerHTML = docLinkHtml;\n",
              "        element.appendChild(docLink);\n",
              "      }\n",
              "    </script>\n",
              "  </div>\n",
              "\n",
              "\n",
              "<div id=\"df-349530cc-f8d2-417b-81c1-21dc975f0681\">\n",
              "  <button class=\"colab-df-quickchart\" onclick=\"quickchart('df-349530cc-f8d2-417b-81c1-21dc975f0681')\"\n",
              "            title=\"Suggest charts\"\n",
              "            style=\"display:none;\">\n",
              "\n",
              "<svg xmlns=\"http://www.w3.org/2000/svg\" height=\"24px\"viewBox=\"0 0 24 24\"\n",
              "     width=\"24px\">\n",
              "    <g>\n",
              "        <path d=\"M19 3H5c-1.1 0-2 .9-2 2v14c0 1.1.9 2 2 2h14c1.1 0 2-.9 2-2V5c0-1.1-.9-2-2-2zM9 17H7v-7h2v7zm4 0h-2V7h2v10zm4 0h-2v-4h2v4z\"/>\n",
              "    </g>\n",
              "</svg>\n",
              "  </button>\n",
              "\n",
              "<style>\n",
              "  .colab-df-quickchart {\n",
              "      --bg-color: #E8F0FE;\n",
              "      --fill-color: #1967D2;\n",
              "      --hover-bg-color: #E2EBFA;\n",
              "      --hover-fill-color: #174EA6;\n",
              "      --disabled-fill-color: #AAA;\n",
              "      --disabled-bg-color: #DDD;\n",
              "  }\n",
              "\n",
              "  [theme=dark] .colab-df-quickchart {\n",
              "      --bg-color: #3B4455;\n",
              "      --fill-color: #D2E3FC;\n",
              "      --hover-bg-color: #434B5C;\n",
              "      --hover-fill-color: #FFFFFF;\n",
              "      --disabled-bg-color: #3B4455;\n",
              "      --disabled-fill-color: #666;\n",
              "  }\n",
              "\n",
              "  .colab-df-quickchart {\n",
              "    background-color: var(--bg-color);\n",
              "    border: none;\n",
              "    border-radius: 50%;\n",
              "    cursor: pointer;\n",
              "    display: none;\n",
              "    fill: var(--fill-color);\n",
              "    height: 32px;\n",
              "    padding: 0;\n",
              "    width: 32px;\n",
              "  }\n",
              "\n",
              "  .colab-df-quickchart:hover {\n",
              "    background-color: var(--hover-bg-color);\n",
              "    box-shadow: 0 1px 2px rgba(60, 64, 67, 0.3), 0 1px 3px 1px rgba(60, 64, 67, 0.15);\n",
              "    fill: var(--button-hover-fill-color);\n",
              "  }\n",
              "\n",
              "  .colab-df-quickchart-complete:disabled,\n",
              "  .colab-df-quickchart-complete:disabled:hover {\n",
              "    background-color: var(--disabled-bg-color);\n",
              "    fill: var(--disabled-fill-color);\n",
              "    box-shadow: none;\n",
              "  }\n",
              "\n",
              "  .colab-df-spinner {\n",
              "    border: 2px solid var(--fill-color);\n",
              "    border-color: transparent;\n",
              "    border-bottom-color: var(--fill-color);\n",
              "    animation:\n",
              "      spin 1s steps(1) infinite;\n",
              "  }\n",
              "\n",
              "  @keyframes spin {\n",
              "    0% {\n",
              "      border-color: transparent;\n",
              "      border-bottom-color: var(--fill-color);\n",
              "      border-left-color: var(--fill-color);\n",
              "    }\n",
              "    20% {\n",
              "      border-color: transparent;\n",
              "      border-left-color: var(--fill-color);\n",
              "      border-top-color: var(--fill-color);\n",
              "    }\n",
              "    30% {\n",
              "      border-color: transparent;\n",
              "      border-left-color: var(--fill-color);\n",
              "      border-top-color: var(--fill-color);\n",
              "      border-right-color: var(--fill-color);\n",
              "    }\n",
              "    40% {\n",
              "      border-color: transparent;\n",
              "      border-right-color: var(--fill-color);\n",
              "      border-top-color: var(--fill-color);\n",
              "    }\n",
              "    60% {\n",
              "      border-color: transparent;\n",
              "      border-right-color: var(--fill-color);\n",
              "    }\n",
              "    80% {\n",
              "      border-color: transparent;\n",
              "      border-right-color: var(--fill-color);\n",
              "      border-bottom-color: var(--fill-color);\n",
              "    }\n",
              "    90% {\n",
              "      border-color: transparent;\n",
              "      border-bottom-color: var(--fill-color);\n",
              "    }\n",
              "  }\n",
              "</style>\n",
              "\n",
              "  <script>\n",
              "    async function quickchart(key) {\n",
              "      const quickchartButtonEl =\n",
              "        document.querySelector('#' + key + ' button');\n",
              "      quickchartButtonEl.disabled = true;  // To prevent multiple clicks.\n",
              "      quickchartButtonEl.classList.add('colab-df-spinner');\n",
              "      try {\n",
              "        const charts = await google.colab.kernel.invokeFunction(\n",
              "            'suggestCharts', [key], {});\n",
              "      } catch (error) {\n",
              "        console.error('Error during call to suggestCharts:', error);\n",
              "      }\n",
              "      quickchartButtonEl.classList.remove('colab-df-spinner');\n",
              "      quickchartButtonEl.classList.add('colab-df-quickchart-complete');\n",
              "    }\n",
              "    (() => {\n",
              "      let quickchartButtonEl =\n",
              "        document.querySelector('#df-349530cc-f8d2-417b-81c1-21dc975f0681 button');\n",
              "      quickchartButtonEl.style.display =\n",
              "        google.colab.kernel.accessAllowed ? 'block' : 'none';\n",
              "    })();\n",
              "  </script>\n",
              "</div>\n",
              "\n",
              "    </div>\n",
              "  </div>\n"
            ],
            "text/plain": [
              "   _ama_  _apf_converse  _application  _applicationform  _arm  _javascript  \\\n",
              "0    0.0            0.0           0.0               0.0   0.0          0.0   \n",
              "1    0.0            0.0           0.0               0.0   0.0          0.0   \n",
              "2    0.0            0.0           0.0               0.0   0.0          0.0   \n",
              "3    0.0            0.0           0.0               0.0   0.0          0.0   \n",
              "4    0.0            0.0           0.0               0.0   0.0          0.0   \n",
              "\n",
              "   _ru  a_ann_rus  a_bezhanyan  a_form_rus  ...  zookeeper  zoology  zorian  \\\n",
              "0  0.0        0.0          0.0         0.0  ...        0.0      0.0     0.0   \n",
              "1  0.0        0.0          0.0         0.0  ...        0.0      0.0     0.0   \n",
              "2  0.0        0.0          0.0         0.0  ...        0.0      0.0     0.0   \n",
              "3  0.0        0.0          0.0         0.0  ...        0.0      0.0     0.0   \n",
              "4  0.0        0.0          0.0         0.0  ...        0.0      0.0     0.0   \n",
              "\n",
              "   zte  zugdidi  zurabian  zusammenarbeit  zvardnots  zvartnots   zx  \n",
              "0  0.0      0.0       0.0             0.0        0.0        0.0  0.0  \n",
              "1  0.0      0.0       0.0             0.0        0.0        0.0  0.0  \n",
              "2  0.0      0.0       0.0             0.0        0.0        0.0  0.0  \n",
              "3  0.0      0.0       0.0             0.0        0.0        0.0  0.0  \n",
              "4  0.0      0.0       0.0             0.0        0.0        0.0  0.0  \n",
              "\n",
              "[5 rows x 16697 columns]"
            ]
          },
          "execution_count": 32,
          "metadata": {},
          "output_type": "execute_result"
        }
      ],
      "source": [
        "TFIDF_train=pd.DataFrame(train_TFIDF.toarray(), columns=vectorizer.get_feature_names_out())\n",
        "TFIDF_train.head()"
      ]
    },
    {
      "cell_type": "code",
      "execution_count": null,
      "metadata": {
        "colab": {
          "base_uri": "https://localhost:8080/",
          "height": 255
        },
        "id": "-KPEYpRAwEsO",
        "outputId": "5848f423-c059-42cb-c3c7-e0e2986ca989"
      },
      "outputs": [
        {
          "data": {
            "application/vnd.google.colaboratory.intrinsic+json": {
              "type": "dataframe",
              "variable_name": "TFIDF_test"
            },
            "text/html": [
              "\n",
              "  <div id=\"df-369046b5-bc71-4ab7-810d-bae3326fbfe8\" class=\"colab-df-container\">\n",
              "    <div>\n",
              "<style scoped>\n",
              "    .dataframe tbody tr th:only-of-type {\n",
              "        vertical-align: middle;\n",
              "    }\n",
              "\n",
              "    .dataframe tbody tr th {\n",
              "        vertical-align: top;\n",
              "    }\n",
              "\n",
              "    .dataframe thead th {\n",
              "        text-align: right;\n",
              "    }\n",
              "</style>\n",
              "<table border=\"1\" class=\"dataframe\">\n",
              "  <thead>\n",
              "    <tr style=\"text-align: right;\">\n",
              "      <th></th>\n",
              "      <th>_ama_</th>\n",
              "      <th>_apf_converse</th>\n",
              "      <th>_application</th>\n",
              "      <th>_applicationform</th>\n",
              "      <th>_arm</th>\n",
              "      <th>_javascript</th>\n",
              "      <th>_ru</th>\n",
              "      <th>a_ann_rus</th>\n",
              "      <th>a_bezhanyan</th>\n",
              "      <th>a_form_rus</th>\n",
              "      <th>...</th>\n",
              "      <th>zookeeper</th>\n",
              "      <th>zoology</th>\n",
              "      <th>zorian</th>\n",
              "      <th>zte</th>\n",
              "      <th>zugdidi</th>\n",
              "      <th>zurabian</th>\n",
              "      <th>zusammenarbeit</th>\n",
              "      <th>zvardnots</th>\n",
              "      <th>zvartnots</th>\n",
              "      <th>zx</th>\n",
              "    </tr>\n",
              "  </thead>\n",
              "  <tbody>\n",
              "    <tr>\n",
              "      <th>0</th>\n",
              "      <td>0.0</td>\n",
              "      <td>0.0</td>\n",
              "      <td>0.0</td>\n",
              "      <td>0.0</td>\n",
              "      <td>0.0</td>\n",
              "      <td>0.0</td>\n",
              "      <td>0.0</td>\n",
              "      <td>0.0</td>\n",
              "      <td>0.0</td>\n",
              "      <td>0.0</td>\n",
              "      <td>...</td>\n",
              "      <td>0.0</td>\n",
              "      <td>0.0</td>\n",
              "      <td>0.0</td>\n",
              "      <td>0.0</td>\n",
              "      <td>0.0</td>\n",
              "      <td>0.0</td>\n",
              "      <td>0.0</td>\n",
              "      <td>0.0</td>\n",
              "      <td>0.0</td>\n",
              "      <td>0.0</td>\n",
              "    </tr>\n",
              "    <tr>\n",
              "      <th>1</th>\n",
              "      <td>0.0</td>\n",
              "      <td>0.0</td>\n",
              "      <td>0.0</td>\n",
              "      <td>0.0</td>\n",
              "      <td>0.0</td>\n",
              "      <td>0.0</td>\n",
              "      <td>0.0</td>\n",
              "      <td>0.0</td>\n",
              "      <td>0.0</td>\n",
              "      <td>0.0</td>\n",
              "      <td>...</td>\n",
              "      <td>0.0</td>\n",
              "      <td>0.0</td>\n",
              "      <td>0.0</td>\n",
              "      <td>0.0</td>\n",
              "      <td>0.0</td>\n",
              "      <td>0.0</td>\n",
              "      <td>0.0</td>\n",
              "      <td>0.0</td>\n",
              "      <td>0.0</td>\n",
              "      <td>0.0</td>\n",
              "    </tr>\n",
              "    <tr>\n",
              "      <th>2</th>\n",
              "      <td>0.0</td>\n",
              "      <td>0.0</td>\n",
              "      <td>0.0</td>\n",
              "      <td>0.0</td>\n",
              "      <td>0.0</td>\n",
              "      <td>0.0</td>\n",
              "      <td>0.0</td>\n",
              "      <td>0.0</td>\n",
              "      <td>0.0</td>\n",
              "      <td>0.0</td>\n",
              "      <td>...</td>\n",
              "      <td>0.0</td>\n",
              "      <td>0.0</td>\n",
              "      <td>0.0</td>\n",
              "      <td>0.0</td>\n",
              "      <td>0.0</td>\n",
              "      <td>0.0</td>\n",
              "      <td>0.0</td>\n",
              "      <td>0.0</td>\n",
              "      <td>0.0</td>\n",
              "      <td>0.0</td>\n",
              "    </tr>\n",
              "    <tr>\n",
              "      <th>3</th>\n",
              "      <td>0.0</td>\n",
              "      <td>0.0</td>\n",
              "      <td>0.0</td>\n",
              "      <td>0.0</td>\n",
              "      <td>0.0</td>\n",
              "      <td>0.0</td>\n",
              "      <td>0.0</td>\n",
              "      <td>0.0</td>\n",
              "      <td>0.0</td>\n",
              "      <td>0.0</td>\n",
              "      <td>...</td>\n",
              "      <td>0.0</td>\n",
              "      <td>0.0</td>\n",
              "      <td>0.0</td>\n",
              "      <td>0.0</td>\n",
              "      <td>0.0</td>\n",
              "      <td>0.0</td>\n",
              "      <td>0.0</td>\n",
              "      <td>0.0</td>\n",
              "      <td>0.0</td>\n",
              "      <td>0.0</td>\n",
              "    </tr>\n",
              "    <tr>\n",
              "      <th>4</th>\n",
              "      <td>0.0</td>\n",
              "      <td>0.0</td>\n",
              "      <td>0.0</td>\n",
              "      <td>0.0</td>\n",
              "      <td>0.0</td>\n",
              "      <td>0.0</td>\n",
              "      <td>0.0</td>\n",
              "      <td>0.0</td>\n",
              "      <td>0.0</td>\n",
              "      <td>0.0</td>\n",
              "      <td>...</td>\n",
              "      <td>0.0</td>\n",
              "      <td>0.0</td>\n",
              "      <td>0.0</td>\n",
              "      <td>0.0</td>\n",
              "      <td>0.0</td>\n",
              "      <td>0.0</td>\n",
              "      <td>0.0</td>\n",
              "      <td>0.0</td>\n",
              "      <td>0.0</td>\n",
              "      <td>0.0</td>\n",
              "    </tr>\n",
              "  </tbody>\n",
              "</table>\n",
              "<p>5 rows × 16697 columns</p>\n",
              "</div>\n",
              "    <div class=\"colab-df-buttons\">\n",
              "\n",
              "  <div class=\"colab-df-container\">\n",
              "    <button class=\"colab-df-convert\" onclick=\"convertToInteractive('df-369046b5-bc71-4ab7-810d-bae3326fbfe8')\"\n",
              "            title=\"Convert this dataframe to an interactive table.\"\n",
              "            style=\"display:none;\">\n",
              "\n",
              "  <svg xmlns=\"http://www.w3.org/2000/svg\" height=\"24px\" viewBox=\"0 -960 960 960\">\n",
              "    <path d=\"M120-120v-720h720v720H120Zm60-500h600v-160H180v160Zm220 220h160v-160H400v160Zm0 220h160v-160H400v160ZM180-400h160v-160H180v160Zm440 0h160v-160H620v160ZM180-180h160v-160H180v160Zm440 0h160v-160H620v160Z\"/>\n",
              "  </svg>\n",
              "    </button>\n",
              "\n",
              "  <style>\n",
              "    .colab-df-container {\n",
              "      display:flex;\n",
              "      gap: 12px;\n",
              "    }\n",
              "\n",
              "    .colab-df-convert {\n",
              "      background-color: #E8F0FE;\n",
              "      border: none;\n",
              "      border-radius: 50%;\n",
              "      cursor: pointer;\n",
              "      display: none;\n",
              "      fill: #1967D2;\n",
              "      height: 32px;\n",
              "      padding: 0 0 0 0;\n",
              "      width: 32px;\n",
              "    }\n",
              "\n",
              "    .colab-df-convert:hover {\n",
              "      background-color: #E2EBFA;\n",
              "      box-shadow: 0px 1px 2px rgba(60, 64, 67, 0.3), 0px 1px 3px 1px rgba(60, 64, 67, 0.15);\n",
              "      fill: #174EA6;\n",
              "    }\n",
              "\n",
              "    .colab-df-buttons div {\n",
              "      margin-bottom: 4px;\n",
              "    }\n",
              "\n",
              "    [theme=dark] .colab-df-convert {\n",
              "      background-color: #3B4455;\n",
              "      fill: #D2E3FC;\n",
              "    }\n",
              "\n",
              "    [theme=dark] .colab-df-convert:hover {\n",
              "      background-color: #434B5C;\n",
              "      box-shadow: 0px 1px 3px 1px rgba(0, 0, 0, 0.15);\n",
              "      filter: drop-shadow(0px 1px 2px rgba(0, 0, 0, 0.3));\n",
              "      fill: #FFFFFF;\n",
              "    }\n",
              "  </style>\n",
              "\n",
              "    <script>\n",
              "      const buttonEl =\n",
              "        document.querySelector('#df-369046b5-bc71-4ab7-810d-bae3326fbfe8 button.colab-df-convert');\n",
              "      buttonEl.style.display =\n",
              "        google.colab.kernel.accessAllowed ? 'block' : 'none';\n",
              "\n",
              "      async function convertToInteractive(key) {\n",
              "        const element = document.querySelector('#df-369046b5-bc71-4ab7-810d-bae3326fbfe8');\n",
              "        const dataTable =\n",
              "          await google.colab.kernel.invokeFunction('convertToInteractive',\n",
              "                                                    [key], {});\n",
              "        if (!dataTable) return;\n",
              "\n",
              "        const docLinkHtml = 'Like what you see? Visit the ' +\n",
              "          '<a target=\"_blank\" href=https://colab.research.google.com/notebooks/data_table.ipynb>data table notebook</a>'\n",
              "          + ' to learn more about interactive tables.';\n",
              "        element.innerHTML = '';\n",
              "        dataTable['output_type'] = 'display_data';\n",
              "        await google.colab.output.renderOutput(dataTable, element);\n",
              "        const docLink = document.createElement('div');\n",
              "        docLink.innerHTML = docLinkHtml;\n",
              "        element.appendChild(docLink);\n",
              "      }\n",
              "    </script>\n",
              "  </div>\n",
              "\n",
              "\n",
              "<div id=\"df-cac0ace8-49a9-421a-9e8e-98363a549bcf\">\n",
              "  <button class=\"colab-df-quickchart\" onclick=\"quickchart('df-cac0ace8-49a9-421a-9e8e-98363a549bcf')\"\n",
              "            title=\"Suggest charts\"\n",
              "            style=\"display:none;\">\n",
              "\n",
              "<svg xmlns=\"http://www.w3.org/2000/svg\" height=\"24px\"viewBox=\"0 0 24 24\"\n",
              "     width=\"24px\">\n",
              "    <g>\n",
              "        <path d=\"M19 3H5c-1.1 0-2 .9-2 2v14c0 1.1.9 2 2 2h14c1.1 0 2-.9 2-2V5c0-1.1-.9-2-2-2zM9 17H7v-7h2v7zm4 0h-2V7h2v10zm4 0h-2v-4h2v4z\"/>\n",
              "    </g>\n",
              "</svg>\n",
              "  </button>\n",
              "\n",
              "<style>\n",
              "  .colab-df-quickchart {\n",
              "      --bg-color: #E8F0FE;\n",
              "      --fill-color: #1967D2;\n",
              "      --hover-bg-color: #E2EBFA;\n",
              "      --hover-fill-color: #174EA6;\n",
              "      --disabled-fill-color: #AAA;\n",
              "      --disabled-bg-color: #DDD;\n",
              "  }\n",
              "\n",
              "  [theme=dark] .colab-df-quickchart {\n",
              "      --bg-color: #3B4455;\n",
              "      --fill-color: #D2E3FC;\n",
              "      --hover-bg-color: #434B5C;\n",
              "      --hover-fill-color: #FFFFFF;\n",
              "      --disabled-bg-color: #3B4455;\n",
              "      --disabled-fill-color: #666;\n",
              "  }\n",
              "\n",
              "  .colab-df-quickchart {\n",
              "    background-color: var(--bg-color);\n",
              "    border: none;\n",
              "    border-radius: 50%;\n",
              "    cursor: pointer;\n",
              "    display: none;\n",
              "    fill: var(--fill-color);\n",
              "    height: 32px;\n",
              "    padding: 0;\n",
              "    width: 32px;\n",
              "  }\n",
              "\n",
              "  .colab-df-quickchart:hover {\n",
              "    background-color: var(--hover-bg-color);\n",
              "    box-shadow: 0 1px 2px rgba(60, 64, 67, 0.3), 0 1px 3px 1px rgba(60, 64, 67, 0.15);\n",
              "    fill: var(--button-hover-fill-color);\n",
              "  }\n",
              "\n",
              "  .colab-df-quickchart-complete:disabled,\n",
              "  .colab-df-quickchart-complete:disabled:hover {\n",
              "    background-color: var(--disabled-bg-color);\n",
              "    fill: var(--disabled-fill-color);\n",
              "    box-shadow: none;\n",
              "  }\n",
              "\n",
              "  .colab-df-spinner {\n",
              "    border: 2px solid var(--fill-color);\n",
              "    border-color: transparent;\n",
              "    border-bottom-color: var(--fill-color);\n",
              "    animation:\n",
              "      spin 1s steps(1) infinite;\n",
              "  }\n",
              "\n",
              "  @keyframes spin {\n",
              "    0% {\n",
              "      border-color: transparent;\n",
              "      border-bottom-color: var(--fill-color);\n",
              "      border-left-color: var(--fill-color);\n",
              "    }\n",
              "    20% {\n",
              "      border-color: transparent;\n",
              "      border-left-color: var(--fill-color);\n",
              "      border-top-color: var(--fill-color);\n",
              "    }\n",
              "    30% {\n",
              "      border-color: transparent;\n",
              "      border-left-color: var(--fill-color);\n",
              "      border-top-color: var(--fill-color);\n",
              "      border-right-color: var(--fill-color);\n",
              "    }\n",
              "    40% {\n",
              "      border-color: transparent;\n",
              "      border-right-color: var(--fill-color);\n",
              "      border-top-color: var(--fill-color);\n",
              "    }\n",
              "    60% {\n",
              "      border-color: transparent;\n",
              "      border-right-color: var(--fill-color);\n",
              "    }\n",
              "    80% {\n",
              "      border-color: transparent;\n",
              "      border-right-color: var(--fill-color);\n",
              "      border-bottom-color: var(--fill-color);\n",
              "    }\n",
              "    90% {\n",
              "      border-color: transparent;\n",
              "      border-bottom-color: var(--fill-color);\n",
              "    }\n",
              "  }\n",
              "</style>\n",
              "\n",
              "  <script>\n",
              "    async function quickchart(key) {\n",
              "      const quickchartButtonEl =\n",
              "        document.querySelector('#' + key + ' button');\n",
              "      quickchartButtonEl.disabled = true;  // To prevent multiple clicks.\n",
              "      quickchartButtonEl.classList.add('colab-df-spinner');\n",
              "      try {\n",
              "        const charts = await google.colab.kernel.invokeFunction(\n",
              "            'suggestCharts', [key], {});\n",
              "      } catch (error) {\n",
              "        console.error('Error during call to suggestCharts:', error);\n",
              "      }\n",
              "      quickchartButtonEl.classList.remove('colab-df-spinner');\n",
              "      quickchartButtonEl.classList.add('colab-df-quickchart-complete');\n",
              "    }\n",
              "    (() => {\n",
              "      let quickchartButtonEl =\n",
              "        document.querySelector('#df-cac0ace8-49a9-421a-9e8e-98363a549bcf button');\n",
              "      quickchartButtonEl.style.display =\n",
              "        google.colab.kernel.accessAllowed ? 'block' : 'none';\n",
              "    })();\n",
              "  </script>\n",
              "</div>\n",
              "\n",
              "    </div>\n",
              "  </div>\n"
            ],
            "text/plain": [
              "   _ama_  _apf_converse  _application  _applicationform  _arm  _javascript  \\\n",
              "0    0.0            0.0           0.0               0.0   0.0          0.0   \n",
              "1    0.0            0.0           0.0               0.0   0.0          0.0   \n",
              "2    0.0            0.0           0.0               0.0   0.0          0.0   \n",
              "3    0.0            0.0           0.0               0.0   0.0          0.0   \n",
              "4    0.0            0.0           0.0               0.0   0.0          0.0   \n",
              "\n",
              "   _ru  a_ann_rus  a_bezhanyan  a_form_rus  ...  zookeeper  zoology  zorian  \\\n",
              "0  0.0        0.0          0.0         0.0  ...        0.0      0.0     0.0   \n",
              "1  0.0        0.0          0.0         0.0  ...        0.0      0.0     0.0   \n",
              "2  0.0        0.0          0.0         0.0  ...        0.0      0.0     0.0   \n",
              "3  0.0        0.0          0.0         0.0  ...        0.0      0.0     0.0   \n",
              "4  0.0        0.0          0.0         0.0  ...        0.0      0.0     0.0   \n",
              "\n",
              "   zte  zugdidi  zurabian  zusammenarbeit  zvardnots  zvartnots   zx  \n",
              "0  0.0      0.0       0.0             0.0        0.0        0.0  0.0  \n",
              "1  0.0      0.0       0.0             0.0        0.0        0.0  0.0  \n",
              "2  0.0      0.0       0.0             0.0        0.0        0.0  0.0  \n",
              "3  0.0      0.0       0.0             0.0        0.0        0.0  0.0  \n",
              "4  0.0      0.0       0.0             0.0        0.0        0.0  0.0  \n",
              "\n",
              "[5 rows x 16697 columns]"
            ]
          },
          "execution_count": 33,
          "metadata": {},
          "output_type": "execute_result"
        }
      ],
      "source": [
        "TFIDF_test=pd.DataFrame(test_TFIDF.toarray(), columns=vectorizer.get_feature_names_out())\n",
        "TFIDF_test.head()"
      ]
    },
    {
      "cell_type": "code",
      "execution_count": null,
      "metadata": {
        "id": "ConNNgahtX0o"
      },
      "outputs": [],
      "source": [
        "x_train = np.expand_dims(TFIDF_train, axis=1)\n",
        "x_test = np.expand_dims(TFIDF_test, axis=1)"
      ]
    },
    {
      "cell_type": "markdown",
      "metadata": {
        "id": "Q5OoU1ltsSoI"
      },
      "source": [
        "# Train Model Bi-LSTM"
      ]
    },
    {
      "cell_type": "code",
      "execution_count": null,
      "metadata": {
        "id": "8srCAX1frB8e"
      },
      "outputs": [],
      "source": [
        "# Import Libraries\n",
        "import tensorflow as tf\n",
        "from tensorflow.keras.models import Sequential\n",
        "from tensorflow.keras.layers import Bidirectional, LSTM, Dense, LayerNormalization\n",
        "from tensorflow.keras.regularizers import L2\n",
        "from tensorflow.keras.callbacks import EarlyStopping"
      ]
    },
    {
      "cell_type": "code",
      "execution_count": null,
      "metadata": {
        "id": "IGlJhvn8sX2m"
      },
      "outputs": [],
      "source": [
        "# Create Model Bi-LSTM\n",
        "model = Sequential()\n",
        "model.add(Bidirectional(LSTM(128, return_sequences=False), input_shape=(1, x_train.shape[2])))\n",
        "model.add(LayerNormalization())\n",
        "model.add(Dense(1, activation='sigmoid'))\n",
        "\n",
        "model.compile(optimizer='sgd', loss='binary_crossentropy', metrics=['accuracy'])\n",
        "\n",
        "early_stopping = EarlyStopping(monitor='val_loss', patience=3, restore_best_weights=True)"
      ]
    },
    {
      "cell_type": "code",
      "execution_count": null,
      "metadata": {
        "colab": {
          "base_uri": "https://localhost:8080/"
        },
        "id": "GRrO-5oA6lGi",
        "outputId": "fb847278-8469-47d6-ee79-1feecbe24658"
      },
      "outputs": [
        {
          "name": "stdout",
          "output_type": "stream",
          "text": [
            "Model: \"sequential\"\n",
            "_________________________________________________________________\n",
            " Layer (type)                Output Shape              Param #   \n",
            "=================================================================\n",
            " bidirectional (Bidirection  (None, 256)               17229824  \n",
            " al)                                                             \n",
            "                                                                 \n",
            " layer_normalization (Layer  (None, 256)               512       \n",
            " Normalization)                                                  \n",
            "                                                                 \n",
            " dense (Dense)               (None, 1)                 257       \n",
            "                                                                 \n",
            "=================================================================\n",
            "Total params: 17230593 (65.73 MB)\n",
            "Trainable params: 17230593 (65.73 MB)\n",
            "Non-trainable params: 0 (0.00 Byte)\n",
            "_________________________________________________________________\n"
          ]
        }
      ],
      "source": [
        "model.summary()"
      ]
    },
    {
      "cell_type": "code",
      "execution_count": null,
      "metadata": {
        "colab": {
          "base_uri": "https://localhost:8080/"
        },
        "id": "Jkw74tM0ioq_",
        "outputId": "e4370e89-d480-4484-d1e8-977858d20840"
      },
      "outputs": [
        {
          "name": "stdout",
          "output_type": "stream",
          "text": [
            "9600 9600 2400 2400\n"
          ]
        }
      ],
      "source": [
        "print(len(x_train), len(y_train), len(x_test), len(y_test))"
      ]
    },
    {
      "cell_type": "code",
      "execution_count": null,
      "metadata": {
        "colab": {
          "base_uri": "https://localhost:8080/"
        },
        "id": "P4MPwS0Ite24",
        "outputId": "a655a7a8-ff62-4837-c495-4e7e212be22a"
      },
      "outputs": [
        {
          "name": "stdout",
          "output_type": "stream",
          "text": [
            "Epoch 1/400\n",
            "300/300 [==============================] - 10s 17ms/step - loss: 0.3879 - accuracy: 0.8416 - val_loss: 0.2614 - val_accuracy: 0.9067\n",
            "Epoch 2/400\n",
            "300/300 [==============================] - 4s 14ms/step - loss: 0.2460 - accuracy: 0.9048 - val_loss: 0.2162 - val_accuracy: 0.9142\n",
            "Epoch 3/400\n",
            "300/300 [==============================] - 4s 14ms/step - loss: 0.2120 - accuracy: 0.9156 - val_loss: 0.1873 - val_accuracy: 0.9258\n",
            "Epoch 4/400\n",
            "300/300 [==============================] - 4s 13ms/step - loss: 0.1933 - accuracy: 0.9232 - val_loss: 0.1792 - val_accuracy: 0.9354\n",
            "Epoch 5/400\n",
            "300/300 [==============================] - 4s 13ms/step - loss: 0.1811 - accuracy: 0.9272 - val_loss: 0.1663 - val_accuracy: 0.9362\n",
            "Epoch 6/400\n",
            "300/300 [==============================] - 4s 13ms/step - loss: 0.1706 - accuracy: 0.9321 - val_loss: 0.1599 - val_accuracy: 0.9383\n",
            "Epoch 7/400\n",
            "300/300 [==============================] - 4s 13ms/step - loss: 0.1606 - accuracy: 0.9365 - val_loss: 0.1552 - val_accuracy: 0.9396\n",
            "Epoch 8/400\n",
            "300/300 [==============================] - 4s 12ms/step - loss: 0.1532 - accuracy: 0.9388 - val_loss: 0.1535 - val_accuracy: 0.9442\n",
            "Epoch 9/400\n",
            "300/300 [==============================] - 4s 14ms/step - loss: 0.1456 - accuracy: 0.9428 - val_loss: 0.1490 - val_accuracy: 0.9404\n",
            "Epoch 10/400\n",
            "300/300 [==============================] - 4s 14ms/step - loss: 0.1389 - accuracy: 0.9440 - val_loss: 0.1440 - val_accuracy: 0.9483\n",
            "Epoch 11/400\n",
            "300/300 [==============================] - 4s 14ms/step - loss: 0.1327 - accuracy: 0.9475 - val_loss: 0.1405 - val_accuracy: 0.9458\n",
            "Epoch 12/400\n",
            "300/300 [==============================] - 4s 13ms/step - loss: 0.1266 - accuracy: 0.9481 - val_loss: 0.1373 - val_accuracy: 0.9483\n",
            "Epoch 13/400\n",
            "300/300 [==============================] - 4s 13ms/step - loss: 0.1218 - accuracy: 0.9521 - val_loss: 0.1344 - val_accuracy: 0.9483\n",
            "Epoch 14/400\n",
            "300/300 [==============================] - 4s 12ms/step - loss: 0.1160 - accuracy: 0.9551 - val_loss: 0.1323 - val_accuracy: 0.9488\n",
            "Epoch 15/400\n",
            "300/300 [==============================] - 4s 13ms/step - loss: 0.1115 - accuracy: 0.9578 - val_loss: 0.1305 - val_accuracy: 0.9504\n",
            "Epoch 16/400\n",
            "300/300 [==============================] - 4s 14ms/step - loss: 0.1066 - accuracy: 0.9607 - val_loss: 0.1299 - val_accuracy: 0.9521\n",
            "Epoch 17/400\n",
            "300/300 [==============================] - 4s 13ms/step - loss: 0.1030 - accuracy: 0.9609 - val_loss: 0.1336 - val_accuracy: 0.9467\n",
            "Epoch 18/400\n",
            "300/300 [==============================] - 4s 14ms/step - loss: 0.0992 - accuracy: 0.9640 - val_loss: 0.1278 - val_accuracy: 0.9533\n",
            "Epoch 19/400\n",
            "300/300 [==============================] - 4s 13ms/step - loss: 0.0957 - accuracy: 0.9644 - val_loss: 0.1266 - val_accuracy: 0.9521\n",
            "Epoch 20/400\n",
            "300/300 [==============================] - 4s 14ms/step - loss: 0.0918 - accuracy: 0.9674 - val_loss: 0.1283 - val_accuracy: 0.9517\n",
            "Epoch 21/400\n",
            "300/300 [==============================] - 4s 14ms/step - loss: 0.0886 - accuracy: 0.9688 - val_loss: 0.1251 - val_accuracy: 0.9533\n",
            "Epoch 22/400\n",
            "300/300 [==============================] - 4s 14ms/step - loss: 0.0857 - accuracy: 0.9682 - val_loss: 0.1229 - val_accuracy: 0.9538\n",
            "Epoch 23/400\n",
            "300/300 [==============================] - 4s 15ms/step - loss: 0.0827 - accuracy: 0.9714 - val_loss: 0.1217 - val_accuracy: 0.9533\n",
            "Epoch 24/400\n",
            "300/300 [==============================] - 4s 13ms/step - loss: 0.0797 - accuracy: 0.9729 - val_loss: 0.1207 - val_accuracy: 0.9538\n",
            "Epoch 25/400\n",
            "300/300 [==============================] - 4s 13ms/step - loss: 0.0771 - accuracy: 0.9732 - val_loss: 0.1205 - val_accuracy: 0.9529\n",
            "Epoch 26/400\n",
            "300/300 [==============================] - 4s 13ms/step - loss: 0.0741 - accuracy: 0.9752 - val_loss: 0.1208 - val_accuracy: 0.9563\n",
            "Epoch 27/400\n",
            "300/300 [==============================] - 4s 14ms/step - loss: 0.0721 - accuracy: 0.9761 - val_loss: 0.1197 - val_accuracy: 0.9558\n",
            "Epoch 28/400\n",
            "300/300 [==============================] - 4s 13ms/step - loss: 0.0694 - accuracy: 0.9775 - val_loss: 0.1191 - val_accuracy: 0.9554\n",
            "Epoch 29/400\n",
            "300/300 [==============================] - 4s 12ms/step - loss: 0.0670 - accuracy: 0.9785 - val_loss: 0.1197 - val_accuracy: 0.9542\n",
            "Epoch 30/400\n",
            "300/300 [==============================] - 4s 13ms/step - loss: 0.0652 - accuracy: 0.9785 - val_loss: 0.1198 - val_accuracy: 0.9575\n",
            "Epoch 31/400\n",
            "300/300 [==============================] - 4s 12ms/step - loss: 0.0631 - accuracy: 0.9802 - val_loss: 0.1186 - val_accuracy: 0.9579\n",
            "Epoch 32/400\n",
            "300/300 [==============================] - 4s 12ms/step - loss: 0.0612 - accuracy: 0.9821 - val_loss: 0.1191 - val_accuracy: 0.9583\n",
            "Epoch 33/400\n",
            "300/300 [==============================] - 4s 14ms/step - loss: 0.0592 - accuracy: 0.9825 - val_loss: 0.1183 - val_accuracy: 0.9583\n",
            "Epoch 34/400\n",
            "300/300 [==============================] - 4s 13ms/step - loss: 0.0573 - accuracy: 0.9826 - val_loss: 0.1215 - val_accuracy: 0.9575\n",
            "Epoch 35/400\n",
            "300/300 [==============================] - 4s 12ms/step - loss: 0.0559 - accuracy: 0.9833 - val_loss: 0.1186 - val_accuracy: 0.9546\n",
            "Epoch 36/400\n",
            "300/300 [==============================] - 4s 12ms/step - loss: 0.0544 - accuracy: 0.9841 - val_loss: 0.1182 - val_accuracy: 0.9571\n",
            "Epoch 37/400\n",
            "300/300 [==============================] - 4s 13ms/step - loss: 0.0524 - accuracy: 0.9850 - val_loss: 0.1185 - val_accuracy: 0.9575\n",
            "Epoch 38/400\n",
            "300/300 [==============================] - 4s 13ms/step - loss: 0.0512 - accuracy: 0.9862 - val_loss: 0.1182 - val_accuracy: 0.9563\n",
            "Epoch 39/400\n",
            "300/300 [==============================] - 4s 13ms/step - loss: 0.0501 - accuracy: 0.9857 - val_loss: 0.1228 - val_accuracy: 0.9583\n",
            "Epoch 40/400\n",
            "300/300 [==============================] - 4s 13ms/step - loss: 0.0481 - accuracy: 0.9873 - val_loss: 0.1205 - val_accuracy: 0.9592\n",
            "Epoch 41/400\n",
            "300/300 [==============================] - 4s 15ms/step - loss: 0.0463 - accuracy: 0.9882 - val_loss: 0.1190 - val_accuracy: 0.9563\n"
          ]
        }
      ],
      "source": [
        "# Model Training\n",
        "train_model = model.fit(np.array(x_train), np.array(y_train), epochs=400, validation_data=(np.array(x_test), np.array(y_test)), batch_size=32,  callbacks=[early_stopping])"
      ]
    },
    {
      "cell_type": "code",
      "execution_count": null,
      "metadata": {
        "id": "9-gpSKNsmcHz"
      },
      "outputs": [],
      "source": [
        "import matplotlib.pyplot as plt"
      ]
    },
    {
      "cell_type": "code",
      "execution_count": null,
      "metadata": {
        "colab": {
          "base_uri": "https://localhost:8080/"
        },
        "id": "CwfIuFclmSQb",
        "outputId": "ddc72cb1-364c-4151-910f-56f8fb5425ef"
      },
      "outputs": [
        {
          "name": "stdout",
          "output_type": "stream",
          "text": [
            "dict_keys(['loss', 'accuracy', 'val_loss', 'val_accuracy'])\n"
          ]
        }
      ],
      "source": [
        "# List all data in history\n",
        "print(train_model.history.keys())"
      ]
    },
    {
      "cell_type": "code",
      "execution_count": null,
      "metadata": {
        "colab": {
          "base_uri": "https://localhost:8080/",
          "height": 472
        },
        "id": "0UGCqngGmT0M",
        "outputId": "591f1235-fccd-4164-c0d6-2f4130649c3b"
      },
      "outputs": [
        {
          "data": {
            "image/png": "[encoded data removed]",
            "text/plain": [
              "<Figure size 640x480 with 1 Axes>"
            ]
          },
          "metadata": {},
          "output_type": "display_data"
        }
      ],
      "source": [
        "# Model's accuracy history\n",
        "plt.plot(train_model.history['accuracy'])\n",
        "plt.plot(train_model.history['val_accuracy'])\n",
        "plt.title('model accuracy')\n",
        "plt.ylabel('accuracy')\n",
        "plt.xlabel('epoch')\n",
        "plt.legend(['train', 'test'], loc='upper left')\n",
        "plt.show()"
      ]
    },
    {
      "cell_type": "code",
      "execution_count": null,
      "metadata": {
        "colab": {
          "base_uri": "https://localhost:8080/",
          "height": 472
        },
        "id": "dJe0a04nmVY2",
        "outputId": "6241c8d9-85f6-4b46-fd96-32aac29dbd98"
      },
      "outputs": [
        {
          "data": {
            "image/png": "[encoded data removed]",
            "text/plain": [
              "<Figure size 640x480 with 1 Axes>"
            ]
          },
          "metadata": {},
          "output_type": "display_data"
        }
      ],
      "source": [
        "# Model's loss history\n",
        "plt.plot(train_model.history['loss'])\n",
        "plt.plot(train_model.history['val_loss'])\n",
        "plt.title('model loss')\n",
        "plt.ylabel('loss')\n",
        "plt.xlabel('epoch')\n",
        "plt.legend(['train', 'test'], loc='upper left')\n",
        "plt.show()"
      ]
    },
    {
      "cell_type": "code",
      "execution_count": null,
      "metadata": {
        "colab": {
          "base_uri": "https://localhost:8080/"
        },
        "id": "pTvBdoDJms0E",
        "outputId": "02551482-b814-48d4-fc99-be8d65437986"
      },
      "outputs": [
        {
          "name": "stdout",
          "output_type": "stream",
          "text": [
            "75/75 [==============================] - 1s 6ms/step\n"
          ]
        },
        {
          "data": {
            "text/plain": [
              "array([[9.9999750e-01],\n",
              "       [1.2291989e-02],\n",
              "       [1.8567842e-03],\n",
              "       ...,\n",
              "       [1.0867087e-04],\n",
              "       [9.9999881e-01],\n",
              "       [3.1027559e-03]], dtype=float32)"
            ]
          },
          "execution_count": 43,
          "metadata": {},
          "output_type": "execute_result"
        }
      ],
      "source": [
        "# Predict the model's result with test data\n",
        "pred = model.predict(x_test)\n",
        "pred"
      ]
    },
    {
      "cell_type": "code",
      "execution_count": null,
      "metadata": {
        "colab": {
          "base_uri": "https://localhost:8080/"
        },
        "id": "ZbUCoML8qmOY",
        "outputId": "bc1b6755-2adf-475d-9183-5b9d8ffd3aa4"
      },
      "outputs": [
        {
          "data": {
            "text/plain": [
              "array([[1.],\n",
              "       [0.],\n",
              "       [0.],\n",
              "       ...,\n",
              "       [0.],\n",
              "       [1.],\n",
              "       [0.]], dtype=float32)"
            ]
          },
          "execution_count": 44,
          "metadata": {},
          "output_type": "execute_result"
        }
      ],
      "source": [
        "# Round the result to 0 or 1\n",
        "pred= np.round(pred)\n",
        "pred"
      ]
    },
    {
      "cell_type": "code",
      "execution_count": null,
      "metadata": {
        "colab": {
          "base_uri": "https://localhost:8080/"
        },
        "id": "P-ZWEkirnMT-",
        "outputId": "9caff33d-70fa-45cd-ff41-63cd3c377a1a"
      },
      "outputs": [
        {
          "name": "stdout",
          "output_type": "stream",
          "text": [
            "              precision    recall  f1-score   support\n",
            "\n",
            "           0       0.96      0.97      0.97      1648\n",
            "           1       0.94      0.92      0.93       752\n",
            "\n",
            "    accuracy                           0.96      2400\n",
            "   macro avg       0.95      0.95      0.95      2400\n",
            "weighted avg       0.96      0.96      0.96      2400\n",
            "\n"
          ]
        }
      ],
      "source": [
        "print(classification_report(y_test, pred))"
      ]
    },
    {
      "cell_type": "code",
      "execution_count": null,
      "metadata": {
        "id": "9u5xV6Em5g0H"
      },
      "outputs": [],
      "source": [
        "# Save Model\n",
        "# model.save('drive/MyDrive/Text Mining/TF-IDF Bi-LSTM 1.keras')\n",
        "# model.save_weights('drive/MyDrive/Text Mining/Weight TF-IDF Bi-LSTM 1')"
      ]
    },
    {
      "cell_type": "markdown",
      "metadata": {
        "id": "SHcI6vRJxbFy"
      },
      "source": [
        "# Train Model SVM"
      ]
    },
    {
      "cell_type": "code",
      "execution_count": null,
      "metadata": {
        "colab": {
          "base_uri": "https://localhost:8080/",
          "height": 74
        },
        "id": "guJ8HUNtDK-Z",
        "outputId": "e333b516-1ee0-41cd-a422-a9d14510a620"
      },
      "outputs": [
        {
          "data": {
            "text/html": [
              "<style>#sk-container-id-1 {color: black;background-color: white;}#sk-container-id-1 pre{padding: 0;}#sk-container-id-1 div.sk-toggleable {background-color: white;}#sk-container-id-1 label.sk-toggleable__label {cursor: pointer;display: block;width: 100%;margin-bottom: 0;padding: 0.3em;box-sizing: border-box;text-align: center;}#sk-container-id-1 label.sk-toggleable__label-arrow:before {content: \"▸\";float: left;margin-right: 0.25em;color: #696969;}#sk-container-id-1 label.sk-toggleable__label-arrow:hover:before {color: black;}#sk-container-id-1 div.sk-estimator:hover label.sk-toggleable__label-arrow:before {color: black;}#sk-container-id-1 div.sk-toggleable__content {max-height: 0;max-width: 0;overflow: hidden;text-align: left;background-color: #f0f8ff;}#sk-container-id-1 div.sk-toggleable__content pre {margin: 0.2em;color: black;border-radius: 0.25em;background-color: #f0f8ff;}#sk-container-id-1 input.sk-toggleable__control:checked~div.sk-toggleable__content {max-height: 200px;max-width: 100%;overflow: auto;}#sk-container-id-1 input.sk-toggleable__control:checked~label.sk-toggleable__label-arrow:before {content: \"▾\";}#sk-container-id-1 div.sk-estimator input.sk-toggleable__control:checked~label.sk-toggleable__label {background-color: #d4ebff;}#sk-container-id-1 div.sk-label input.sk-toggleable__control:checked~label.sk-toggleable__label {background-color: #d4ebff;}#sk-container-id-1 input.sk-hidden--visually {border: 0;clip: rect(1px 1px 1px 1px);clip: rect(1px, 1px, 1px, 1px);height: 1px;margin: -1px;overflow: hidden;padding: 0;position: absolute;width: 1px;}#sk-container-id-1 div.sk-estimator {font-family: monospace;background-color: #f0f8ff;border: 1px dotted black;border-radius: 0.25em;box-sizing: border-box;margin-bottom: 0.5em;}#sk-container-id-1 div.sk-estimator:hover {background-color: #d4ebff;}#sk-container-id-1 div.sk-parallel-item::after {content: \"\";width: 100%;border-bottom: 1px solid gray;flex-grow: 1;}#sk-container-id-1 div.sk-label:hover label.sk-toggleable__label {background-color: #d4ebff;}#sk-container-id-1 div.sk-serial::before {content: \"\";position: absolute;border-left: 1px solid gray;box-sizing: border-box;top: 0;bottom: 0;left: 50%;z-index: 0;}#sk-container-id-1 div.sk-serial {display: flex;flex-direction: column;align-items: center;background-color: white;padding-right: 0.2em;padding-left: 0.2em;position: relative;}#sk-container-id-1 div.sk-item {position: relative;z-index: 1;}#sk-container-id-1 div.sk-parallel {display: flex;align-items: stretch;justify-content: center;background-color: white;position: relative;}#sk-container-id-1 div.sk-item::before, #sk-container-id-1 div.sk-parallel-item::before {content: \"\";position: absolute;border-left: 1px solid gray;box-sizing: border-box;top: 0;bottom: 0;left: 50%;z-index: -1;}#sk-container-id-1 div.sk-parallel-item {display: flex;flex-direction: column;z-index: 1;position: relative;background-color: white;}#sk-container-id-1 div.sk-parallel-item:first-child::after {align-self: flex-end;width: 50%;}#sk-container-id-1 div.sk-parallel-item:last-child::after {align-self: flex-start;width: 50%;}#sk-container-id-1 div.sk-parallel-item:only-child::after {width: 0;}#sk-container-id-1 div.sk-dashed-wrapped {border: 1px dashed gray;margin: 0 0.4em 0.5em 0.4em;box-sizing: border-box;padding-bottom: 0.4em;background-color: white;}#sk-container-id-1 div.sk-label label {font-family: monospace;font-weight: bold;display: inline-block;line-height: 1.2em;}#sk-container-id-1 div.sk-label-container {text-align: center;}#sk-container-id-1 div.sk-container {/* jupyter's `normalize.less` sets `[hidden] { display: none; }` but bootstrap.min.css set `[hidden] { display: none !important; }` so we also need the `!important` here to be able to override the default hidden behavior on the sphinx rendered scikit-learn.org. See: https://github.com/scikit-learn/scikit-learn/issues/21755 */display: inline-block !important;position: relative;}#sk-container-id-1 div.sk-text-repr-fallback {display: none;}</style><div id=\"sk-container-id-1\" class=\"sk-top-container\"><div class=\"sk-text-repr-fallback\"><pre>SVC(random_state=42, verbose=True)</pre><b>In a Jupyter environment, please rerun this cell to show the HTML representation or trust the notebook. <br />On GitHub, the HTML representation is unable to render, please try loading this page with nbviewer.org.</b></div><div class=\"sk-container\" hidden><div class=\"sk-item\"><div class=\"sk-estimator sk-toggleable\"><input class=\"sk-toggleable__control sk-hidden--visually\" id=\"sk-estimator-id-1\" type=\"checkbox\" checked><label for=\"sk-estimator-id-1\" class=\"sk-toggleable__label sk-toggleable__label-arrow\">SVC</label><div class=\"sk-toggleable__content\"><pre>SVC(random_state=42, verbose=True)</pre></div></div></div></div></div>"
            ],
            "text/plain": [
              "SVC(random_state=42, verbose=True)"
            ]
          },
          "execution_count": 49,
          "metadata": {},
          "output_type": "execute_result"
        }
      ],
      "source": [
        "# Create SVM Model\n",
        "from sklearn.svm import SVC\n",
        "SVM = SVC(random_state=42, verbose=True)\n",
        "SVM"
      ]
    },
    {
      "cell_type": "code",
      "execution_count": null,
      "metadata": {
        "colab": {
          "base_uri": "https://localhost:8080/",
          "height": 91
        },
        "id": "9NTpW98-WhuQ",
        "outputId": "f9b8806a-ca91-4436-9bc4-b62319ebcdfe"
      },
      "outputs": [
        {
          "name": "stdout",
          "output_type": "stream",
          "text": [
            "[LibSVM]"
          ]
        },
        {
          "data": {
            "text/html": [
              "<style>#sk-container-id-2 {color: black;background-color: white;}#sk-container-id-2 pre{padding: 0;}#sk-container-id-2 div.sk-toggleable {background-color: white;}#sk-container-id-2 label.sk-toggleable__label {cursor: pointer;display: block;width: 100%;margin-bottom: 0;padding: 0.3em;box-sizing: border-box;text-align: center;}#sk-container-id-2 label.sk-toggleable__label-arrow:before {content: \"▸\";float: left;margin-right: 0.25em;color: #696969;}#sk-container-id-2 label.sk-toggleable__label-arrow:hover:before {color: black;}#sk-container-id-2 div.sk-estimator:hover label.sk-toggleable__label-arrow:before {color: black;}#sk-container-id-2 div.sk-toggleable__content {max-height: 0;max-width: 0;overflow: hidden;text-align: left;background-color: #f0f8ff;}#sk-container-id-2 div.sk-toggleable__content pre {margin: 0.2em;color: black;border-radius: 0.25em;background-color: #f0f8ff;}#sk-container-id-2 input.sk-toggleable__control:checked~div.sk-toggleable__content {max-height: 200px;max-width: 100%;overflow: auto;}#sk-container-id-2 input.sk-toggleable__control:checked~label.sk-toggleable__label-arrow:before {content: \"▾\";}#sk-container-id-2 div.sk-estimator input.sk-toggleable__control:checked~label.sk-toggleable__label {background-color: #d4ebff;}#sk-container-id-2 div.sk-label input.sk-toggleable__control:checked~label.sk-toggleable__label {background-color: #d4ebff;}#sk-container-id-2 input.sk-hidden--visually {border: 0;clip: rect(1px 1px 1px 1px);clip: rect(1px, 1px, 1px, 1px);height: 1px;margin: -1px;overflow: hidden;padding: 0;position: absolute;width: 1px;}#sk-container-id-2 div.sk-estimator {font-family: monospace;background-color: #f0f8ff;border: 1px dotted black;border-radius: 0.25em;box-sizing: border-box;margin-bottom: 0.5em;}#sk-container-id-2 div.sk-estimator:hover {background-color: #d4ebff;}#sk-container-id-2 div.sk-parallel-item::after {content: \"\";width: 100%;border-bottom: 1px solid gray;flex-grow: 1;}#sk-container-id-2 div.sk-label:hover label.sk-toggleable__label {background-color: #d4ebff;}#sk-container-id-2 div.sk-serial::before {content: \"\";position: absolute;border-left: 1px solid gray;box-sizing: border-box;top: 0;bottom: 0;left: 50%;z-index: 0;}#sk-container-id-2 div.sk-serial {display: flex;flex-direction: column;align-items: center;background-color: white;padding-right: 0.2em;padding-left: 0.2em;position: relative;}#sk-container-id-2 div.sk-item {position: relative;z-index: 1;}#sk-container-id-2 div.sk-parallel {display: flex;align-items: stretch;justify-content: center;background-color: white;position: relative;}#sk-container-id-2 div.sk-item::before, #sk-container-id-2 div.sk-parallel-item::before {content: \"\";position: absolute;border-left: 1px solid gray;box-sizing: border-box;top: 0;bottom: 0;left: 50%;z-index: -1;}#sk-container-id-2 div.sk-parallel-item {display: flex;flex-direction: column;z-index: 1;position: relative;background-color: white;}#sk-container-id-2 div.sk-parallel-item:first-child::after {align-self: flex-end;width: 50%;}#sk-container-id-2 div.sk-parallel-item:last-child::after {align-self: flex-start;width: 50%;}#sk-container-id-2 div.sk-parallel-item:only-child::after {width: 0;}#sk-container-id-2 div.sk-dashed-wrapped {border: 1px dashed gray;margin: 0 0.4em 0.5em 0.4em;box-sizing: border-box;padding-bottom: 0.4em;background-color: white;}#sk-container-id-2 div.sk-label label {font-family: monospace;font-weight: bold;display: inline-block;line-height: 1.2em;}#sk-container-id-2 div.sk-label-container {text-align: center;}#sk-container-id-2 div.sk-container {/* jupyter's `normalize.less` sets `[hidden] { display: none; }` but bootstrap.min.css set `[hidden] { display: none !important; }` so we also need the `!important` here to be able to override the default hidden behavior on the sphinx rendered scikit-learn.org. See: https://github.com/scikit-learn/scikit-learn/issues/21755 */display: inline-block !important;position: relative;}#sk-container-id-2 div.sk-text-repr-fallback {display: none;}</style><div id=\"sk-container-id-2\" class=\"sk-top-container\"><div class=\"sk-text-repr-fallback\"><pre>SVC(random_state=42, verbose=True)</pre><b>In a Jupyter environment, please rerun this cell to show the HTML representation or trust the notebook. <br />On GitHub, the HTML representation is unable to render, please try loading this page with nbviewer.org.</b></div><div class=\"sk-container\" hidden><div class=\"sk-item\"><div class=\"sk-estimator sk-toggleable\"><input class=\"sk-toggleable__control sk-hidden--visually\" id=\"sk-estimator-id-2\" type=\"checkbox\" checked><label for=\"sk-estimator-id-2\" class=\"sk-toggleable__label sk-toggleable__label-arrow\">SVC</label><div class=\"sk-toggleable__content\"><pre>SVC(random_state=42, verbose=True)</pre></div></div></div></div></div>"
            ],
            "text/plain": [
              "SVC(random_state=42, verbose=True)"
            ]
          },
          "execution_count": 51,
          "metadata": {},
          "output_type": "execute_result"
        }
      ],
      "source": [
        "# Model Training\n",
        "SVM.fit(TFIDF_train, y_train)"
      ]
    },
    {
      "cell_type": "code",
      "execution_count": null,
      "metadata": {
        "colab": {
          "base_uri": "https://localhost:8080/"
        },
        "id": "Vbp1IGBZcUB-",
        "outputId": "9a7cc9d0-db30-45e1-d9d2-d81fd5da4e11"
      },
      "outputs": [
        {
          "name": "stdout",
          "output_type": "stream",
          "text": [
            "N Features: 16697\n",
            "N Iterations: [5413]\n",
            "N [2338 1250]\n"
          ]
        }
      ],
      "source": [
        "# Print the best features from the SVM Model that has been trained\n",
        "print('N Features:', SVM.n_features_in_)\n",
        "print('N Iterations:', SVM.n_iter_) # Number of iterations\n",
        "print('N', SVM.n_support_) # Number of support vectors per class"
      ]
    },
    {
      "cell_type": "code",
      "execution_count": null,
      "metadata": {
        "colab": {
          "base_uri": "https://localhost:8080/"
        },
        "id": "ZzZfh13bEYYn",
        "outputId": "a3fde541-cd77-4e5f-87e0-78474d5ebf8c"
      },
      "outputs": [
        {
          "name": "stdout",
          "output_type": "stream",
          "text": [
            "              precision    recall  f1-score   support\n",
            "\n",
            "           0       0.96      0.98      0.97      1648\n",
            "           1       0.96      0.90      0.93       752\n",
            "\n",
            "    accuracy                           0.96      2400\n",
            "   macro avg       0.96      0.94      0.95      2400\n",
            "weighted avg       0.96      0.96      0.96      2400\n",
            "\n"
          ]
        }
      ],
      "source": [
        "# Predict the model's result with test data\n",
        "SVMPred = SVM.predict(TFIDF_test)\n",
        "print(classification_report(y_test, SVMPred))"
      ]
    },
    {
      "cell_type": "markdown",
      "metadata": {
        "id": "FS4lCTewEcav"
      },
      "source": [
        "# Train Model Random Forest Classifier"
      ]
    },
    {
      "cell_type": "code",
      "execution_count": null,
      "metadata": {
        "colab": {
          "base_uri": "https://localhost:8080/",
          "height": 91
        },
        "id": "67Bbx_1xEdsr",
        "outputId": "c32def96-3086-4f43-c12d-b7113e1845fb"
      },
      "outputs": [
        {
          "name": "stderr",
          "output_type": "stream",
          "text": [
            "[Parallel(n_jobs=1)]: Done  49 tasks      | elapsed:   16.7s\n"
          ]
        },
        {
          "data": {
            "text/html": [
              "<style>#sk-container-id-3 {color: black;background-color: white;}#sk-container-id-3 pre{padding: 0;}#sk-container-id-3 div.sk-toggleable {background-color: white;}#sk-container-id-3 label.sk-toggleable__label {cursor: pointer;display: block;width: 100%;margin-bottom: 0;padding: 0.3em;box-sizing: border-box;text-align: center;}#sk-container-id-3 label.sk-toggleable__label-arrow:before {content: \"▸\";float: left;margin-right: 0.25em;color: #696969;}#sk-container-id-3 label.sk-toggleable__label-arrow:hover:before {color: black;}#sk-container-id-3 div.sk-estimator:hover label.sk-toggleable__label-arrow:before {color: black;}#sk-container-id-3 div.sk-toggleable__content {max-height: 0;max-width: 0;overflow: hidden;text-align: left;background-color: #f0f8ff;}#sk-container-id-3 div.sk-toggleable__content pre {margin: 0.2em;color: black;border-radius: 0.25em;background-color: #f0f8ff;}#sk-container-id-3 input.sk-toggleable__control:checked~div.sk-toggleable__content {max-height: 200px;max-width: 100%;overflow: auto;}#sk-container-id-3 input.sk-toggleable__control:checked~label.sk-toggleable__label-arrow:before {content: \"▾\";}#sk-container-id-3 div.sk-estimator input.sk-toggleable__control:checked~label.sk-toggleable__label {background-color: #d4ebff;}#sk-container-id-3 div.sk-label input.sk-toggleable__control:checked~label.sk-toggleable__label {background-color: #d4ebff;}#sk-container-id-3 input.sk-hidden--visually {border: 0;clip: rect(1px 1px 1px 1px);clip: rect(1px, 1px, 1px, 1px);height: 1px;margin: -1px;overflow: hidden;padding: 0;position: absolute;width: 1px;}#sk-container-id-3 div.sk-estimator {font-family: monospace;background-color: #f0f8ff;border: 1px dotted black;border-radius: 0.25em;box-sizing: border-box;margin-bottom: 0.5em;}#sk-container-id-3 div.sk-estimator:hover {background-color: #d4ebff;}#sk-container-id-3 div.sk-parallel-item::after {content: \"\";width: 100%;border-bottom: 1px solid gray;flex-grow: 1;}#sk-container-id-3 div.sk-label:hover label.sk-toggleable__label {background-color: #d4ebff;}#sk-container-id-3 div.sk-serial::before {content: \"\";position: absolute;border-left: 1px solid gray;box-sizing: border-box;top: 0;bottom: 0;left: 50%;z-index: 0;}#sk-container-id-3 div.sk-serial {display: flex;flex-direction: column;align-items: center;background-color: white;padding-right: 0.2em;padding-left: 0.2em;position: relative;}#sk-container-id-3 div.sk-item {position: relative;z-index: 1;}#sk-container-id-3 div.sk-parallel {display: flex;align-items: stretch;justify-content: center;background-color: white;position: relative;}#sk-container-id-3 div.sk-item::before, #sk-container-id-3 div.sk-parallel-item::before {content: \"\";position: absolute;border-left: 1px solid gray;box-sizing: border-box;top: 0;bottom: 0;left: 50%;z-index: -1;}#sk-container-id-3 div.sk-parallel-item {display: flex;flex-direction: column;z-index: 1;position: relative;background-color: white;}#sk-container-id-3 div.sk-parallel-item:first-child::after {align-self: flex-end;width: 50%;}#sk-container-id-3 div.sk-parallel-item:last-child::after {align-self: flex-start;width: 50%;}#sk-container-id-3 div.sk-parallel-item:only-child::after {width: 0;}#sk-container-id-3 div.sk-dashed-wrapped {border: 1px dashed gray;margin: 0 0.4em 0.5em 0.4em;box-sizing: border-box;padding-bottom: 0.4em;background-color: white;}#sk-container-id-3 div.sk-label label {font-family: monospace;font-weight: bold;display: inline-block;line-height: 1.2em;}#sk-container-id-3 div.sk-label-container {text-align: center;}#sk-container-id-3 div.sk-container {/* jupyter's `normalize.less` sets `[hidden] { display: none; }` but bootstrap.min.css set `[hidden] { display: none !important; }` so we also need the `!important` here to be able to override the default hidden behavior on the sphinx rendered scikit-learn.org. See: https://github.com/scikit-learn/scikit-learn/issues/21755 */display: inline-block !important;position: relative;}#sk-container-id-3 div.sk-text-repr-fallback {display: none;}</style><div id=\"sk-container-id-3\" class=\"sk-top-container\"><div class=\"sk-text-repr-fallback\"><pre>RandomForestClassifier(verbose=1)</pre><b>In a Jupyter environment, please rerun this cell to show the HTML representation or trust the notebook. <br />On GitHub, the HTML representation is unable to render, please try loading this page with nbviewer.org.</b></div><div class=\"sk-container\" hidden><div class=\"sk-item\"><div class=\"sk-estimator sk-toggleable\"><input class=\"sk-toggleable__control sk-hidden--visually\" id=\"sk-estimator-id-3\" type=\"checkbox\" checked><label for=\"sk-estimator-id-3\" class=\"sk-toggleable__label sk-toggleable__label-arrow\">RandomForestClassifier</label><div class=\"sk-toggleable__content\"><pre>RandomForestClassifier(verbose=1)</pre></div></div></div></div></div>"
            ],
            "text/plain": [
              "RandomForestClassifier(verbose=1)"
            ]
          },
          "execution_count": 67,
          "metadata": {},
          "output_type": "execute_result"
        }
      ],
      "source": [
        "# Create Random Forest Classifier Model\n",
        "from sklearn.ensemble import RandomForestClassifier\n",
        "RF=RandomForestClassifier(verbose=1)\n",
        "RF.fit(TFIDF_train, y_train)"
      ]
    },
    {
      "cell_type": "code",
      "execution_count": null,
      "metadata": {
        "colab": {
          "base_uri": "https://localhost:8080/"
        },
        "id": "1MTG3noierH6",
        "outputId": "a34b2266-4c34-4b1c-bd44-fd6d7f3bb85a"
      },
      "outputs": [
        {
          "name": "stdout",
          "output_type": "stream",
          "text": [
            "N Features: 16697\n",
            "N Iterations: None\n",
            "Feature Importances: [0.00000000e+00 0.00000000e+00 0.00000000e+00 ... 1.39381416e-05\n",
            " 2.69316379e-05 0.00000000e+00]\n"
          ]
        }
      ],
      "source": [
        "# Print the best features from the Random Forest Classifier Model that has been trained\n",
        "print('N Features:', RF.n_features_in_)\n",
        "print('N Iterations:', RF.max_samples)\n",
        "print('Feature Importances:', RF.feature_importances_)"
      ]
    },
    {
      "cell_type": "code",
      "execution_count": null,
      "metadata": {
        "colab": {
          "base_uri": "https://localhost:8080/"
        },
        "id": "y5nymk2aEwz1",
        "outputId": "307d8aa5-13a5-4968-a457-d2b153e6b45b"
      },
      "outputs": [
        {
          "name": "stdout",
          "output_type": "stream",
          "text": [
            "              precision    recall  f1-score   support\n",
            "\n",
            "           0       0.94      0.98      0.96      1648\n",
            "           1       0.95      0.87      0.91       752\n",
            "\n",
            "    accuracy                           0.95      2400\n",
            "   macro avg       0.95      0.93      0.94      2400\n",
            "weighted avg       0.95      0.95      0.95      2400\n",
            "\n"
          ]
        },
        {
          "name": "stderr",
          "output_type": "stream",
          "text": [
            "[Parallel(n_jobs=1)]: Done  49 tasks      | elapsed:    0.1s\n"
          ]
        }
      ],
      "source": [
        "# Predict the model's result with test data\n",
        "RFPred = RF.predict(TFIDF_test)\n",
        "print(classification_report(y_test, RFPred))"
      ]
    },
    {
      "cell_type": "code",
      "execution_count": null,
      "metadata": {
        "colab": {
          "base_uri": "https://localhost:8080/"
        },
        "id": "N4fBeCZKPAqG",
        "outputId": "5a50df09-2a13-4c06-f264-b8380614acaa"
      },
      "outputs": [
        {
          "data": {
            "text/plain": [
              "['drive/MyDrive/Text Mining/RF.pkl']"
            ]
          },
          "execution_count": 62,
          "metadata": {},
          "output_type": "execute_result"
        }
      ],
      "source": [
        "# Save Model\n",
        "# import joblib\n",
        "# joblib.dump(SVM, 'drive/MyDrive/Text Mining/svm.pkl')\n",
        "# joblib.dump(RF, 'drive/MyDrive/Text Mining/RF.pkl')"
      ]
    },
    {
      "cell_type": "code",
      "execution_count": null,
      "metadata": {
        "id": "RoxoJtuGiWcE"
      },
      "outputs": [],
      "source": [
        "# Clear session\n",
        "tf.keras.backend.clear_session()"
      ]
    }
  ],
  "metadata": {
    "accelerator": "GPU",
    "colab": {
      "collapsed_sections": [
        "eIBTkvzWwYpB",
        "JIP4vIcZhTsQ",
        "BPAbL3EOkkh_",
        "jved9KHvmJS3",
        "pvd8AXg1o7Fg",
        "Q5OoU1ltsSoI",
        "SHcI6vRJxbFy",
        "FS4lCTewEcav"
      ],
      "gpuType": "T4",
      "provenance": []
    },
    "kernelspec": {
      "display_name": "Python 3",
      "name": "python3"
    },
    "language_info": {
      "name": "python"
    }
  },
  "nbformat": 4,
  "nbformat_minor": 0
}
